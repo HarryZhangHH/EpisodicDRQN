{
 "cells": [
  {
   "cell_type": "code",
   "execution_count": 8,
   "metadata": {},
   "outputs": [],
   "source": [
    "import torch\n",
    "import random\n",
    "import numpy as np\n",
    "import pandas as pd\n",
    "import matplotlib.pyplot as plt\n",
    "import copy\n",
    "import seaborn as sns\n",
    "from agent import *\n",
    "from selection import update_convergence_episode\n",
    "from utils import *\n",
    "from component import Environment\n",
    "from simulation import construct_agent, TwoAgentSimulation\n",
    "from main import Config\n",
    "from tqdm import tqdm"
   ]
  },
  {
   "cell_type": "code",
   "execution_count": 9,
   "metadata": {},
   "outputs": [
    {
     "data": {
      "text/plain": [
       "True"
      ]
     },
     "execution_count": 9,
     "metadata": {},
     "output_type": "execute_result"
    }
   ],
   "source": [
    "seed_everything()\n",
    "torch.cuda.is_available()"
   ]
  },
  {
   "attachments": {},
   "cell_type": "markdown",
   "metadata": {},
   "source": [
    "# PD"
   ]
  },
  {
   "cell_type": "code",
   "execution_count": 10,
   "metadata": {},
   "outputs": [],
   "source": [
    "reward, temptation, sucker, punishment = generate_payoff_matrix('PD', N=20)"
   ]
  },
  {
   "cell_type": "code",
   "execution_count": 11,
   "metadata": {},
   "outputs": [],
   "source": [
    "# choices = {'0-alwaysCooperate','1-alwaysDefect','2-titForTat','3-reverseTitForTat','4-random','5-grudger','6-pavlov','7-qLearning','8-lstm-TFT','9-dqn','10-lstmqn','11-a2c','12-a2c-lstm'}\n",
    "# rl_choices = {'7-qLearning','8-lstm-pavlov','9-dqn','10-lstmqn','11-a2c','12-a2c-lstm'}\n",
    "strategies = {0:'ALLC',1:'ALLD',2:'TitForTat',3:'revTitForTat',4:'Random',5:'Grudger',6:'Pavlov',7:'QLearning',8:'LSTM',9:'DQN',10:'LSTMQN',11:'A2C',12:'A2CLSTM'}\n",
    "device = torch.device('cuda' if torch.cuda.is_available() else 'cpu')\n",
    "\n",
    "seed_everything()\n",
    "config = {\n",
    "    'reward': 3, \n",
    "    'sucker': 0, \n",
    "    'temptation': 5, \n",
    "    'punishment': 1, \n",
    "    'n_episodes': 10000, \n",
    "    'discount': 0.99,\n",
    "    'play_epsilon': 1,\n",
    "    'select_epsilon': 1,\n",
    "    'epsilon_decay': 0.995,\n",
    "    'min_epsilon': 0.01,\n",
    "    'alpha': 0.1,\n",
    "    'n_actions': 2,\n",
    "    'h': 5,\n",
    "    'select_h': 5,\n",
    "    'state_repr': 'bi',\n",
    "    'batch_size': 64,\n",
    "    'learning_rate': 1e-3,\n",
    "}\n",
    "\n",
    "df = pd.DataFrame(columns=['agent1_strategy_converge', 'agent1_reward_converge', 'agent1_network_converge', \n",
    "                            'temptation', 'reward', 'punishment', 'sucker', \n",
    "                            'agent1_final_strategy', 'agent1_defection_ratio', 'loss',\n",
    "                            'agent1_playing_times', 'model', 'opponent', 'h', 'epsilon_decay', 'game'])"
   ]
  },
  {
   "cell_type": "code",
   "execution_count": 12,
   "metadata": {},
   "outputs": [],
   "source": [
    "def check_convergence(agents: dict[int, object], thresh: tuple, k: int, last_reward: dict[int, float], test_state: Type.TensorType, test_q_dict: dict, count: int):\n",
    "    strategy_convergent_episode = {}\n",
    "    reward_convergent_episode = {}\n",
    "    network_convergent_episode = {}\n",
    "    thresh_strategy, thresh_reward, thresh_network = thresh[0], thresh[1], thresh[2]\n",
    "\n",
    "    for n in agents:\n",
    "        # Strategy convergence\n",
    "        strategy_convergent = agents[n].determine_convergence(thresh_strategy, k)\n",
    "        if strategy_convergent:\n",
    "            strategy_convergent_episode[n] = agents[n].play_times\n",
    "\n",
    "        # reward convergence\n",
    "        if np.abs(agents[n].running_score-last_reward[n]) <= thresh_reward:\n",
    "            reward_convergent_episode[n] = agents[n].play_times\n",
    "        \n",
    "        # network convergence\n",
    "        with torch.no_grad():\n",
    "            test_q_dict[n][count] = agents[n].policy_net(test_state).to('cpu').detach().numpy()\n",
    "        diff = np.sum(np.diff(test_q_dict[n][count])) - np.sum(np.diff(test_q_dict[n][count-1])) if count>1 else np.inf\n",
    "\n",
    "        if np.abs(diff) <= thresh_network:\n",
    "            network_convergent_episode[n] = agents[n].play_times\n",
    "    return strategy_convergent_episode, reward_convergent_episode, network_convergent_episode"
   ]
  },
  {
   "cell_type": "code",
   "execution_count": 13,
   "metadata": {},
   "outputs": [],
   "source": [
    "h = [1,2,5,7,10]\n",
    "epsilon_decay = [0.95, 0.99, 0.995]\n",
    "num = 2\n",
    "k = 1000\n",
    "\n",
    "thresh_strategy = 15\n",
    "thresh_reward = 2"
   ]
  },
  {
   "attachments": {},
   "cell_type": "markdown",
   "metadata": {},
   "source": [
    "### DQN vs TfT"
   ]
  },
  {
   "cell_type": "code",
   "execution_count": 14,
   "metadata": {
    "scrolled": true
   },
   "outputs": [
    {
     "name": "stdout",
     "output_type": "stream",
     "text": [
      "config: h=1, epsilon_decay=0.95\n"
     ]
    },
    {
     "name": "stderr",
     "output_type": "stream",
     "text": [
      "20it [05:19, 15.99s/it]\n"
     ]
    },
    {
     "name": "stdout",
     "output_type": "stream",
     "text": [
      "config: h=1, epsilon_decay=0.99\n"
     ]
    },
    {
     "name": "stderr",
     "output_type": "stream",
     "text": [
      "20it [10:47, 32.36s/it]\n"
     ]
    },
    {
     "name": "stdout",
     "output_type": "stream",
     "text": [
      "config: h=1, epsilon_decay=0.995\n"
     ]
    },
    {
     "name": "stderr",
     "output_type": "stream",
     "text": [
      "20it [07:56, 23.83s/it]\n"
     ]
    },
    {
     "name": "stdout",
     "output_type": "stream",
     "text": [
      "config: h=2, epsilon_decay=0.95\n"
     ]
    },
    {
     "name": "stderr",
     "output_type": "stream",
     "text": [
      "20it [10:04, 30.22s/it]\n"
     ]
    },
    {
     "name": "stdout",
     "output_type": "stream",
     "text": [
      "config: h=2, epsilon_decay=0.99\n"
     ]
    },
    {
     "name": "stderr",
     "output_type": "stream",
     "text": [
      "20it [08:41, 26.07s/it]\n"
     ]
    },
    {
     "name": "stdout",
     "output_type": "stream",
     "text": [
      "config: h=2, epsilon_decay=0.995\n"
     ]
    },
    {
     "name": "stderr",
     "output_type": "stream",
     "text": [
      "20it [09:44, 29.21s/it]\n"
     ]
    },
    {
     "name": "stdout",
     "output_type": "stream",
     "text": [
      "config: h=5, epsilon_decay=0.95\n"
     ]
    },
    {
     "name": "stderr",
     "output_type": "stream",
     "text": [
      "20it [10:19, 30.96s/it]\n"
     ]
    },
    {
     "name": "stdout",
     "output_type": "stream",
     "text": [
      "config: h=5, epsilon_decay=0.99\n"
     ]
    },
    {
     "name": "stderr",
     "output_type": "stream",
     "text": [
      "20it [10:39, 32.00s/it]\n"
     ]
    },
    {
     "name": "stdout",
     "output_type": "stream",
     "text": [
      "config: h=5, epsilon_decay=0.995\n"
     ]
    },
    {
     "name": "stderr",
     "output_type": "stream",
     "text": [
      "20it [11:18, 33.90s/it]\n"
     ]
    },
    {
     "name": "stdout",
     "output_type": "stream",
     "text": [
      "config: h=7, epsilon_decay=0.95\n"
     ]
    },
    {
     "name": "stderr",
     "output_type": "stream",
     "text": [
      "20it [10:03, 30.16s/it]\n"
     ]
    },
    {
     "name": "stdout",
     "output_type": "stream",
     "text": [
      "config: h=7, epsilon_decay=0.99\n"
     ]
    },
    {
     "name": "stderr",
     "output_type": "stream",
     "text": [
      "20it [09:16, 27.83s/it]\n"
     ]
    },
    {
     "name": "stdout",
     "output_type": "stream",
     "text": [
      "config: h=7, epsilon_decay=0.995\n"
     ]
    },
    {
     "name": "stderr",
     "output_type": "stream",
     "text": [
      "20it [10:38, 31.93s/it]\n"
     ]
    },
    {
     "name": "stdout",
     "output_type": "stream",
     "text": [
      "config: h=10, epsilon_decay=0.95\n"
     ]
    },
    {
     "name": "stderr",
     "output_type": "stream",
     "text": [
      "20it [10:07, 30.36s/it]\n"
     ]
    },
    {
     "name": "stdout",
     "output_type": "stream",
     "text": [
      "config: h=10, epsilon_decay=0.99\n"
     ]
    },
    {
     "name": "stderr",
     "output_type": "stream",
     "text": [
      "20it [10:27, 31.38s/it]\n"
     ]
    },
    {
     "name": "stdout",
     "output_type": "stream",
     "text": [
      "config: h=10, epsilon_decay=0.995\n"
     ]
    },
    {
     "name": "stderr",
     "output_type": "stream",
     "text": [
      "20it [10:46, 32.30s/it]\n"
     ]
    }
   ],
   "source": [
    "rl_num = 9\n",
    "\n",
    "for i in h:\n",
    "    for j in epsilon_decay:\n",
    "        config['h'] = i\n",
    "        config['epsilon_decay'] = j\n",
    "        print(f'config: h={i}, epsilon_decay={j}')\n",
    "\n",
    "        for idx, val in tqdm(enumerate(reward)):\n",
    "            config['reward'], config['sucker'], config['temptation'], config['punishment'] = val, sucker[idx], temptation[idx], punishment[idx]\n",
    "        \n",
    "            config_obj = Config(config)\n",
    "            with HiddenPrints():\n",
    "            # if True:\n",
    "                env = Environment(config_obj)\n",
    "                agent1 = construct_agent(strategies[num], config_obj)\n",
    "                agent2 = construct_agent(strategies[rl_num], config_obj)\n",
    "                agents = {}\n",
    "                agents[1] = agent2   \n",
    "\n",
    "                test_state_list = generate_state(agent2, config_obj.h, config_obj.n_actions)\n",
    "                test_state = torch.stack(list(test_state_list), dim=0).view(len(test_state_list), -1).to(device)\n",
    "                # test_state = torch.stack(test_state_list, dim=0).view(len(test_state_list), config_obj.h, -1).to(device)\n",
    "                for n in agents:\n",
    "                    test_q_dict = {n: {}}\n",
    "                thresh_network = len(test_state_list)/10\n",
    "                thresh = (thresh_strategy, thresh_reward, thresh_network)\n",
    "\n",
    "                count = 0\n",
    "                convergent_episode_dict = {'strategy':{}, 'reward':{}, 'network':{}}\n",
    "                \n",
    "                while True:\n",
    "                    last_reward = {}\n",
    "                    last_reward[1] = agents[1].running_score\n",
    "\n",
    "                    env.play(agent1, agent2, k)\n",
    "                    strategy_convergent_episode, reward_convergent_episode, network_convergent_episode = check_convergence(\n",
    "                        agents, thresh, k, last_reward, test_state, test_q_dict, count)\n",
    "                    count += 1\n",
    "                    update_convergence_episode(convergent_episode_dict, 'strategy', strategy_convergent_episode)\n",
    "                    update_convergence_episode(convergent_episode_dict, 'reward', reward_convergent_episode)\n",
    "                    update_convergence_episode(convergent_episode_dict, 'network', network_convergent_episode)\n",
    "\n",
    "                    if count*k >= config_obj.n_episodes:\n",
    "                        break\n",
    "\n",
    "                    converge = []\n",
    "                    for key, _ in convergent_episode_dict.items():\n",
    "                        converge.append(len(convergent_episode_dict[key]) == len(agents))\n",
    "                    if sum(converge) > 2:\n",
    "                        break\n",
    "                \n",
    "                for key, v in convergent_episode_dict.items():\n",
    "                    if 1 not in list(v.keys()):\n",
    "                        convergent_episode_dict[key][1] = np.nan\n",
    "            \n",
    "            df.loc[len(df.index)]= [convergent_episode_dict['strategy'][1], convergent_episode_dict['reward'][1], convergent_episode_dict['network'][1], \n",
    "                                    config['temptation'], config['reward'], config['punishment'], config['sucker'], \n",
    "                                    round(float(torch.sum(agent2.own_memory[agent2.play_times-100:agent2.play_times])/100)),\n",
    "                                    float(torch.sum(agent2.own_memory)/agent2.play_times), np.mean(agent2.loss),\n",
    "                                    agent2.play_times, agent2.name, agent1.name, config['h'], config['epsilon_decay'], 'PD']\n",
    "\n",
    "        # print(f'playing times: {agent2.play_times}')\n",
    "        # print(f'length of loss: {len(agent2.loss)}, average of loss (interval is 2): {np.mean(agent2.loss[::2])}, average of loss (interval is 20): {np.mean(agent2.loss[::20])}, average of loss (interval is 100): {np.mean(agent2.loss[::100])}')\n",
    "        # agent2.show()\n",
    "        # print()\n",
    "        # print()\n",
    "        \n",
    "    # plt.plot(agent2.loss[::20])\n",
    "    # plt.title(f'agent:{agent2.name}')\n",
    "    # plt.show()\n",
    "# x = [i for i in range(0, agent1.play_times)]\n",
    "# plt.figure(figsize=(20, 10))\n",
    "# plt.plot(x, agent1.own_memory[0:agent1.play_times], label=agent1.name, alpha=0.5)\n",
    "# plt.plot(x, agent2.own_memory[0:agent2.play_times], label=agent2.name, alpha=0.5)\n",
    "# plt.legend()\n",
    "# plt.ylim(-0.5, 2)\n",
    "# plt.xlim(0, agent1.play_times)\n",
    "# plt.title(f'agent:{agent1.name} vs agent:{agent2.name}')\n",
    "# plt.savefig(f'images/{agent1.name}vs{agent2.name}_result_h={config.h}.png')\n",
    "# plt.show()"
   ]
  },
  {
   "attachments": {},
   "cell_type": "markdown",
   "metadata": {},
   "source": [
    "### DRQN vs TfT"
   ]
  },
  {
   "cell_type": "code",
   "execution_count": 15,
   "metadata": {},
   "outputs": [
    {
     "name": "stdout",
     "output_type": "stream",
     "text": [
      "config: h=1, epsilon_decay=0.95\n"
     ]
    },
    {
     "name": "stderr",
     "output_type": "stream",
     "text": [
      "20it [11:13, 33.65s/it]\n"
     ]
    },
    {
     "name": "stdout",
     "output_type": "stream",
     "text": [
      "config: h=1, epsilon_decay=0.99\n"
     ]
    },
    {
     "name": "stderr",
     "output_type": "stream",
     "text": [
      "20it [06:48, 20.42s/it]\n"
     ]
    },
    {
     "name": "stdout",
     "output_type": "stream",
     "text": [
      "config: h=1, epsilon_decay=0.995\n"
     ]
    },
    {
     "name": "stderr",
     "output_type": "stream",
     "text": [
      "20it [05:55, 17.80s/it]\n"
     ]
    },
    {
     "name": "stdout",
     "output_type": "stream",
     "text": [
      "config: h=2, epsilon_decay=0.95\n"
     ]
    },
    {
     "name": "stderr",
     "output_type": "stream",
     "text": [
      "20it [14:02, 42.13s/it]\n"
     ]
    },
    {
     "name": "stdout",
     "output_type": "stream",
     "text": [
      "config: h=2, epsilon_decay=0.99\n"
     ]
    },
    {
     "name": "stderr",
     "output_type": "stream",
     "text": [
      "20it [10:52, 32.62s/it]\n"
     ]
    },
    {
     "name": "stdout",
     "output_type": "stream",
     "text": [
      "config: h=2, epsilon_decay=0.995\n"
     ]
    },
    {
     "name": "stderr",
     "output_type": "stream",
     "text": [
      "20it [07:02, 21.11s/it]\n"
     ]
    },
    {
     "name": "stdout",
     "output_type": "stream",
     "text": [
      "config: h=5, epsilon_decay=0.95\n"
     ]
    },
    {
     "name": "stderr",
     "output_type": "stream",
     "text": [
      "20it [11:09, 33.48s/it]\n"
     ]
    },
    {
     "name": "stdout",
     "output_type": "stream",
     "text": [
      "config: h=5, epsilon_decay=0.99\n"
     ]
    },
    {
     "name": "stderr",
     "output_type": "stream",
     "text": [
      "20it [10:38, 31.91s/it]\n"
     ]
    },
    {
     "name": "stdout",
     "output_type": "stream",
     "text": [
      "config: h=5, epsilon_decay=0.995\n"
     ]
    },
    {
     "name": "stderr",
     "output_type": "stream",
     "text": [
      "20it [08:53, 26.67s/it]\n"
     ]
    },
    {
     "name": "stdout",
     "output_type": "stream",
     "text": [
      "config: h=7, epsilon_decay=0.95\n"
     ]
    },
    {
     "name": "stderr",
     "output_type": "stream",
     "text": [
      "20it [13:29, 40.45s/it]\n"
     ]
    },
    {
     "name": "stdout",
     "output_type": "stream",
     "text": [
      "config: h=7, epsilon_decay=0.99\n"
     ]
    },
    {
     "name": "stderr",
     "output_type": "stream",
     "text": [
      "20it [1:07:35, 202.80s/it] \n"
     ]
    },
    {
     "name": "stdout",
     "output_type": "stream",
     "text": [
      "config: h=7, epsilon_decay=0.995\n"
     ]
    },
    {
     "name": "stderr",
     "output_type": "stream",
     "text": [
      "20it [09:50, 29.53s/it]\n"
     ]
    },
    {
     "name": "stdout",
     "output_type": "stream",
     "text": [
      "config: h=10, epsilon_decay=0.95\n"
     ]
    },
    {
     "name": "stderr",
     "output_type": "stream",
     "text": [
      "20it [12:00, 36.00s/it]\n"
     ]
    },
    {
     "name": "stdout",
     "output_type": "stream",
     "text": [
      "config: h=10, epsilon_decay=0.99\n"
     ]
    },
    {
     "name": "stderr",
     "output_type": "stream",
     "text": [
      "20it [10:44, 32.21s/it]\n"
     ]
    },
    {
     "name": "stdout",
     "output_type": "stream",
     "text": [
      "config: h=10, epsilon_decay=0.995\n"
     ]
    },
    {
     "name": "stderr",
     "output_type": "stream",
     "text": [
      "20it [09:38, 28.93s/it]\n"
     ]
    }
   ],
   "source": [
    "rl_num = 10\n",
    "\n",
    "for i in h:\n",
    "    for j in epsilon_decay:\n",
    "        config['h'] = i\n",
    "        config['epsilon_decay'] = j\n",
    "        print(f'config: h={i}, epsilon_decay={j}')\n",
    "\n",
    "        for idx, val in tqdm(enumerate(reward)):\n",
    "            config['reward'], config['sucker'], config['temptation'], config['punishment'] = val, sucker[idx], temptation[idx], punishment[idx]\n",
    "        \n",
    "            config_obj = Config(config)\n",
    "            with HiddenPrints():\n",
    "            # if True:\n",
    "                env = Environment(config_obj)\n",
    "                agent1 = construct_agent(strategies[num], config_obj)\n",
    "                agent2 = construct_agent(strategies[rl_num], config_obj)\n",
    "                agents = {}\n",
    "                agents[1] = agent2   \n",
    "\n",
    "                test_state_list = generate_state(agent2, config_obj.h, config_obj.n_actions)\n",
    "                # test_state = torch.stack(list(test_state_list), dim=0).view(len(test_state_list), -1).to(device)\n",
    "                test_state = torch.stack(test_state_list, dim=0).view(len(test_state_list), config_obj.h, -1).to(device)\n",
    "                for n in agents:\n",
    "                    test_q_dict = {n: {}}\n",
    "                thresh_network = len(test_state_list)/10\n",
    "                thresh = (thresh_strategy, thresh_reward, thresh_network)\n",
    "\n",
    "                count = 0\n",
    "                convergent_episode_dict = {'strategy':{}, 'reward':{}, 'network':{}}\n",
    "                \n",
    "                while True:\n",
    "                    last_reward = {}\n",
    "                    last_reward[1] = agents[1].running_score\n",
    "\n",
    "                    env.play(agent1, agent2, k)\n",
    "                    strategy_convergent_episode, reward_convergent_episode, network_convergent_episode = check_convergence(\n",
    "                        agents, thresh, k, last_reward, test_state, test_q_dict, count)\n",
    "                    count += 1\n",
    "                    update_convergence_episode(convergent_episode_dict, 'strategy', strategy_convergent_episode)\n",
    "                    update_convergence_episode(convergent_episode_dict, 'reward', reward_convergent_episode)\n",
    "                    update_convergence_episode(convergent_episode_dict, 'network', network_convergent_episode)\n",
    "\n",
    "                    if count*k >= config_obj.n_episodes:\n",
    "                        break\n",
    "\n",
    "                    converge = []\n",
    "                    for key, _ in convergent_episode_dict.items():\n",
    "                        converge.append(len(convergent_episode_dict[key]) == len(agents))\n",
    "                    if sum(converge) > 2:\n",
    "                        break\n",
    "                \n",
    "                for key, v in convergent_episode_dict.items():\n",
    "                    if 1 not in list(v.keys()):\n",
    "                        convergent_episode_dict[key][1] = np.nan\n",
    "            \n",
    "            df.loc[len(df.index)]= [convergent_episode_dict['strategy'][1], convergent_episode_dict['reward'][1], convergent_episode_dict['network'][1], \n",
    "                                    config['temptation'], config['reward'], config['punishment'], config['sucker'], \n",
    "                                    round(float(torch.sum(agent2.own_memory[agent2.play_times-100:agent2.play_times])/100)),\n",
    "                                    float(torch.sum(agent2.own_memory)/agent2.play_times), np.mean(agent2.loss),\n",
    "                                    agent2.play_times, agent2.name, agent1.name, config['h'], config['epsilon_decay'], 'PD']"
   ]
  },
  {
   "attachments": {},
   "cell_type": "markdown",
   "metadata": {},
   "source": [
    "# SH"
   ]
  },
  {
   "cell_type": "code",
   "execution_count": 16,
   "metadata": {},
   "outputs": [],
   "source": [
    "reward, temptation, sucker, punishment = generate_payoff_matrix('SH', N=20)"
   ]
  },
  {
   "attachments": {},
   "cell_type": "markdown",
   "metadata": {},
   "source": [
    "### DQN vs TfT"
   ]
  },
  {
   "cell_type": "code",
   "execution_count": 17,
   "metadata": {},
   "outputs": [
    {
     "name": "stdout",
     "output_type": "stream",
     "text": [
      "config: h=1, epsilon_decay=0.95\n"
     ]
    },
    {
     "name": "stderr",
     "output_type": "stream",
     "text": [
      "20it [08:15, 24.77s/it]\n"
     ]
    },
    {
     "name": "stdout",
     "output_type": "stream",
     "text": [
      "config: h=1, epsilon_decay=0.99\n"
     ]
    },
    {
     "name": "stderr",
     "output_type": "stream",
     "text": [
      "20it [09:27, 28.39s/it]\n"
     ]
    },
    {
     "name": "stdout",
     "output_type": "stream",
     "text": [
      "config: h=1, epsilon_decay=0.995\n"
     ]
    },
    {
     "name": "stderr",
     "output_type": "stream",
     "text": [
      "20it [07:47, 23.37s/it]\n"
     ]
    },
    {
     "name": "stdout",
     "output_type": "stream",
     "text": [
      "config: h=2, epsilon_decay=0.95\n"
     ]
    },
    {
     "name": "stderr",
     "output_type": "stream",
     "text": [
      "20it [09:42, 29.15s/it]\n"
     ]
    },
    {
     "name": "stdout",
     "output_type": "stream",
     "text": [
      "config: h=2, epsilon_decay=0.99\n"
     ]
    },
    {
     "name": "stderr",
     "output_type": "stream",
     "text": [
      "20it [08:44, 26.23s/it]\n"
     ]
    },
    {
     "name": "stdout",
     "output_type": "stream",
     "text": [
      "config: h=2, epsilon_decay=0.995\n"
     ]
    },
    {
     "name": "stderr",
     "output_type": "stream",
     "text": [
      "20it [09:18, 27.92s/it]\n"
     ]
    },
    {
     "name": "stdout",
     "output_type": "stream",
     "text": [
      "config: h=5, epsilon_decay=0.95\n"
     ]
    },
    {
     "name": "stderr",
     "output_type": "stream",
     "text": [
      "20it [09:57, 29.89s/it]\n"
     ]
    },
    {
     "name": "stdout",
     "output_type": "stream",
     "text": [
      "config: h=5, epsilon_decay=0.99\n"
     ]
    },
    {
     "name": "stderr",
     "output_type": "stream",
     "text": [
      "20it [09:23, 28.15s/it]\n"
     ]
    },
    {
     "name": "stdout",
     "output_type": "stream",
     "text": [
      "config: h=5, epsilon_decay=0.995\n"
     ]
    },
    {
     "name": "stderr",
     "output_type": "stream",
     "text": [
      "20it [3:15:49, 587.47s/it]\n"
     ]
    },
    {
     "name": "stdout",
     "output_type": "stream",
     "text": [
      "config: h=7, epsilon_decay=0.95\n"
     ]
    },
    {
     "name": "stderr",
     "output_type": "stream",
     "text": [
      "20it [11:39, 34.97s/it]\n"
     ]
    },
    {
     "name": "stdout",
     "output_type": "stream",
     "text": [
      "config: h=7, epsilon_decay=0.99\n"
     ]
    },
    {
     "name": "stderr",
     "output_type": "stream",
     "text": [
      "20it [11:21, 34.07s/it]\n"
     ]
    },
    {
     "name": "stdout",
     "output_type": "stream",
     "text": [
      "config: h=7, epsilon_decay=0.995\n"
     ]
    },
    {
     "name": "stderr",
     "output_type": "stream",
     "text": [
      "20it [11:15, 33.78s/it]\n"
     ]
    },
    {
     "name": "stdout",
     "output_type": "stream",
     "text": [
      "config: h=10, epsilon_decay=0.95\n"
     ]
    },
    {
     "name": "stderr",
     "output_type": "stream",
     "text": [
      "20it [11:34, 34.75s/it]\n"
     ]
    },
    {
     "name": "stdout",
     "output_type": "stream",
     "text": [
      "config: h=10, epsilon_decay=0.99\n"
     ]
    },
    {
     "name": "stderr",
     "output_type": "stream",
     "text": [
      "20it [11:35, 34.78s/it]\n"
     ]
    },
    {
     "name": "stdout",
     "output_type": "stream",
     "text": [
      "config: h=10, epsilon_decay=0.995\n"
     ]
    },
    {
     "name": "stderr",
     "output_type": "stream",
     "text": [
      "20it [12:04, 36.23s/it]\n"
     ]
    }
   ],
   "source": [
    "rl_num = 9\n",
    "k = 1000\n",
    "\n",
    "# reward, temptation, sucker, punishment = [3], [5], [0], [1]\n",
    "for i in h:\n",
    "    for j in epsilon_decay:\n",
    "        config['h'] = i\n",
    "        config['epsilon_decay'] = j\n",
    "        print(f'config: h={i}, epsilon_decay={j}')\n",
    "\n",
    "        for idx, val in tqdm(enumerate(reward)):\n",
    "            config['reward'], config['sucker'], config['temptation'], config['punishment'] = val, sucker[idx], temptation[idx], punishment[idx]\n",
    "        \n",
    "            config_obj = Config(config)\n",
    "            with HiddenPrints():\n",
    "            # if True:\n",
    "                env = Environment(config_obj)\n",
    "                agent1 = construct_agent(strategies[num], config_obj)\n",
    "                agent2 = construct_agent(strategies[rl_num], config_obj)\n",
    "                agents = {}\n",
    "                agents[1] = agent2   \n",
    "\n",
    "                test_state_list = generate_state(agent2, config_obj.h, config_obj.n_actions)\n",
    "                test_state = torch.stack(list(test_state_list), dim=0).view(len(test_state_list), -1).to(device)\n",
    "                # test_state = torch.stack(test_state_list, dim=0).view(len(test_state_list), config_obj.h, -1).to(device)\n",
    "                for n in agents:\n",
    "                    test_q_dict = {n: {}}\n",
    "                thresh_network = len(test_state_list)/10\n",
    "                thresh = (thresh_strategy, thresh_reward, thresh_network)\n",
    "\n",
    "                count = 0\n",
    "                convergent_episode_dict = {'strategy':{}, 'reward':{}, 'network':{}}\n",
    "                \n",
    "                while True:\n",
    "                    last_reward = {}\n",
    "                    last_reward[1] = agents[1].running_score\n",
    "\n",
    "                    env.play(agent1, agent2, k)\n",
    "                    strategy_convergent_episode, reward_convergent_episode, network_convergent_episode = check_convergence(\n",
    "                        agents, thresh, k, last_reward, test_state, test_q_dict, count)\n",
    "                    count += 1\n",
    "                    update_convergence_episode(convergent_episode_dict, 'strategy', strategy_convergent_episode)\n",
    "                    update_convergence_episode(convergent_episode_dict, 'reward', reward_convergent_episode)\n",
    "                    update_convergence_episode(convergent_episode_dict, 'network', network_convergent_episode)\n",
    "\n",
    "                    if count*k >= config_obj.n_episodes:\n",
    "                        break\n",
    "\n",
    "                    converge = []\n",
    "                    for key, _ in convergent_episode_dict.items():\n",
    "                        converge.append(len(convergent_episode_dict[key]) == len(agents))\n",
    "                    if sum(converge) > 2:\n",
    "                        break\n",
    "                \n",
    "                for key, v in convergent_episode_dict.items():\n",
    "                    if 1 not in list(v.keys()):\n",
    "                        convergent_episode_dict[key][1] = np.nan\n",
    "            \n",
    "            df.loc[len(df.index)]= [convergent_episode_dict['strategy'][1], convergent_episode_dict['reward'][1], convergent_episode_dict['network'][1], \n",
    "                                    config['temptation'], config['reward'], config['punishment'], config['sucker'], \n",
    "                                    round(float(torch.sum(agent2.own_memory[agent2.play_times-100:agent2.play_times])/100)),\n",
    "                                    float(torch.sum(agent2.own_memory)/agent2.play_times), np.mean(agent2.loss),\n",
    "                                    agent2.play_times, agent2.name, agent1.name, config['h'], config['epsilon_decay'], 'SH']"
   ]
  },
  {
   "attachments": {},
   "cell_type": "markdown",
   "metadata": {},
   "source": [
    "### DRQN vs TfT"
   ]
  },
  {
   "cell_type": "code",
   "execution_count": 18,
   "metadata": {},
   "outputs": [
    {
     "name": "stdout",
     "output_type": "stream",
     "text": [
      "config: h=1, epsilon_decay=0.95\n"
     ]
    },
    {
     "name": "stderr",
     "output_type": "stream",
     "text": [
      "20it [14:52, 44.64s/it]\n"
     ]
    },
    {
     "name": "stdout",
     "output_type": "stream",
     "text": [
      "config: h=1, epsilon_decay=0.99\n"
     ]
    },
    {
     "name": "stderr",
     "output_type": "stream",
     "text": [
      "20it [13:04, 39.23s/it]\n"
     ]
    },
    {
     "name": "stdout",
     "output_type": "stream",
     "text": [
      "config: h=1, epsilon_decay=0.995\n"
     ]
    },
    {
     "name": "stderr",
     "output_type": "stream",
     "text": [
      "20it [11:31, 34.58s/it]\n"
     ]
    },
    {
     "name": "stdout",
     "output_type": "stream",
     "text": [
      "config: h=2, epsilon_decay=0.95\n"
     ]
    },
    {
     "name": "stderr",
     "output_type": "stream",
     "text": [
      "20it [14:13, 42.69s/it]\n"
     ]
    },
    {
     "name": "stdout",
     "output_type": "stream",
     "text": [
      "config: h=2, epsilon_decay=0.99\n"
     ]
    },
    {
     "name": "stderr",
     "output_type": "stream",
     "text": [
      "20it [13:22, 40.13s/it]\n"
     ]
    },
    {
     "name": "stdout",
     "output_type": "stream",
     "text": [
      "config: h=2, epsilon_decay=0.995\n"
     ]
    },
    {
     "name": "stderr",
     "output_type": "stream",
     "text": [
      "20it [12:03, 36.15s/it]\n"
     ]
    },
    {
     "name": "stdout",
     "output_type": "stream",
     "text": [
      "config: h=5, epsilon_decay=0.95\n"
     ]
    },
    {
     "name": "stderr",
     "output_type": "stream",
     "text": [
      "20it [13:27, 40.40s/it]\n"
     ]
    },
    {
     "name": "stdout",
     "output_type": "stream",
     "text": [
      "config: h=5, epsilon_decay=0.99\n"
     ]
    },
    {
     "name": "stderr",
     "output_type": "stream",
     "text": [
      "20it [11:32, 34.64s/it]\n"
     ]
    },
    {
     "name": "stdout",
     "output_type": "stream",
     "text": [
      "config: h=5, epsilon_decay=0.995\n"
     ]
    },
    {
     "name": "stderr",
     "output_type": "stream",
     "text": [
      "20it [13:53, 41.66s/it]\n"
     ]
    },
    {
     "name": "stdout",
     "output_type": "stream",
     "text": [
      "config: h=7, epsilon_decay=0.95\n"
     ]
    },
    {
     "name": "stderr",
     "output_type": "stream",
     "text": [
      "20it [19:17, 57.89s/it]\n"
     ]
    },
    {
     "name": "stdout",
     "output_type": "stream",
     "text": [
      "config: h=7, epsilon_decay=0.99\n"
     ]
    },
    {
     "name": "stderr",
     "output_type": "stream",
     "text": [
      "20it [17:53, 53.66s/it]\n"
     ]
    },
    {
     "name": "stdout",
     "output_type": "stream",
     "text": [
      "config: h=7, epsilon_decay=0.995\n"
     ]
    },
    {
     "name": "stderr",
     "output_type": "stream",
     "text": [
      "20it [19:39, 58.96s/it]\n"
     ]
    },
    {
     "name": "stdout",
     "output_type": "stream",
     "text": [
      "config: h=10, epsilon_decay=0.95\n"
     ]
    },
    {
     "name": "stderr",
     "output_type": "stream",
     "text": [
      "20it [19:53, 59.69s/it]\n"
     ]
    },
    {
     "name": "stdout",
     "output_type": "stream",
     "text": [
      "config: h=10, epsilon_decay=0.99\n"
     ]
    },
    {
     "name": "stderr",
     "output_type": "stream",
     "text": [
      "20it [15:33, 46.66s/it]\n"
     ]
    },
    {
     "name": "stdout",
     "output_type": "stream",
     "text": [
      "config: h=10, epsilon_decay=0.995\n"
     ]
    },
    {
     "name": "stderr",
     "output_type": "stream",
     "text": [
      "20it [12:35, 37.76s/it]\n"
     ]
    }
   ],
   "source": [
    "rl_num = 10\n",
    "\n",
    "for i in h:\n",
    "    for j in epsilon_decay:\n",
    "        config['h'] = i\n",
    "        config['epsilon_decay'] = j\n",
    "        print(f'config: h={i}, epsilon_decay={j}')\n",
    "\n",
    "        for idx, val in tqdm(enumerate(reward)):\n",
    "            config['reward'], config['sucker'], config['temptation'], config['punishment'] = val, sucker[idx], temptation[idx], punishment[idx]\n",
    "        \n",
    "            config_obj = Config(config)\n",
    "            with HiddenPrints():\n",
    "            # if True:\n",
    "                env = Environment(config_obj)\n",
    "                agent1 = construct_agent(strategies[num], config_obj)\n",
    "                agent2 = construct_agent(strategies[rl_num], config_obj)\n",
    "                agents = {}\n",
    "                agents[1] = agent2   \n",
    "\n",
    "                test_state_list = generate_state(agent2, config_obj.h, config_obj.n_actions)\n",
    "                # test_state = torch.stack(list(test_state_list), dim=0).view(len(test_state_list), -1).to(device)\n",
    "                test_state = torch.stack(test_state_list, dim=0).view(len(test_state_list), config_obj.h, -1).to(device)\n",
    "                for n in agents:\n",
    "                    test_q_dict = {n: {}}\n",
    "                thresh_network = len(test_state_list)/10\n",
    "                thresh = (thresh_strategy, thresh_reward, thresh_network)\n",
    "\n",
    "                count = 0\n",
    "                convergent_episode_dict = {'strategy':{}, 'reward':{}, 'network':{}}\n",
    "                \n",
    "                while True:\n",
    "                    last_reward = {}\n",
    "                    last_reward[1] = agents[1].running_score\n",
    "\n",
    "                    env.play(agent1, agent2, k)\n",
    "                    strategy_convergent_episode, reward_convergent_episode, network_convergent_episode = check_convergence(\n",
    "                        agents, thresh, k, last_reward, test_state, test_q_dict, count)\n",
    "                    count += 1\n",
    "                    update_convergence_episode(convergent_episode_dict, 'strategy', strategy_convergent_episode)\n",
    "                    update_convergence_episode(convergent_episode_dict, 'reward', reward_convergent_episode)\n",
    "                    update_convergence_episode(convergent_episode_dict, 'network', network_convergent_episode)\n",
    "\n",
    "                    if count*k >= config_obj.n_episodes:\n",
    "                        break\n",
    "\n",
    "                    converge = []\n",
    "                    for key, _ in convergent_episode_dict.items():\n",
    "                        converge.append(len(convergent_episode_dict[key]) == len(agents))\n",
    "                    if sum(converge) > 2:\n",
    "                        break\n",
    "                \n",
    "                for key, v in convergent_episode_dict.items():\n",
    "                    if 1 not in list(v.keys()):\n",
    "                        convergent_episode_dict[key][1] = np.nan\n",
    "            \n",
    "            df.loc[len(df.index)]= [convergent_episode_dict['strategy'][1], convergent_episode_dict['reward'][1], convergent_episode_dict['network'][1], \n",
    "                                    config['temptation'], config['reward'], config['punishment'], config['sucker'], \n",
    "                                    round(float(torch.sum(agent2.own_memory[agent2.play_times-100:agent2.play_times])/100)),\n",
    "                                    float(torch.sum(agent2.own_memory)/agent2.play_times), np.mean(agent2.loss),\n",
    "                                    agent2.play_times, agent2.name, agent1.name, config['h'], config['epsilon_decay'], 'SH']"
   ]
  },
  {
   "cell_type": "code",
   "execution_count": 21,
   "metadata": {},
   "outputs": [],
   "source": [
    "df.to_csv('data/fix_vs_learner.csv')"
   ]
  },
  {
   "attachments": {},
   "cell_type": "markdown",
   "metadata": {},
   "source": [
    "EDA"
   ]
  },
  {
   "cell_type": "code",
   "execution_count": 25,
   "metadata": {},
   "outputs": [
    {
     "name": "stdout",
     "output_type": "stream",
     "text": [
      "--- Game: PD ---\n",
      "--- DQN ---\n",
      "h=1, epsion_decay=0.95\n",
      "Diveregence: Strategy: 4 Reward: 2 Network: 3\n",
      "Convergence: Strategy: 4000.0 Reward: 3333.3333333333335 Network: 3941.176470588235\n",
      "h=1, epsion_decay=0.99\n",
      "Diveregence: Strategy: 19 Reward: 5 Network: 15\n",
      "Convergence: Strategy: 3000.0 Reward: 7000.0 Network: 8200.0\n",
      "h=1, epsion_decay=0.995\n",
      "Diveregence: Strategy: 10 Reward: 4 Network: 10\n",
      "Convergence: Strategy: 3900.0 Reward: 4937.5 Network: 4300.0\n",
      "h=2, epsion_decay=0.95\n",
      "Diveregence: Strategy: 14 Reward: 3 Network: 14\n",
      "Convergence: Strategy: 7000.0 Reward: 7294.117647058823 Network: 6333.333333333333\n",
      "h=2, epsion_decay=0.99\n",
      "Diveregence: Strategy: 12 Reward: 6 Network: 11\n",
      "Convergence: Strategy: 6000.0 Reward: 4642.857142857143 Network: 5555.555555555556\n",
      "h=2, epsion_decay=0.995\n",
      "Diveregence: Strategy: 19 Reward: 7 Network: 17\n",
      "Convergence: Strategy: 3000.0 Reward: 4230.7692307692305 Network: 8000.0\n",
      "h=5, epsion_decay=0.95\n",
      "Diveregence: Strategy: 11 Reward: 5 Network: 10\n",
      "Convergence: Strategy: 6777.777777777777 Reward: 6266.666666666667 Network: 6800.0\n",
      "h=5, epsion_decay=0.99\n",
      "Diveregence: Strategy: 15 Reward: 11 Network: 16\n",
      "Convergence: Strategy: 7200.0 Reward: 7333.333333333333 Network: 6250.0\n",
      "h=5, epsion_decay=0.995\n",
      "Diveregence: Strategy: 20 Reward: 12 Network: 19\n",
      "Convergence: Strategy: nan Reward: 9125.0 Network: 9000.0\n",
      "h=7, epsion_decay=0.95\n",
      "Diveregence: Strategy: 12 Reward: 4 Network: 16\n",
      "Convergence: Strategy: 7875.0 Reward: 7750.0 Network: 7500.0\n",
      "h=7, epsion_decay=0.99\n",
      "Diveregence: Strategy: 14 Reward: 10 Network: 14\n",
      "Convergence: Strategy: 6000.0 Reward: 6100.0 Network: 6166.666666666667\n",
      "h=7, epsion_decay=0.995\n",
      "Diveregence: Strategy: 20 Reward: 13 Network: 18\n",
      "Convergence: Strategy: nan Reward: 8428.57142857143 Network: 10000.0\n",
      "h=10, epsion_decay=0.95\n",
      "Diveregence: Strategy: 12 Reward: 10 Network: 14\n",
      "Convergence: Strategy: 8875.0 Reward: 8300.0 Network: 9500.0\n",
      "h=10, epsion_decay=0.99\n",
      "Diveregence: Strategy: 20 Reward: 14 Network: 20\n",
      "Convergence: Strategy: nan Reward: 9000.0 Network: nan\n",
      "h=10, epsion_decay=0.995\n",
      "Diveregence: Strategy: 20 Reward: 16 Network: 18\n",
      "Convergence: Strategy: nan Reward: 9750.0 Network: 10000.0\n",
      "\n"
     ]
    },
    {
     "name": "stderr",
     "output_type": "stream",
     "text": [
      "C:\\Users\\HHhou\\AppData\\Local\\Temp\\ipykernel_9756\\4237518304.py:26: SettingWithCopyWarning: \n",
      "A value is trying to be set on a copy of a slice from a DataFrame\n",
      "\n",
      "See the caveats in the documentation: https://pandas.pydata.org/pandas-docs/stable/user_guide/indexing.html#returning-a-view-versus-a-copy\n",
      "  df_copy_result.dropna(inplace=True)\n"
     ]
    },
    {
     "name": "stdout",
     "output_type": "stream",
     "text": [
      "--- LSTMQN ---\n",
      "h=1, epsion_decay=0.95\n",
      "Diveregence: Strategy: 1 Reward: 0 Network: 0\n",
      "Convergence: Strategy: 6684.210526315789 Reward: 2750.0 Network: 6650.0\n",
      "h=1, epsion_decay=0.99\n",
      "Diveregence: Strategy: 0 Reward: 0 Network: 0\n",
      "Convergence: Strategy: 3000.0 Reward: 2000.0 Network: 4000.0\n",
      "h=1, epsion_decay=0.995\n",
      "Diveregence: Strategy: 0 Reward: 0 Network: 0\n",
      "Convergence: Strategy: 3000.0 Reward: 2000.0 Network: 4000.0\n",
      "h=2, epsion_decay=0.95\n",
      "Diveregence: Strategy: 0 Reward: 2 Network: 1\n",
      "Convergence: Strategy: 8850.0 Reward: 5944.444444444444 Network: 8157.894736842105\n",
      "h=2, epsion_decay=0.99\n",
      "Diveregence: Strategy: 1 Reward: 0 Network: 0\n",
      "Convergence: Strategy: 6473.684210526316 Reward: 3150.0 Network: 6400.0\n",
      "h=2, epsion_decay=0.995\n",
      "Diveregence: Strategy: 0 Reward: 0 Network: 0\n",
      "Convergence: Strategy: 3750.0 Reward: 2250.0 Network: 4300.0\n",
      "h=5, epsion_decay=0.95\n",
      "Diveregence: Strategy: 3 Reward: 1 Network: 2\n",
      "Convergence: Strategy: 6470.588235294118 Reward: 3000.0 Network: 6444.444444444444\n",
      "h=5, epsion_decay=0.99\n",
      "Diveregence: Strategy: 0 Reward: 0 Network: 0\n",
      "Convergence: Strategy: 6700.0 Reward: 2750.0 Network: 6100.0\n",
      "h=5, epsion_decay=0.995\n",
      "Diveregence: Strategy: 0 Reward: 0 Network: 0\n",
      "Convergence: Strategy: 5450.0 Reward: 2500.0 Network: 5500.0\n",
      "h=7, epsion_decay=0.95\n",
      "Diveregence: Strategy: 10 Reward: 3 Network: 8\n",
      "Convergence: Strategy: 6900.0 Reward: 5411.764705882353 Network: 7666.666666666667\n",
      "h=7, epsion_decay=0.99\n",
      "Diveregence: Strategy: 0 Reward: 0 Network: 0\n",
      "Convergence: Strategy: 7200.0 Reward: 4000.0 Network: 7100.0\n",
      "h=7, epsion_decay=0.995\n",
      "Diveregence: Strategy: 0 Reward: 0 Network: 0\n",
      "Convergence: Strategy: 6150.0 Reward: 2500.0 Network: 6200.0\n",
      "h=10, epsion_decay=0.95\n",
      "Diveregence: Strategy: 1 Reward: 0 Network: 1\n",
      "Convergence: Strategy: 7368.421052631579 Reward: 4750.0 Network: 7315.789473684211\n",
      "h=10, epsion_decay=0.99\n",
      "Diveregence: Strategy: 0 Reward: 0 Network: 0\n",
      "Convergence: Strategy: 6700.0 Reward: 2950.0 Network: 6550.0\n",
      "h=10, epsion_decay=0.995\n",
      "Diveregence: Strategy: 0 Reward: 0 Network: 0\n",
      "Convergence: Strategy: 6050.0 Reward: 2400.0 Network: 6200.0\n",
      "\n"
     ]
    },
    {
     "name": "stderr",
     "output_type": "stream",
     "text": [
      "C:\\Users\\HHhou\\AppData\\Local\\Temp\\ipykernel_9756\\4237518304.py:26: SettingWithCopyWarning: \n",
      "A value is trying to be set on a copy of a slice from a DataFrame\n",
      "\n",
      "See the caveats in the documentation: https://pandas.pydata.org/pandas-docs/stable/user_guide/indexing.html#returning-a-view-versus-a-copy\n",
      "  df_copy_result.dropna(inplace=True)\n"
     ]
    },
    {
     "name": "stdout",
     "output_type": "stream",
     "text": [
      "--- Game: SH ---\n",
      "--- DQN ---\n",
      "h=1, epsion_decay=0.95\n",
      "Diveregence: Strategy: 2 Reward: 9 Network: 3\n",
      "Convergence: Strategy: 6833.333333333333 Reward: 4090.909090909091 Network: 6117.64705882353\n",
      "h=1, epsion_decay=0.99\n",
      "Diveregence: Strategy: 4 Reward: 9 Network: 5\n",
      "Convergence: Strategy: 7687.5 Reward: 5090.909090909091 Network: 6533.333333333333\n",
      "h=1, epsion_decay=0.995\n",
      "Diveregence: Strategy: 0 Reward: 9 Network: 2\n",
      "Convergence: Strategy: 6450.0 Reward: 2909.090909090909 Network: 5611.111111111111\n",
      "h=2, epsion_decay=0.95\n",
      "Diveregence: Strategy: 6 Reward: 12 Network: 8\n",
      "Convergence: Strategy: 8000.0 Reward: 6500.0 Network: 7416.666666666667\n",
      "h=2, epsion_decay=0.99\n",
      "Diveregence: Strategy: 1 Reward: 11 Network: 2\n",
      "Convergence: Strategy: 7473.684210526316 Reward: 3111.1111111111113 Network: 6944.444444444444\n",
      "h=2, epsion_decay=0.995\n",
      "Diveregence: Strategy: 5 Reward: 10 Network: 4\n",
      "Convergence: Strategy: 7400.0 Reward: 4500.0 Network: 7250.0\n",
      "h=5, epsion_decay=0.95\n",
      "Diveregence: Strategy: 2 Reward: 13 Network: 2\n",
      "Convergence: Strategy: 7388.888888888889 Reward: 5285.714285714285 Network: 8444.444444444445\n",
      "h=5, epsion_decay=0.99\n",
      "Diveregence: Strategy: 1 Reward: 11 Network: 2\n",
      "Convergence: Strategy: 6684.210526315789 Reward: 3888.8888888888887 Network: 7833.333333333333\n",
      "h=5, epsion_decay=0.995\n",
      "Diveregence: Strategy: 12 Reward: 11 Network: 12\n",
      "Convergence: Strategy: 5500.0 Reward: 6000.0 Network: 6625.0\n",
      "h=7, epsion_decay=0.95\n",
      "Diveregence: Strategy: 4 Reward: 14 Network: 12\n",
      "Convergence: Strategy: 8750.0 Reward: 5666.666666666667 Network: 8750.0\n",
      "h=7, epsion_decay=0.99\n",
      "Diveregence: Strategy: 10 Reward: 12 Network: 14\n",
      "Convergence: Strategy: 7100.0 Reward: 4625.0 Network: 5666.666666666667\n",
      "h=7, epsion_decay=0.995\n",
      "Diveregence: Strategy: 13 Reward: 13 Network: 16\n",
      "Convergence: Strategy: 5428.571428571428 Reward: 6142.857142857143 Network: 4250.0\n",
      "h=10, epsion_decay=0.95\n",
      "Diveregence: Strategy: 3 Reward: 13 Network: 16\n",
      "Convergence: Strategy: 8823.529411764706 Reward: 8857.142857142857 Network: 9250.0\n",
      "h=10, epsion_decay=0.99\n",
      "Diveregence: Strategy: 13 Reward: 14 Network: 17\n",
      "Convergence: Strategy: 7571.428571428572 Reward: 8333.333333333334 Network: 7333.333333333333\n",
      "h=10, epsion_decay=0.995\n",
      "Diveregence: Strategy: 18 Reward: 18 Network: 19\n",
      "Convergence: Strategy: 8000.0 Reward: 9500.0 Network: 9000.0\n",
      "\n"
     ]
    },
    {
     "name": "stderr",
     "output_type": "stream",
     "text": [
      "C:\\Users\\HHhou\\AppData\\Local\\Temp\\ipykernel_9756\\4237518304.py:26: SettingWithCopyWarning: \n",
      "A value is trying to be set on a copy of a slice from a DataFrame\n",
      "\n",
      "See the caveats in the documentation: https://pandas.pydata.org/pandas-docs/stable/user_guide/indexing.html#returning-a-view-versus-a-copy\n",
      "  df_copy_result.dropna(inplace=True)\n"
     ]
    },
    {
     "name": "stdout",
     "output_type": "stream",
     "text": [
      "--- LSTMQN ---\n",
      "h=1, epsion_decay=0.95\n",
      "Diveregence: Strategy: 0 Reward: 15 Network: 4\n",
      "Convergence: Strategy: 9100.0 Reward: 5000.0 Network: 8687.5\n",
      "h=1, epsion_decay=0.99\n",
      "Diveregence: Strategy: 0 Reward: 9 Network: 0\n",
      "Convergence: Strategy: 6900.0 Reward: 4272.727272727273 Network: 6700.0\n",
      "h=1, epsion_decay=0.995\n",
      "Diveregence: Strategy: 0 Reward: 9 Network: 0\n",
      "Convergence: Strategy: 6600.0 Reward: 3363.6363636363635 Network: 6250.0\n",
      "h=2, epsion_decay=0.95\n",
      "Diveregence: Strategy: 0 Reward: 10 Network: 2\n",
      "Convergence: Strategy: 8000.0 Reward: 5500.0 Network: 7333.333333333333\n",
      "h=2, epsion_decay=0.99\n",
      "Diveregence: Strategy: 0 Reward: 10 Network: 1\n",
      "Convergence: Strategy: 7400.0 Reward: 4500.0 Network: 6684.210526315789\n",
      "h=2, epsion_decay=0.995\n",
      "Diveregence: Strategy: 0 Reward: 9 Network: 0\n",
      "Convergence: Strategy: 6600.0 Reward: 3363.6363636363635 Network: 6300.0\n",
      "h=5, epsion_decay=0.95\n",
      "Diveregence: Strategy: 0 Reward: 8 Network: 3\n",
      "Convergence: Strategy: 5750.0 Reward: 4666.666666666667 Network: 7235.294117647059\n",
      "h=5, epsion_decay=0.99\n",
      "Diveregence: Strategy: 0 Reward: 6 Network: 0\n",
      "Convergence: Strategy: 4950.0 Reward: 3500.0 Network: 6450.0\n",
      "h=5, epsion_decay=0.995\n",
      "Diveregence: Strategy: 0 Reward: 6 Network: 2\n",
      "Convergence: Strategy: 5200.0 Reward: 3857.1428571428573 Network: 6444.444444444444\n",
      "h=7, epsion_decay=0.95\n",
      "Diveregence: Strategy: 0 Reward: 8 Network: 8\n",
      "Convergence: Strategy: 5200.0 Reward: 4583.333333333333 Network: 6250.0\n",
      "h=7, epsion_decay=0.99\n",
      "Diveregence: Strategy: 0 Reward: 6 Network: 0\n",
      "Convergence: Strategy: 4800.0 Reward: 3500.0 Network: 6300.0\n",
      "h=7, epsion_decay=0.995\n",
      "Diveregence: Strategy: 0 Reward: 6 Network: 1\n",
      "Convergence: Strategy: 5750.0 Reward: 3500.0 Network: 7052.631578947368\n",
      "h=10, epsion_decay=0.95\n",
      "Diveregence: Strategy: 0 Reward: 7 Network: 4\n",
      "Convergence: Strategy: 5100.0 Reward: 4076.923076923077 Network: 5687.5\n",
      "h=10, epsion_decay=0.99\n",
      "Diveregence: Strategy: 0 Reward: 6 Network: 6\n",
      "Convergence: Strategy: 4800.0 Reward: 3500.0 Network: 5142.857142857143\n",
      "h=10, epsion_decay=0.995\n",
      "Diveregence: Strategy: 0 Reward: 6 Network: 6\n",
      "Convergence: Strategy: 5850.0 Reward: 3500.0 Network: 6000.0\n",
      "\n"
     ]
    },
    {
     "name": "stderr",
     "output_type": "stream",
     "text": [
      "C:\\Users\\HHhou\\AppData\\Local\\Temp\\ipykernel_9756\\4237518304.py:26: SettingWithCopyWarning: \n",
      "A value is trying to be set on a copy of a slice from a DataFrame\n",
      "\n",
      "See the caveats in the documentation: https://pandas.pydata.org/pandas-docs/stable/user_guide/indexing.html#returning-a-view-versus-a-copy\n",
      "  df_copy_result.dropna(inplace=True)\n"
     ]
    },
    {
     "data": {
      "image/png": "[encoded data removed]",
      "text/plain": [
       "<Figure size 1440x1008 with 4 Axes>"
      ]
     },
     "metadata": {
      "needs_background": "light"
     },
     "output_type": "display_data"
    }
   ],
   "source": [
    "pd.set_option('display.max_rows', None)\n",
    "# display(df)\n",
    "df_copy = copy.deepcopy(df)\n",
    "df_copy.loc[df_copy.isna().any(axis=1), 'agent1_final_strategy'] = -1\n",
    "fig, axes = plt.subplots(2, 2, figsize=(20, 14), sharey=True)\n",
    "# fig.tight_layout(rect=[0, 0.03, 1, 0.97])\n",
    "c = 0\n",
    "position = np.array([(0,0), (0,1), (1,0), (1,1)])\n",
    "\n",
    "for game in ['PD', 'SH']:\n",
    "    print(f'--- Game: {game} ---')\n",
    "    df_copy_game = df_copy.loc[df_copy.game == game]\n",
    "    for model in ['DQN', 'LSTMQN']:\n",
    "        print(f'--- {model} ---')\n",
    "        df_copy_result = df_copy_game.loc[df_copy_game.model == model]\n",
    "        for i in h:\n",
    "            for j in epsilon_decay:\n",
    "                print(f'h={i}, epsion_decay={j}')\n",
    "                print(f'Diveregence: Strategy: {df_copy_result.loc[(df_copy_result.h==i) & (df_copy_result.epsilon_decay==j), \"agent1_strategy_converge\"].isna().sum()}',end=' ')\n",
    "                print(f'Reward: {df_copy_result.loc[(df_copy_result.h==i) & (df_copy_result.epsilon_decay==j), \"agent1_reward_converge\"].isna().sum()}',end=' ')\n",
    "                print(f'Network: {df_copy_result.loc[(df_copy_result.h==i) & (df_copy_result.epsilon_decay==j), \"agent1_network_converge\"].isna().sum()}')\n",
    "                print(f'Convergence: Strategy: {df_copy_result.loc[(df_copy_result.h==i) & (df_copy_result.epsilon_decay==j) & (df_copy_result.agent1_strategy_converge.notna()), \"agent1_strategy_converge\"].mean()}',end=' ')\n",
    "                print(f'Reward: {df_copy_result.loc[(df_copy_result.h==i) & (df_copy_result.epsilon_decay==j) & (df_copy_result.agent1_reward_converge.notna()), \"agent1_reward_converge\"].mean()}',end=' ')\n",
    "                print(f'Network: {df_copy_result.loc[(df_copy_result.h==i) & (df_copy_result.epsilon_decay==j) & (df_copy_result.agent1_network_converge.notna()), \"agent1_network_converge\"].mean()}')\n",
    "        print()\n",
    "        df_copy_result.dropna(inplace=True)\n",
    "        # plt.figure(figsize=(14, 7))\n",
    "        p = position[c]\n",
    "        sns.lineplot(ax=axes[p[0],p[1]], data=df_copy_result.loc[df_copy_result.epsilon_decay==0.99], x='h', y='agent1_strategy_converge', label=f'Strategy')\n",
    "        sns.lineplot(ax=axes[p[0],p[1]], data=df_copy_result.loc[df_copy_result.epsilon_decay==0.99], x='h', y='agent1_reward_converge', label=f'Reward')\n",
    "        sns.lineplot(ax=axes[p[0],p[1]], data=df_copy_result.loc[df_copy_result.epsilon_decay==0.99], x='h', y='agent1_network_converge', label=f'Network')\n",
    "        axes[p[0],p[1]].set(xticks=h, ylabel='Rounds', title=f'{game}: {model} vs TfT (epsilon_decay=0.99)')\n",
    "        axes[p[0],p[1]].legend(title='Criteria')\n",
    "        c += 1\n",
    "\n",
    "# sns.lineplot(ax=axes[1], data=df_copy_result.loc[df_copy_result.h==2], x='epsilon_decay', y='agent1_strategy_converge', label=f'Strategy')\n",
    "# sns.lineplot(ax=axes[1], data=df_copy_result.loc[df_copy_result.h==2], x='epsilon_decay', y='agent1_reward_converge', label=f'Reward')\n",
    "# sns.lineplot(ax=axes[1], data=df_copy_result.loc[df_copy_result.h==2], x='epsilon_decay', y='agent1_network_converge', label=f'Network')\n",
    "# axes[1].set(xticks=[0.95, 0.99, 0.995], ylabel='Rounds', title='DQN vs TfT (h=2)')"
   ]
  },
  {
   "cell_type": "code",
   "execution_count": null,
   "metadata": {},
   "outputs": [],
   "source": []
  },
  {
   "cell_type": "code",
   "execution_count": null,
   "metadata": {},
   "outputs": [],
   "source": []
  },
  {
   "cell_type": "code",
   "execution_count": null,
   "metadata": {},
   "outputs": [],
   "source": []
  },
  {
   "attachments": {},
   "cell_type": "markdown",
   "metadata": {},
   "source": [
    "## DQN vs DQN"
   ]
  },
  {
   "cell_type": "code",
   "execution_count": null,
   "metadata": {},
   "outputs": [],
   "source": [
    "# epsilon_dict = {'epsilon_decay=0.95':[],'epsilon_decay=0.99':[],'epsilon_decay=0.995':[]}\n",
    "# result_dict={'h=1':{}, 'h=2':{}, 'h=5':{}, 'h=10':{}}\n",
    "# loss_dict={'h=1':{}, 'h=2':{}, 'h=5':{}, 'h=10':{}}\n",
    "# strategy_dict={'h=1':{}, 'h=2':{}, 'h=5':{}, 'h=10':{}}\n",
    "                \n",
    "# for key in result_dict:\n",
    "#     result_dict[key] = copy.deepcopy(epsilon_dict)\n",
    "#     loss_dict[key] = copy.deepcopy(epsilon_dict)\n",
    "#     strategy_dict[key] = copy.deepcopy(epsilon_dict)"
   ]
  },
  {
   "cell_type": "code",
   "execution_count": 7,
   "metadata": {},
   "outputs": [
    {
     "name": "stdout",
     "output_type": "stream",
     "text": [
      "config: h=1, epsilon_decay=0.95\n",
      "playing times: 6000\n",
      "length of loss: 5936, average of loss (interval is 2): 16.66003415278756, average of loss (interval is 20): 16.415073569776233, average of loss (interval is 100): 15.694142721096675\n",
      "length of loss: 5936, average of loss (interval is 2): 7.205223576020138, average of loss (interval is 20): 7.050136550257503, average of loss (interval is 100): 7.05993527273337\n",
      "==================================================\n",
      "Your action: tensor([0., 0., 0., 0., 0., 0., 0., 0., 0., 0., 0., 0., 0., 0., 0., 0., 0., 0., 0., 0.])\n",
      "Oppo action: tensor([0., 0., 0., 0., 0., 0., 0., 0., 0., 0., 0., 0., 0., 0., 0., 0., 0., 0., 0., 0.])\n",
      "\n",
      "\n",
      "config: h=1, epsilon_decay=0.99\n",
      "playing times: 20000\n",
      "length of loss: 19936, average of loss (interval is 2): 3.765200049057304, average of loss (interval is 20): 3.766812394022822, average of loss (interval is 100): 3.842576918378472\n",
      "length of loss: 19936, average of loss (interval is 2): 8.724930017325706, average of loss (interval is 20): 8.81258524953058, average of loss (interval is 100): 8.92036146134138\n",
      "==================================================\n",
      "Your action: tensor([1., 1., 1., 1., 1., 1., 1., 1., 1., 1., 1., 1., 1., 1., 1., 1., 1., 1.,\n",
      "        1., 1.])\n",
      "Oppo action: tensor([0., 0., 0., 0., 0., 0., 0., 0., 0., 0., 0., 0., 0., 0., 0., 0., 0., 0., 0., 0.])\n",
      "\n",
      "\n",
      "config: h=1, epsilon_decay=0.995\n",
      "playing times: 16000\n",
      "length of loss: 15936, average of loss (interval is 2): 4.520882575903962, average of loss (interval is 20): 4.374750629696093, average of loss (interval is 100): 4.067906654532999\n",
      "length of loss: 15936, average of loss (interval is 2): 5.612996385374762, average of loss (interval is 20): 5.638637574162881, average of loss (interval is 100): 5.772265244089067\n",
      "==================================================\n",
      "Your action: tensor([0., 0., 0., 0., 0., 0., 0., 0., 0., 0., 0., 0., 0., 0., 0., 0., 0., 0., 0., 0.])\n",
      "Oppo action: tensor([0., 0., 0., 0., 0., 0., 0., 0., 0., 0., 0., 0., 0., 0., 0., 0., 0., 0., 0., 0.])\n",
      "\n",
      "\n",
      "config: h=1, epsilon_decay=0.999\n",
      "playing times: 20000\n",
      "length of loss: 19936, average of loss (interval is 2): 6.8469775897076275, average of loss (interval is 20): 6.954814254295981, average of loss (interval is 100): 6.88328926205635\n",
      "length of loss: 19936, average of loss (interval is 2): 7.188756552878035, average of loss (interval is 20): 7.393612552191334, average of loss (interval is 100): 7.385116039812565\n",
      "==================================================\n",
      "Your action: tensor([0., 0., 1., 0., 0., 1., 0., 0., 1., 0., 0., 1., 0., 0., 1., 0., 0., 1.,\n",
      "        0., 0.])\n",
      "Oppo action: tensor([0., 1., 1., 0., 1., 1., 0., 1., 1., 0., 1., 1., 0., 1., 1., 0., 1., 1.,\n",
      "        0., 1.])\n",
      "\n",
      "\n",
      "config: h=2, epsilon_decay=0.95\n",
      "playing times: 3000\n",
      "length of loss: 2935, average of loss (interval is 2): 17.55214894240169, average of loss (interval is 20): 17.566902163482847, average of loss (interval is 100): 20.068946458896\n",
      "length of loss: 2935, average of loss (interval is 2): 21.0076778739975, average of loss (interval is 20): 21.324132505728272, average of loss (interval is 100): 20.004488543669382\n",
      "==================================================\n",
      "Your action: tensor([1., 1., 1., 1., 1., 1., 1., 1., 1., 1., 1., 1., 1., 1., 1., 1., 1., 1.,\n",
      "        1., 1.])\n",
      "Oppo action: tensor([0., 0., 0., 0., 0., 0., 0., 0., 0., 0., 0., 0., 0., 0., 0., 0., 0., 0., 0., 0.])\n",
      "\n",
      "\n",
      "config: h=2, epsilon_decay=0.99\n",
      "playing times: 11000\n",
      "length of loss: 10935, average of loss (interval is 2): 13.558629614031917, average of loss (interval is 20): 13.785687544337138, average of loss (interval is 100): 13.124650805104862\n",
      "length of loss: 10935, average of loss (interval is 2): 26.401980486581948, average of loss (interval is 20): 25.470043165592216, average of loss (interval is 100): 26.0094155495817\n",
      "==================================================\n",
      "Your action: tensor([0., 0., 0., 0., 0., 0., 0., 1., 0., 0., 1., 0., 0., 1., 0., 0., 1., 0.,\n",
      "        0., 1.])\n",
      "Oppo action: tensor([0., 1., 0., 1., 0., 1., 1., 1., 1., 1., 1., 1., 1., 1., 1., 1., 1., 1.,\n",
      "        1., 1.])\n",
      "\n",
      "\n",
      "config: h=2, epsilon_decay=0.995\n",
      "playing times: 6000\n",
      "length of loss: 5935, average of loss (interval is 2): 42.85150478089434, average of loss (interval is 20): 44.321319023768105, average of loss (interval is 100): 46.21225399573644\n",
      "length of loss: 5935, average of loss (interval is 2): 40.158575284513184, average of loss (interval is 20): 39.308419002426994, average of loss (interval is 100): 39.07668347160021\n",
      "==================================================\n",
      "Your action: tensor([1., 1., 1., 1., 1., 1., 1., 1., 1., 1., 1., 1., 1., 1., 1., 1., 1., 1.,\n",
      "        1., 1.])\n",
      "Oppo action: tensor([1., 1., 1., 1., 1., 1., 1., 1., 1., 1., 1., 1., 1., 1., 1., 1., 1., 1.,\n",
      "        1., 1.])\n",
      "\n",
      "\n",
      "config: h=2, epsilon_decay=0.999\n",
      "playing times: 20000\n",
      "length of loss: 19935, average of loss (interval is 2): 10.411893473331178, average of loss (interval is 20): 10.481600661933003, average of loss (interval is 100): 10.41362331032753\n",
      "length of loss: 19935, average of loss (interval is 2): 12.675980270375314, average of loss (interval is 20): 12.655938820351091, average of loss (interval is 100): 13.127351343035699\n",
      "==================================================\n",
      "Your action: tensor([0., 0., 0., 0., 0., 0., 0., 0., 0., 0., 0., 0., 0., 0., 0., 0., 0., 0., 0., 0.])\n",
      "Oppo action: tensor([1., 1., 1., 1., 1., 1., 1., 1., 1., 1., 1., 1., 1., 1., 1., 1., 1., 1.,\n",
      "        1., 1.])\n",
      "\n",
      "\n",
      "config: h=5, epsilon_decay=0.95\n",
      "playing times: 5000\n",
      "length of loss: 4932, average of loss (interval is 2): 70.08712882358228, average of loss (interval is 20): 69.48771346858156, average of loss (interval is 100): 70.90899972438812\n",
      "length of loss: 4932, average of loss (interval is 2): 64.01869774670836, average of loss (interval is 20): 63.16924914066126, average of loss (interval is 100): 60.436528687477114\n",
      "==================================================\n",
      "Your action: tensor([0., 0., 0., 0., 0., 0., 0., 0., 0., 0., 0., 0., 0., 0., 0., 0., 0., 0., 0., 0.])\n",
      "Oppo action: tensor([1., 0., 1., 1., 0., 1., 1., 0., 1., 1., 0., 1., 1., 0., 1., 1., 0., 1.,\n",
      "        1., 0.])\n",
      "\n",
      "\n",
      "config: h=5, epsilon_decay=0.99\n",
      "playing times: 9000\n",
      "length of loss: 8932, average of loss (interval is 2): 39.96534475490645, average of loss (interval is 20): 38.717456860963665, average of loss (interval is 100): 39.44904682901171\n",
      "length of loss: 8932, average of loss (interval is 2): 37.25934333912444, average of loss (interval is 20): 36.3895266880125, average of loss (interval is 100): 36.44980747699738\n",
      "==================================================\n",
      "Your action: tensor([0., 0., 0., 0., 0., 0., 0., 0., 0., 0., 0., 0., 0., 0., 0., 1., 0., 0.,\n",
      "        0., 0.])\n",
      "Oppo action: tensor([0., 0., 0., 0., 0., 0., 0., 0., 0., 0., 0., 0., 0., 0., 0., 0., 0., 0., 0., 0.])\n",
      "\n",
      "\n",
      "config: h=5, epsilon_decay=0.995\n",
      "playing times: 9000\n",
      "length of loss: 8932, average of loss (interval is 2): 54.68528101540872, average of loss (interval is 20): 54.039261191216625, average of loss (interval is 100): 55.8409942706426\n",
      "length of loss: 8932, average of loss (interval is 2): 70.80830395387204, average of loss (interval is 20): 67.75712728713717, average of loss (interval is 100): 67.40715488990148\n",
      "==================================================\n",
      "Your action: tensor([0., 0., 0., 0., 0., 0., 0., 0., 0., 0., 0., 0., 0., 0., 0., 0., 0., 0., 0., 0.])\n",
      "Oppo action: tensor([1., 1., 1., 1., 1., 1., 1., 1., 1., 1., 1., 1., 1., 1., 1., 1., 1., 1.,\n",
      "        0., 1.])\n",
      "\n",
      "\n",
      "config: h=5, epsilon_decay=0.999\n",
      "playing times: 6000\n",
      "length of loss: 5932, average of loss (interval is 2): 30.394955691339515, average of loss (interval is 20): 28.87201431784967, average of loss (interval is 100): 33.41156587600708\n",
      "length of loss: 5932, average of loss (interval is 2): 36.183091324202046, average of loss (interval is 20): 36.21329724307012, average of loss (interval is 100): 39.54559892018636\n",
      "==================================================\n",
      "Your action: tensor([1., 1., 1., 1., 1., 1., 1., 1., 1., 1., 1., 1., 1., 1., 1., 1., 1., 1.,\n",
      "        1., 1.])\n",
      "Oppo action: tensor([1., 1., 1., 1., 1., 1., 1., 1., 1., 1., 1., 1., 1., 1., 1., 1., 1., 1.,\n",
      "        1., 1.])\n",
      "\n",
      "\n",
      "config: h=10, epsilon_decay=0.95\n"
     ]
    },
    {
     "name": "stdout",
     "output_type": "stream",
     "text": [
      "playing times: 4000\n",
      "length of loss: 3927, average of loss (interval is 2): 39.74156008666863, average of loss (interval is 20): 39.14970471350675, average of loss (interval is 100): 38.4372915238142\n",
      "length of loss: 3927, average of loss (interval is 2): 53.9493605391314, average of loss (interval is 20): 55.327261114483555, average of loss (interval is 100): 57.51042265892029\n",
      "==================================================\n",
      "Your action: tensor([1., 1., 1., 1., 1., 1., 1., 1., 1., 1., 1., 1., 1., 1., 1., 1., 1., 1.,\n",
      "        1., 1.])\n",
      "Oppo action: tensor([1., 1., 1., 1., 1., 1., 1., 1., 1., 1., 1., 1., 1., 1., 1., 1., 1., 1.,\n",
      "        1., 1.])\n",
      "\n",
      "\n",
      "config: h=10, epsilon_decay=0.99\n",
      "playing times: 4000\n",
      "length of loss: 3927, average of loss (interval is 2): 92.06164374024951, average of loss (interval is 20): 92.61497359106383, average of loss (interval is 100): 90.12103570997715\n",
      "length of loss: 3927, average of loss (interval is 2): 83.13210276840539, average of loss (interval is 20): 84.06750825667744, average of loss (interval is 100): 88.44111963957548\n",
      "==================================================\n",
      "Your action: tensor([1., 1., 1., 1., 1., 0., 1., 1., 1., 1., 1., 1., 1., 1., 1., 1., 1., 1.,\n",
      "        1., 1.])\n",
      "Oppo action: tensor([0., 0., 0., 0., 0., 0., 0., 0., 0., 0., 0., 0., 0., 0., 0., 0., 0., 0., 0., 0.])\n",
      "\n",
      "\n",
      "config: h=10, epsilon_decay=0.995\n",
      "playing times: 3000\n",
      "length of loss: 2927, average of loss (interval is 2): 8.895647543110972, average of loss (interval is 20): 8.479633167487423, average of loss (interval is 100): 8.834780081113179\n",
      "length of loss: 2927, average of loss (interval is 2): 21.05028306053636, average of loss (interval is 20): 23.034075151495383, average of loss (interval is 100): 24.910581290721893\n",
      "==================================================\n",
      "Your action: tensor([1., 1., 1., 1., 1., 1., 1., 1., 1., 1., 1., 1., 1., 1., 1., 1., 1., 1.,\n",
      "        1., 1.])\n",
      "Oppo action: tensor([0., 0., 0., 0., 0., 0., 0., 0., 0., 0., 0., 0., 0., 0., 0., 0., 0., 0., 0., 0.])\n",
      "\n",
      "\n",
      "config: h=10, epsilon_decay=0.999\n",
      "playing times: 9000\n",
      "length of loss: 8927, average of loss (interval is 2): 26.219023888576842, average of loss (interval is 20): 26.38919872405545, average of loss (interval is 100): 26.48603355884552\n",
      "length of loss: 8927, average of loss (interval is 2): 25.209809399834135, average of loss (interval is 20): 25.508031023428742, average of loss (interval is 100): 26.493564511670005\n",
      "==================================================\n",
      "Your action: tensor([1., 1., 1., 1., 1., 1., 1., 1., 1., 1., 1., 1., 1., 1., 1., 1., 1., 1.,\n",
      "        1., 1.])\n",
      "Oppo action: tensor([0., 1., 0., 0., 0., 0., 0., 0., 0., 0., 0., 0., 0., 0., 0., 0., 0., 0.,\n",
      "        0., 0.])\n",
      "\n",
      "\n"
     ]
    }
   ],
   "source": [
    "result_dict_dqn={'h=1':{}, 'h=2':{}, 'h=5':{}, 'h=10':{}}\n",
    "loss_dict_dqn={'h=1':{}, 'h=2':{}, 'h=5':{}, 'h=10':{}}\n",
    "strategy_dict_dqn={'h=1':{}, 'h=2':{}, 'h=5':{}, 'h=10':{}}\n",
    "\n",
    "for key in result_dict_dqn:\n",
    "    result_dict_dqn[key] = copy.deepcopy(epsilon_dict)\n",
    "    loss_dict_dqn[key] = copy.deepcopy(epsilon_dict)\n",
    "    strategy_dict_dqn[key] = copy.deepcopy(epsilon_dict)\n",
    "\n",
    "for i in h:\n",
    "    for j in epsilon_decay:\n",
    "        config['h'] = i\n",
    "        config['epsilon_decay'] = j\n",
    "        config_ob = Config(config)\n",
    "        env = Environment(config_ob)\n",
    "        print(f'config: h={i}, epsilon_decay={j}')\n",
    "        \n",
    "        rl_num = 9\n",
    "        for _ in range(5):\n",
    "            convergence = False\n",
    "            with HiddenPrints():\n",
    "                agent1 = constructAgent(strategies[rl_num], config_ob)\n",
    "                agent2 = constructAgent(strategies[rl_num], config_ob)\n",
    "\n",
    "                k = 1000\n",
    "                while not convergence:\n",
    "                    env.play(agent1, agent2, k)\n",
    "                    convergence = determine_convergence(agent2, 20, k=k)\n",
    "                    if agent2.play_times >= 20*k:\n",
    "                        break\n",
    "        \n",
    "                result_dict_dqn[f'h={i}'][f'epsilon_decay={j}'].append(agent2.play_times)\n",
    "                loss_dict_dqn[f'h={i}'][f'epsilon_decay={j}'].append([np.mean(agent1.loss),np.mean(agent2.loss)])\n",
    "                strategy_dict_dqn[f'h={i}'][f'epsilon_decay={j}'].append([agent1.own_memory[agent1.play_times-10:agent1.play_times].numpy().astype(int).tolist(), agent2.own_memory[agent2.play_times-10:agent2.play_times].numpy().astype(int).tolist()])\n",
    "        print(f'playing times: {agent2.play_times}')\n",
    "        print(f'length of loss: {len(agent1.loss)}, average of loss (interval is 2): {np.mean(agent1.loss[::2])}, average of loss (interval is 20): {np.mean(agent1.loss[::20])}, average of loss (interval is 100): {np.mean(agent1.loss[::100])}')\n",
    "        print(f'length of loss: {len(agent2.loss)}, average of loss (interval is 2): {np.mean(agent2.loss[::2])}, average of loss (interval is 20): {np.mean(agent2.loss[::20])}, average of loss (interval is 100): {np.mean(agent2.loss[::100])}')\n",
    "        agent2.show()\n",
    "        print()\n",
    "        print()"
   ]
  },
  {
   "cell_type": "code",
   "execution_count": 8,
   "metadata": {},
   "outputs": [
    {
     "data": {
      "text/plain": [
       "{'h=1': {'epsilon_decay=0.95': [20000, 20000, 3000, 3000, 6000],\n",
       "  'epsilon_decay=0.99': [20000, 20000, 3000, 20000, 20000],\n",
       "  'epsilon_decay=0.995': [4000, 20000, 20000, 8000, 16000],\n",
       "  'epsilon_decay=0.999': [20000, 20000, 20000, 20000, 20000]},\n",
       " 'h=2': {'epsilon_decay=0.95': [3000, 3000, 2000, 3000, 3000],\n",
       "  'epsilon_decay=0.99': [20000, 4000, 8000, 3000, 11000],\n",
       "  'epsilon_decay=0.995': [4000, 20000, 18000, 5000, 6000],\n",
       "  'epsilon_decay=0.999': [20000, 20000, 20000, 20000, 20000]},\n",
       " 'h=5': {'epsilon_decay=0.95': [20000, 8000, 3000, 5000, 5000],\n",
       "  'epsilon_decay=0.99': [3000, 6000, 8000, 4000, 9000],\n",
       "  'epsilon_decay=0.995': [20000, 8000, 8000, 20000, 9000],\n",
       "  'epsilon_decay=0.999': [20000, 7000, 20000, 20000, 6000]},\n",
       " 'h=10': {'epsilon_decay=0.95': [3000, 4000, 10000, 20000, 4000],\n",
       "  'epsilon_decay=0.99': [3000, 5000, 19000, 4000, 4000],\n",
       "  'epsilon_decay=0.995': [6000, 5000, 3000, 3000, 3000],\n",
       "  'epsilon_decay=0.999': [20000, 6000, 9000, 15000, 9000]}}"
      ]
     },
     "execution_count": 8,
     "metadata": {},
     "output_type": "execute_result"
    }
   ],
   "source": [
    "result_dict_dqn"
   ]
  },
  {
   "cell_type": "code",
   "execution_count": 9,
   "metadata": {
    "scrolled": true
   },
   "outputs": [
    {
     "data": {
      "text/plain": [
       "{'h=1': {'epsilon_decay=0.95': [[[1, 1, 1, 1, 1, 1, 1, 1, 1, 1],\n",
       "    [1, 1, 0, 1, 1, 1, 1, 1, 1, 1]],\n",
       "   [[0, 0, 0, 0, 0, 0, 0, 0, 0, 0], [1, 1, 1, 1, 1, 1, 1, 1, 1, 1]],\n",
       "   [[0, 0, 0, 0, 0, 0, 0, 0, 0, 0], [1, 1, 1, 1, 1, 1, 1, 1, 1, 1]],\n",
       "   [[0, 0, 0, 0, 0, 0, 0, 0, 0, 0], [0, 0, 0, 0, 0, 0, 0, 0, 0, 0]],\n",
       "   [[0, 0, 0, 0, 0, 0, 0, 0, 0, 0], [0, 0, 0, 0, 0, 0, 0, 0, 0, 0]]],\n",
       "  'epsilon_decay=0.99': [[[1, 0, 1, 0, 1, 0, 1, 0, 1, 0],\n",
       "    [0, 0, 0, 0, 0, 0, 0, 0, 0, 0]],\n",
       "   [[0, 0, 0, 0, 0, 0, 0, 0, 0, 0], [0, 0, 0, 0, 0, 0, 0, 0, 0, 0]],\n",
       "   [[0, 0, 0, 0, 0, 0, 0, 0, 0, 0], [0, 0, 0, 0, 0, 0, 0, 0, 0, 0]],\n",
       "   [[0, 0, 0, 0, 0, 0, 0, 0, 0, 0], [0, 0, 0, 0, 0, 0, 0, 0, 0, 0]],\n",
       "   [[0, 0, 0, 0, 0, 0, 0, 0, 0, 0], [1, 1, 1, 1, 1, 1, 1, 1, 1, 1]]],\n",
       "  'epsilon_decay=0.995': [[[1, 1, 1, 1, 1, 1, 1, 1, 1, 1],\n",
       "    [1, 1, 1, 1, 1, 1, 1, 1, 1, 1]],\n",
       "   [[1, 0, 1, 0, 1, 0, 1, 0, 1, 0], [1, 0, 1, 0, 1, 0, 1, 1, 1, 1]],\n",
       "   [[1, 1, 1, 1, 1, 1, 1, 1, 1, 1], [1, 1, 1, 1, 1, 1, 1, 1, 1, 1]],\n",
       "   [[0, 0, 0, 0, 0, 0, 0, 0, 0, 0], [0, 0, 0, 0, 0, 0, 0, 0, 0, 0]],\n",
       "   [[0, 0, 0, 0, 0, 0, 0, 0, 0, 0], [0, 0, 0, 0, 0, 0, 0, 0, 0, 0]]],\n",
       "  'epsilon_decay=0.999': [[[1, 1, 1, 1, 1, 1, 1, 1, 1, 1],\n",
       "    [1, 1, 0, 1, 1, 1, 1, 1, 1, 1]],\n",
       "   [[1, 1, 1, 1, 1, 1, 1, 1, 1, 1], [1, 1, 1, 1, 1, 1, 1, 1, 1, 1]],\n",
       "   [[1, 1, 1, 1, 1, 1, 1, 1, 1, 1], [1, 1, 1, 1, 1, 1, 1, 1, 1, 1]],\n",
       "   [[1, 0, 0, 1, 0, 0, 1, 0, 0, 1], [1, 0, 1, 1, 0, 1, 1, 0, 1, 1]],\n",
       "   [[1, 1, 0, 1, 1, 0, 1, 1, 0, 1], [0, 1, 0, 0, 1, 0, 0, 1, 0, 0]]]},\n",
       " 'h=2': {'epsilon_decay=0.95': [[[0, 0, 0, 0, 0, 0, 0, 0, 0, 0],\n",
       "    [1, 1, 1, 1, 1, 1, 1, 1, 1, 1]],\n",
       "   [[0, 0, 0, 0, 0, 0, 0, 0, 0, 0], [0, 0, 0, 0, 0, 0, 0, 0, 0, 0]],\n",
       "   [[1, 1, 1, 1, 1, 1, 1, 1, 1, 1], [1, 1, 1, 1, 1, 1, 1, 1, 1, 1]],\n",
       "   [[0, 0, 0, 0, 0, 0, 0, 0, 0, 0], [0, 0, 0, 0, 0, 0, 0, 0, 0, 0]],\n",
       "   [[0, 0, 0, 0, 0, 0, 0, 0, 0, 0], [1, 1, 1, 1, 1, 1, 1, 1, 1, 1]]],\n",
       "  'epsilon_decay=0.99': [[[1, 1, 1, 1, 1, 1, 1, 1, 1, 1],\n",
       "    [1, 1, 1, 1, 1, 1, 1, 1, 1, 1]],\n",
       "   [[1, 1, 1, 1, 1, 1, 1, 1, 1, 1], [0, 0, 0, 0, 0, 0, 0, 0, 0, 0]],\n",
       "   [[0, 1, 0, 1, 0, 1, 0, 1, 0, 1], [0, 0, 0, 0, 0, 0, 0, 0, 0, 0]],\n",
       "   [[0, 0, 0, 0, 0, 0, 0, 0, 0, 0], [0, 0, 0, 0, 0, 0, 0, 0, 0, 0]],\n",
       "   [[1, 1, 1, 1, 1, 1, 1, 1, 1, 1], [1, 0, 0, 1, 0, 0, 1, 0, 0, 1]]],\n",
       "  'epsilon_decay=0.995': [[[0, 0, 0, 0, 0, 0, 0, 0, 0, 0],\n",
       "    [0, 0, 0, 0, 0, 0, 0, 0, 0, 0]],\n",
       "   [[1, 1, 0, 0, 1, 1, 0, 0, 1, 1], [1, 1, 1, 1, 1, 1, 1, 1, 1, 1]],\n",
       "   [[1, 0, 1, 1, 1, 1, 1, 1, 1, 0], [0, 0, 0, 0, 0, 0, 0, 0, 0, 0]],\n",
       "   [[1, 1, 1, 1, 1, 1, 1, 1, 1, 1], [1, 1, 1, 1, 1, 1, 1, 1, 1, 1]],\n",
       "   [[1, 1, 1, 1, 1, 1, 1, 1, 1, 1], [1, 1, 1, 1, 1, 1, 1, 1, 1, 1]]],\n",
       "  'epsilon_decay=0.999': [[[1, 0, 0, 1, 0, 0, 1, 0, 0, 1],\n",
       "    [1, 1, 1, 1, 1, 1, 1, 1, 1, 1]],\n",
       "   [[0, 0, 0, 0, 0, 0, 0, 0, 0, 0], [1, 1, 1, 1, 1, 1, 1, 1, 1, 1]],\n",
       "   [[1, 1, 0, 1, 1, 0, 1, 1, 0, 1], [1, 1, 1, 1, 1, 1, 1, 1, 1, 1]],\n",
       "   [[1, 1, 1, 1, 1, 1, 1, 1, 1, 1], [1, 1, 0, 1, 1, 1, 1, 1, 1, 1]],\n",
       "   [[1, 1, 1, 1, 1, 1, 1, 1, 1, 1], [0, 0, 0, 0, 0, 0, 0, 0, 0, 0]]]},\n",
       " 'h=5': {'epsilon_decay=0.95': [[[1, 1, 1, 1, 1, 0, 1, 0, 1, 0],\n",
       "    [0, 1, 0, 0, 0, 0, 1, 0, 0, 0]],\n",
       "   [[0, 0, 0, 0, 0, 0, 0, 0, 0, 0], [0, 0, 0, 0, 0, 0, 0, 0, 0, 0]],\n",
       "   [[0, 0, 0, 0, 0, 0, 0, 0, 0, 0], [1, 1, 1, 1, 1, 1, 1, 1, 1, 1]],\n",
       "   [[0, 0, 0, 0, 0, 0, 0, 0, 0, 0], [1, 1, 1, 1, 1, 1, 1, 1, 1, 1]],\n",
       "   [[0, 1, 1, 0, 1, 1, 0, 1, 1, 0], [0, 0, 0, 0, 0, 0, 0, 0, 0, 0]]],\n",
       "  'epsilon_decay=0.99': [[[1, 0, 0, 0, 0, 1, 0, 1, 0, 0],\n",
       "    [1, 1, 1, 1, 1, 1, 1, 1, 1, 1]],\n",
       "   [[1, 1, 1, 1, 1, 1, 1, 1, 1, 1], [1, 1, 1, 1, 1, 1, 1, 1, 1, 1]],\n",
       "   [[1, 1, 1, 1, 1, 1, 1, 1, 1, 1], [0, 0, 1, 0, 0, 0, 0, 0, 0, 0]],\n",
       "   [[0, 0, 0, 0, 0, 0, 0, 0, 0, 0], [1, 1, 1, 1, 1, 1, 0, 1, 1, 1]],\n",
       "   [[0, 0, 0, 0, 0, 0, 0, 0, 0, 0], [0, 0, 0, 0, 0, 1, 0, 0, 0, 0]]],\n",
       "  'epsilon_decay=0.995': [[[1, 1, 1, 1, 1, 1, 1, 1, 1, 1],\n",
       "    [0, 0, 0, 0, 0, 0, 0, 0, 0, 0]],\n",
       "   [[0, 0, 0, 0, 0, 0, 0, 0, 0, 0], [1, 1, 1, 1, 1, 1, 1, 1, 1, 1]],\n",
       "   [[0, 0, 0, 0, 0, 0, 0, 0, 0, 0], [1, 1, 1, 1, 1, 1, 1, 1, 1, 1]],\n",
       "   [[0, 0, 0, 1, 1, 0, 0, 0, 1, 1], [1, 1, 1, 0, 0, 1, 1, 1, 0, 0]],\n",
       "   [[1, 1, 1, 1, 1, 1, 1, 1, 0, 1], [0, 0, 0, 0, 0, 0, 0, 0, 0, 0]]],\n",
       "  'epsilon_decay=0.999': [[[0, 0, 1, 1, 1, 1, 1, 0, 1, 1],\n",
       "    [0, 1, 1, 1, 0, 0, 0, 0, 0, 0]],\n",
       "   [[1, 1, 1, 1, 1, 1, 1, 1, 1, 1], [1, 1, 1, 1, 1, 1, 1, 1, 1, 1]],\n",
       "   [[1, 1, 1, 1, 1, 1, 1, 1, 1, 1], [0, 0, 1, 0, 0, 1, 0, 0, 1, 0]],\n",
       "   [[1, 0, 0, 1, 0, 0, 0, 1, 0, 0], [1, 1, 1, 1, 1, 1, 1, 1, 1, 1]],\n",
       "   [[1, 1, 1, 1, 1, 1, 1, 1, 1, 1], [1, 1, 1, 1, 1, 1, 1, 1, 1, 1]]]},\n",
       " 'h=10': {'epsilon_decay=0.95': [[[1, 1, 1, 1, 1, 1, 1, 1, 1, 1],\n",
       "    [1, 1, 1, 1, 1, 1, 1, 1, 1, 1]],\n",
       "   [[0, 0, 0, 0, 0, 0, 0, 0, 0, 0], [0, 0, 0, 0, 0, 0, 0, 0, 0, 0]],\n",
       "   [[0, 0, 0, 0, 0, 0, 0, 0, 0, 0], [1, 1, 1, 1, 1, 1, 1, 1, 1, 1]],\n",
       "   [[1, 1, 1, 1, 1, 1, 1, 1, 1, 1], [1, 1, 1, 1, 0, 1, 1, 1, 1, 0]],\n",
       "   [[1, 1, 1, 1, 1, 1, 1, 1, 1, 1], [1, 1, 1, 1, 1, 1, 1, 1, 1, 1]]],\n",
       "  'epsilon_decay=0.99': [[[0, 0, 0, 0, 0, 0, 0, 0, 0, 0],\n",
       "    [1, 1, 1, 1, 1, 1, 1, 1, 1, 1]],\n",
       "   [[1, 1, 1, 1, 1, 1, 1, 1, 1, 1], [1, 1, 1, 1, 1, 1, 1, 1, 1, 1]],\n",
       "   [[1, 1, 1, 1, 1, 1, 1, 1, 1, 1], [1, 1, 0, 1, 1, 0, 1, 1, 1, 1]],\n",
       "   [[0, 1, 1, 1, 1, 1, 1, 1, 1, 1], [1, 1, 1, 1, 1, 1, 1, 1, 1, 1]],\n",
       "   [[0, 0, 0, 0, 0, 0, 0, 0, 0, 0], [1, 1, 1, 1, 1, 1, 1, 1, 1, 1]]],\n",
       "  'epsilon_decay=0.995': [[[0, 0, 0, 0, 0, 0, 0, 0, 0, 0],\n",
       "    [1, 1, 1, 1, 1, 1, 1, 1, 1, 1]],\n",
       "   [[1, 1, 1, 1, 1, 1, 1, 1, 1, 1], [1, 1, 1, 1, 1, 1, 1, 1, 1, 1]],\n",
       "   [[1, 1, 1, 1, 1, 1, 1, 1, 0, 1], [0, 0, 0, 0, 0, 0, 0, 0, 0, 0]],\n",
       "   [[0, 0, 0, 0, 0, 0, 0, 0, 0, 0], [1, 1, 1, 1, 1, 1, 1, 1, 1, 1]],\n",
       "   [[0, 0, 0, 0, 0, 0, 0, 0, 0, 0], [1, 1, 1, 1, 1, 1, 1, 1, 1, 1]]],\n",
       "  'epsilon_decay=0.999': [[[0, 0, 0, 0, 0, 0, 0, 0, 0, 0],\n",
       "    [1, 1, 1, 1, 1, 1, 1, 1, 1, 1]],\n",
       "   [[0, 0, 1, 0, 0, 0, 0, 0, 0, 0], [1, 1, 1, 1, 1, 1, 1, 1, 1, 1]],\n",
       "   [[0, 0, 0, 0, 0, 0, 0, 0, 0, 0], [1, 1, 1, 1, 1, 1, 1, 1, 1, 1]],\n",
       "   [[0, 0, 0, 0, 0, 0, 0, 0, 0, 0], [0, 0, 0, 0, 0, 0, 0, 0, 0, 0]],\n",
       "   [[0, 0, 0, 0, 0, 0, 0, 0, 0, 0], [1, 1, 1, 1, 1, 1, 1, 1, 1, 1]]]}}"
      ]
     },
     "execution_count": 9,
     "metadata": {},
     "output_type": "execute_result"
    }
   ],
   "source": [
    "strategy_dict_dqn"
   ]
  },
  {
   "cell_type": "code",
   "execution_count": 10,
   "metadata": {},
   "outputs": [
    {
     "name": "stdout",
     "output_type": "stream",
     "text": [
      "10.36281814012781\n",
      "5.30305792075878\n",
      "8.368344093669322\n",
      "6.437139419724933\n",
      "16.61400641145889\n",
      "22.313856821682563\n",
      "25.244923164907213\n",
      "9.55751421001342\n",
      "33.46241106023884\n",
      "36.018553720553626\n",
      "22.911297939896606\n",
      "33.22744478771189\n",
      "34.79207039937955\n",
      "68.35792606106725\n",
      "41.8682668179988\n",
      "41.587205091281305\n"
     ]
    }
   ],
   "source": [
    "for i in h:\n",
    "    for j in epsilon_decay:\n",
    "        print(np.mean(np.array(loss_dict_dqn[f'h={i}'][f'epsilon_decay={j}'])[:,0]))"
   ]
  },
  {
   "attachments": {},
   "cell_type": "markdown",
   "metadata": {},
   "source": [
    "## DRQN vs TfT"
   ]
  },
  {
   "cell_type": "code",
   "execution_count": 11,
   "metadata": {},
   "outputs": [
    {
     "name": "stdout",
     "output_type": "stream",
     "text": [
      "config: h=1, epsilon_decay=0.95\n",
      "playing times: 3000\n",
      "length of loss: 2936, average of loss (interval is 2): 0.10015642578853146, average of loss (interval is 20): 0.11335388142257823, average of loss (interval is 100): 0.09106246220738588\n",
      "==================================================\n",
      "Your action: tensor([1., 1., 1., 1., 1., 1., 1., 1., 1., 1., 1., 1., 1., 1., 1., 1., 1., 1.,\n",
      "        1., 1.])\n",
      "Oppo action: tensor([1., 1., 1., 1., 1., 1., 1., 1., 1., 1., 1., 1., 1., 1., 1., 1., 1., 1.,\n",
      "        1., 1.])\n",
      "\n",
      "\n",
      "config: h=1, epsilon_decay=0.99\n",
      "playing times: 3000\n",
      "length of loss: 2936, average of loss (interval is 2): 0.33327397430011857, average of loss (interval is 20): 0.49396941360202223, average of loss (interval is 100): 0.19131687412736936\n",
      "==================================================\n",
      "Your action: tensor([0., 0., 0., 0., 0., 0., 0., 0., 0., 0., 0., 0., 0., 0., 0., 0., 0., 0., 0., 0.])\n",
      "Oppo action: tensor([0., 0., 0., 0., 0., 0., 0., 0., 0., 0., 0., 0., 0., 0., 0., 0., 0., 0., 0., 0.])\n",
      "\n",
      "\n",
      "config: h=1, epsilon_decay=0.995\n",
      "playing times: 3000\n",
      "length of loss: 2936, average of loss (interval is 2): 0.3266447026405703, average of loss (interval is 20): 0.49501647736984883, average of loss (interval is 100): 0.1768750812082241\n",
      "==================================================\n",
      "Your action: tensor([0., 0., 0., 0., 0., 0., 0., 0., 0., 0., 0., 0., 0., 0., 0., 0., 0., 0., 0., 0.])\n",
      "Oppo action: tensor([0., 0., 0., 0., 0., 0., 0., 0., 0., 0., 0., 0., 0., 0., 0., 0., 0., 0., 0., 0.])\n",
      "\n",
      "\n",
      "config: h=1, epsilon_decay=0.999\n",
      "playing times: 5000\n",
      "length of loss: 4936, average of loss (interval is 2): 0.25168615774331105, average of loss (interval is 20): 0.4106800219483946, average of loss (interval is 100): 0.08913620308274403\n",
      "==================================================\n",
      "Your action: tensor([0., 0., 0., 0., 0., 0., 0., 0., 0., 0., 0., 0., 0., 0., 0., 0., 0., 0., 0., 0.])\n",
      "Oppo action: tensor([0., 0., 0., 0., 0., 0., 0., 0., 0., 0., 0., 0., 0., 0., 0., 0., 0., 0., 0., 0.])\n",
      "\n",
      "\n",
      "config: h=2, epsilon_decay=0.95\n",
      "playing times: 9000\n",
      "length of loss: 8935, average of loss (interval is 2): 0.18491797373476765, average of loss (interval is 20): 0.283287303955637, average of loss (interval is 100): 0.07406892136803234\n",
      "==================================================\n",
      "Your action: tensor([0., 0., 0., 0., 0., 0., 0., 0., 0., 0., 0., 0., 0., 0., 0., 0., 0., 0., 0., 0.])\n",
      "Oppo action: tensor([0., 0., 0., 0., 0., 0., 0., 0., 0., 0., 0., 0., 0., 0., 0., 0., 0., 0., 0., 0.])\n",
      "\n",
      "\n",
      "config: h=2, epsilon_decay=0.99\n",
      "playing times: 3000\n",
      "length of loss: 2935, average of loss (interval is 2): 0.30009493019162264, average of loss (interval is 20): 0.3944752398289033, average of loss (interval is 100): 0.17700867008073448\n",
      "==================================================\n",
      "Your action: tensor([0., 0., 0., 0., 1., 0., 0., 0., 0., 0., 0., 0., 0., 0., 0., 0., 0., 0.,\n",
      "        0., 0.])\n",
      "Oppo action: tensor([0., 0., 0., 0., 0., 1., 0., 0., 0., 0., 0., 0., 0., 0., 0., 0., 0., 0.,\n",
      "        0., 0.])\n",
      "\n",
      "\n",
      "config: h=2, epsilon_decay=0.995\n",
      "playing times: 3000\n",
      "length of loss: 2935, average of loss (interval is 2): 0.29532466753649017, average of loss (interval is 20): 0.4025108070365394, average of loss (interval is 100): 0.1648667334365503\n",
      "==================================================\n",
      "Your action: tensor([0., 0., 0., 0., 0., 0., 0., 0., 0., 0., 0., 0., 0., 0., 0., 0., 0., 0., 0., 0.])\n",
      "Oppo action: tensor([0., 0., 0., 0., 0., 0., 0., 0., 0., 0., 0., 0., 0., 0., 0., 0., 0., 0., 0., 0.])\n",
      "\n",
      "\n",
      "config: h=2, epsilon_decay=0.999\n",
      "playing times: 6000\n",
      "length of loss: 5935, average of loss (interval is 2): 0.18778196186391485, average of loss (interval is 20): 0.2772462315567928, average of loss (interval is 100): 0.06200945428281557\n",
      "==================================================\n",
      "Your action: tensor([0., 0., 0., 0., 0., 0., 0., 0., 0., 0., 0., 0., 0., 0., 0., 0., 0., 0., 0., 0.])\n",
      "Oppo action: tensor([0., 0., 0., 0., 0., 0., 0., 0., 0., 0., 0., 0., 0., 0., 0., 0., 0., 0., 0., 0.])\n",
      "\n",
      "\n",
      "config: h=5, epsilon_decay=0.95\n",
      "playing times: 3000\n",
      "length of loss: 2932, average of loss (interval is 2): 0.0834997284214843, average of loss (interval is 20): 0.059457252449685145, average of loss (interval is 100): 0.07033992432160024\n",
      "==================================================\n",
      "Your action: tensor([1., 1., 1., 1., 1., 1., 1., 1., 1., 1., 1., 1., 1., 1., 1., 1., 1., 1.,\n",
      "        1., 1.])\n",
      "Oppo action: tensor([1., 1., 1., 1., 1., 1., 1., 1., 1., 1., 1., 1., 1., 1., 1., 1., 1., 1.,\n",
      "        1., 1.])\n",
      "\n",
      "\n",
      "config: h=5, epsilon_decay=0.99\n",
      "playing times: 3000\n",
      "length of loss: 2932, average of loss (interval is 2): 0.3966862368641721, average of loss (interval is 20): 0.43946657327447597, average of loss (interval is 100): 0.2564066491295913\n",
      "==================================================\n",
      "Your action: tensor([0., 0., 0., 0., 0., 0., 0., 0., 0., 0., 0., 0., 0., 0., 0., 0., 0., 0., 0., 0.])\n",
      "Oppo action: tensor([0., 0., 0., 0., 0., 0., 0., 0., 0., 0., 0., 0., 0., 0., 0., 0., 0., 0., 0., 0.])\n",
      "\n",
      "\n",
      "config: h=5, epsilon_decay=0.995\n",
      "playing times: 3000\n",
      "length of loss: 2932, average of loss (interval is 2): 0.4886926507827298, average of loss (interval is 20): 0.4915750823041253, average of loss (interval is 100): 0.3549771409874666\n",
      "==================================================\n",
      "Your action: tensor([0., 0., 0., 0., 0., 0., 0., 0., 0., 0., 0., 0., 0., 0., 0., 0., 0., 0., 0., 0.])\n",
      "Oppo action: tensor([0., 0., 0., 0., 0., 0., 0., 0., 0., 0., 0., 0., 0., 0., 0., 0., 0., 0., 0., 0.])\n",
      "\n",
      "\n",
      "config: h=5, epsilon_decay=0.999\n",
      "playing times: 6000\n",
      "length of loss: 5932, average of loss (interval is 2): 0.21635857638234463, average of loss (interval is 20): 0.16582668665192027, average of loss (interval is 100): 0.08200439325786041\n",
      "==================================================\n",
      "Your action: tensor([0., 0., 0., 0., 0., 0., 0., 0., 0., 0., 0., 0., 0., 0., 0., 0., 0., 0., 0., 0.])\n",
      "Oppo action: tensor([0., 0., 0., 0., 0., 0., 0., 0., 0., 0., 0., 0., 0., 0., 0., 0., 0., 0., 0., 0.])\n",
      "\n",
      "\n",
      "config: h=10, epsilon_decay=0.95\n",
      "playing times: 3000\n",
      "length of loss: 2927, average of loss (interval is 2): 0.30423998141325265, average of loss (interval is 20): 0.1959365050423799, average of loss (interval is 100): 0.15178332790336146\n",
      "==================================================\n",
      "Your action: tensor([0., 0., 0., 0., 0., 1., 0., 0., 0., 0., 0., 0., 0., 0., 0., 0., 0., 0.,\n",
      "        0., 0.])\n",
      "Oppo action: tensor([0., 0., 0., 0., 0., 0., 1., 0., 0., 0., 0., 0., 0., 0., 0., 0., 0., 0.,\n",
      "        0., 0.])\n",
      "\n",
      "\n",
      "config: h=10, epsilon_decay=0.99\n",
      "playing times: 3000\n",
      "length of loss: 2927, average of loss (interval is 2): 0.3790298603827732, average of loss (interval is 20): 0.22312680615839575, average of loss (interval is 100): 0.2317217249784638\n",
      "==================================================\n",
      "Your action: tensor([0., 0., 0., 0., 0., 0., 0., 0., 0., 0., 0., 0., 0., 0., 0., 0., 0., 0., 0., 0.])\n",
      "Oppo action: tensor([0., 0., 0., 0., 0., 0., 0., 0., 0., 0., 0., 0., 0., 0., 0., 0., 0., 0., 0., 0.])\n",
      "\n",
      "\n",
      "config: h=10, epsilon_decay=0.995\n",
      "playing times: 3000\n",
      "length of loss: 2927, average of loss (interval is 2): 0.35119796668292513, average of loss (interval is 20): 0.26231005321050654, average of loss (interval is 100): 0.23802714115784815\n",
      "==================================================\n",
      "Your action: tensor([0., 0., 0., 0., 0., 0., 0., 0., 0., 0., 0., 0., 0., 0., 0., 0., 0., 0., 0., 0.])\n",
      "Oppo action: tensor([0., 0., 0., 0., 0., 0., 0., 0., 0., 0., 0., 0., 0., 0., 0., 0., 0., 0., 0., 0.])\n",
      "\n",
      "\n",
      "config: h=10, epsilon_decay=0.999\n",
      "playing times: 6000\n",
      "length of loss: 5927, average of loss (interval is 2): 0.22773697855520267, average of loss (interval is 20): 0.15110759103520738, average of loss (interval is 100): 0.10903723894007271\n",
      "==================================================\n",
      "Your action: tensor([0., 0., 0., 0., 0., 0., 0., 0., 0., 0., 0., 0., 0., 0., 0., 0., 0., 0., 0., 0.])\n",
      "Oppo action: tensor([0., 0., 0., 0., 0., 0., 0., 0., 0., 0., 0., 0., 0., 0., 0., 0., 0., 0., 0., 0.])\n",
      "\n",
      "\n"
     ]
    }
   ],
   "source": [
    "result_dict_drqn_t={'h=1':{}, 'h=2':{}, 'h=5':{}, 'h=10':{}}\n",
    "loss_dict_drqn_t={'h=1':{}, 'h=2':{}, 'h=5':{}, 'h=10':{}}\n",
    "strategy_dict_drqn_t={'h=1':{}, 'h=2':{}, 'h=5':{}, 'h=10':{}}\n",
    "\n",
    "for key in result_dict_drqn_t:\n",
    "    result_dict_drqn_t[key] = copy.deepcopy(epsilon_dict)\n",
    "    loss_dict_drqn_t[key] = copy.deepcopy(epsilon_dict)\n",
    "    strategy_dict_drqn_t[key] = copy.deepcopy(epsilon_dict)\n",
    "\n",
    "for i in h:\n",
    "    for j in epsilon_decay:\n",
    "        config['h'] = i\n",
    "        config['epsilon_decay'] = j\n",
    "        config_ob = Config(config)\n",
    "        env = Environment(config_ob)\n",
    "        print(f'config: h={i}, epsilon_decay={j}')\n",
    "        \n",
    "        n_num = 2\n",
    "        rl_num = 10\n",
    "        for _ in range(5):\n",
    "            convergence = False\n",
    "            with HiddenPrints():\n",
    "                agent1 = constructAgent(strategies[n_num], config_ob)\n",
    "                agent2 = constructAgent(strategies[rl_num], config_ob)\n",
    "\n",
    "                k = 1000\n",
    "                while not convergence:\n",
    "                    env.play(agent1, agent2, k)\n",
    "                    convergence = determine_convergence(agent2, 20, k=k)\n",
    "                    if agent2.play_times >= 20*k:\n",
    "                        break\n",
    "        \n",
    "                result_dict_drqn_t[f'h={i}'][f'epsilon_decay={j}'].append(agent2.play_times)\n",
    "                loss_dict_drqn_t[f'h={i}'][f'epsilon_decay={j}'].append(np.mean(agent2.loss))\n",
    "                strategy_dict_drqn_t[f'h={i}'][f'epsilon_decay={j}'].append(agent2.own_memory[agent2.play_times-10:agent2.play_times].numpy().astype(int).tolist())\n",
    "        print(f'playing times: {agent2.play_times}')\n",
    "        print(f'length of loss: {len(agent2.loss)}, average of loss (interval is 2): {np.mean(agent2.loss[::2])}, average of loss (interval is 20): {np.mean(agent2.loss[::20])}, average of loss (interval is 100): {np.mean(agent2.loss[::100])}')\n",
    "        agent2.show()\n",
    "        print()\n",
    "        print()"
   ]
  },
  {
   "cell_type": "code",
   "execution_count": 12,
   "metadata": {},
   "outputs": [
    {
     "data": {
      "text/plain": [
       "{'h=1': {'epsilon_decay=0.95': [3000, 3000, 3000, 2000, 3000],\n",
       "  'epsilon_decay=0.99': [3000, 3000, 3000, 3000, 3000],\n",
       "  'epsilon_decay=0.995': [3000, 3000, 3000, 3000, 3000],\n",
       "  'epsilon_decay=0.999': [6000, 5000, 5000, 6000, 5000]},\n",
       " 'h=2': {'epsilon_decay=0.95': [4000, 2000, 5000, 2000, 9000],\n",
       "  'epsilon_decay=0.99': [3000, 3000, 3000, 3000, 3000],\n",
       "  'epsilon_decay=0.995': [3000, 3000, 3000, 3000, 3000],\n",
       "  'epsilon_decay=0.999': [5000, 5000, 5000, 8000, 6000]},\n",
       " 'h=5': {'epsilon_decay=0.95': [3000, 13000, 2000, 4000, 3000],\n",
       "  'epsilon_decay=0.99': [3000, 3000, 3000, 3000, 3000],\n",
       "  'epsilon_decay=0.995': [3000, 3000, 3000, 6000, 3000],\n",
       "  'epsilon_decay=0.999': [11000, 9000, 5000, 6000, 6000]},\n",
       " 'h=10': {'epsilon_decay=0.95': [3000, 4000, 2000, 3000, 3000],\n",
       "  'epsilon_decay=0.99': [3000, 3000, 3000, 3000, 3000],\n",
       "  'epsilon_decay=0.995': [3000, 3000, 3000, 3000, 3000],\n",
       "  'epsilon_decay=0.999': [10000, 5000, 8000, 9000, 6000]}}"
      ]
     },
     "execution_count": 12,
     "metadata": {},
     "output_type": "execute_result"
    }
   ],
   "source": [
    "result_dict_drqn_t"
   ]
  },
  {
   "cell_type": "code",
   "execution_count": 13,
   "metadata": {
    "scrolled": true
   },
   "outputs": [
    {
     "data": {
      "text/plain": [
       "{'h=1': {'epsilon_decay=0.95': [[0, 0, 0, 0, 0, 0, 0, 0, 0, 0],\n",
       "   [1, 1, 1, 1, 1, 1, 1, 1, 1, 1],\n",
       "   [1, 1, 1, 1, 1, 1, 1, 1, 1, 1],\n",
       "   [0, 0, 0, 0, 0, 0, 0, 0, 0, 0],\n",
       "   [1, 1, 1, 1, 1, 1, 1, 1, 1, 1]],\n",
       "  'epsilon_decay=0.99': [[0, 0, 0, 0, 0, 0, 0, 0, 0, 0],\n",
       "   [0, 0, 0, 0, 0, 0, 0, 0, 0, 0],\n",
       "   [0, 0, 0, 0, 0, 0, 0, 0, 0, 0],\n",
       "   [0, 0, 0, 0, 0, 0, 0, 0, 0, 0],\n",
       "   [0, 0, 0, 0, 0, 0, 0, 0, 0, 0]],\n",
       "  'epsilon_decay=0.995': [[0, 0, 0, 0, 0, 0, 0, 0, 0, 0],\n",
       "   [0, 0, 0, 0, 0, 0, 0, 0, 0, 0],\n",
       "   [0, 0, 0, 0, 0, 0, 0, 0, 0, 0],\n",
       "   [0, 0, 0, 0, 0, 0, 0, 0, 0, 0],\n",
       "   [0, 0, 0, 0, 0, 0, 0, 0, 0, 0]],\n",
       "  'epsilon_decay=0.999': [[0, 0, 0, 0, 0, 0, 0, 0, 0, 0],\n",
       "   [0, 0, 0, 0, 0, 0, 0, 0, 0, 0],\n",
       "   [0, 0, 0, 0, 0, 0, 0, 0, 0, 0],\n",
       "   [0, 0, 0, 0, 0, 0, 0, 0, 0, 0],\n",
       "   [0, 0, 0, 0, 0, 0, 0, 0, 0, 0]]},\n",
       " 'h=2': {'epsilon_decay=0.95': [[0, 0, 0, 0, 0, 0, 0, 0, 0, 0],\n",
       "   [1, 1, 1, 1, 1, 1, 1, 1, 1, 1],\n",
       "   [0, 0, 0, 0, 0, 0, 0, 0, 0, 0],\n",
       "   [1, 1, 1, 1, 1, 1, 1, 1, 1, 1],\n",
       "   [0, 0, 0, 0, 0, 0, 0, 0, 0, 0]],\n",
       "  'epsilon_decay=0.99': [[0, 0, 0, 0, 0, 0, 0, 0, 0, 0],\n",
       "   [0, 0, 0, 0, 0, 0, 0, 0, 0, 0],\n",
       "   [0, 0, 0, 0, 0, 0, 0, 0, 0, 0],\n",
       "   [0, 0, 0, 0, 0, 0, 0, 0, 0, 0],\n",
       "   [0, 0, 0, 0, 0, 0, 0, 0, 0, 0]],\n",
       "  'epsilon_decay=0.995': [[0, 0, 0, 0, 0, 0, 0, 0, 0, 0],\n",
       "   [0, 0, 0, 0, 0, 0, 0, 0, 0, 0],\n",
       "   [0, 0, 0, 0, 0, 0, 0, 0, 0, 0],\n",
       "   [0, 0, 0, 0, 0, 0, 0, 0, 0, 0],\n",
       "   [0, 0, 0, 0, 0, 0, 0, 0, 0, 0]],\n",
       "  'epsilon_decay=0.999': [[0, 0, 0, 0, 0, 0, 0, 0, 0, 0],\n",
       "   [0, 0, 0, 0, 0, 0, 0, 0, 0, 0],\n",
       "   [0, 0, 0, 0, 0, 0, 0, 0, 0, 0],\n",
       "   [0, 0, 0, 0, 0, 0, 0, 0, 0, 0],\n",
       "   [0, 0, 0, 0, 0, 0, 0, 0, 0, 0]]},\n",
       " 'h=5': {'epsilon_decay=0.95': [[1, 1, 1, 1, 1, 1, 1, 1, 1, 1],\n",
       "   [0, 0, 0, 0, 0, 0, 0, 0, 0, 0],\n",
       "   [1, 1, 1, 1, 1, 1, 1, 1, 1, 1],\n",
       "   [0, 0, 0, 0, 0, 0, 0, 0, 0, 0],\n",
       "   [1, 1, 1, 1, 1, 1, 1, 1, 1, 1]],\n",
       "  'epsilon_decay=0.99': [[0, 0, 0, 0, 0, 0, 0, 0, 0, 0],\n",
       "   [0, 0, 0, 0, 0, 0, 0, 0, 0, 0],\n",
       "   [0, 0, 0, 0, 0, 0, 0, 0, 0, 0],\n",
       "   [1, 0, 1, 1, 1, 1, 1, 1, 0, 1],\n",
       "   [0, 0, 0, 0, 0, 0, 0, 0, 0, 0]],\n",
       "  'epsilon_decay=0.995': [[0, 0, 0, 0, 0, 0, 0, 0, 0, 0],\n",
       "   [0, 0, 0, 0, 0, 0, 0, 0, 0, 0],\n",
       "   [0, 0, 0, 0, 0, 0, 0, 0, 0, 0],\n",
       "   [0, 0, 0, 0, 0, 0, 0, 0, 0, 0],\n",
       "   [0, 0, 0, 0, 0, 0, 0, 0, 0, 0]],\n",
       "  'epsilon_decay=0.999': [[0, 0, 0, 0, 0, 0, 0, 0, 0, 0],\n",
       "   [0, 0, 0, 0, 0, 0, 0, 0, 0, 0],\n",
       "   [0, 0, 0, 0, 0, 0, 0, 0, 0, 0],\n",
       "   [0, 0, 0, 0, 0, 0, 0, 0, 0, 0],\n",
       "   [0, 0, 0, 0, 0, 0, 0, 0, 0, 0]]},\n",
       " 'h=10': {'epsilon_decay=0.95': [[0, 0, 0, 0, 0, 0, 0, 0, 0, 0],\n",
       "   [0, 0, 0, 0, 0, 0, 0, 0, 0, 0],\n",
       "   [1, 1, 1, 1, 1, 1, 1, 1, 1, 1],\n",
       "   [1, 1, 1, 1, 1, 1, 1, 1, 1, 0],\n",
       "   [0, 0, 0, 0, 0, 0, 0, 0, 0, 0]],\n",
       "  'epsilon_decay=0.99': [[0, 0, 0, 0, 0, 0, 0, 0, 0, 0],\n",
       "   [0, 0, 0, 0, 0, 0, 0, 0, 0, 0],\n",
       "   [0, 0, 0, 0, 0, 0, 1, 0, 0, 0],\n",
       "   [1, 1, 1, 1, 1, 1, 1, 1, 1, 1],\n",
       "   [0, 0, 0, 0, 0, 0, 0, 0, 0, 0]],\n",
       "  'epsilon_decay=0.995': [[0, 0, 0, 0, 0, 0, 0, 0, 0, 0],\n",
       "   [0, 0, 0, 0, 0, 0, 0, 0, 0, 0],\n",
       "   [0, 0, 0, 0, 0, 0, 0, 0, 0, 0],\n",
       "   [1, 1, 1, 1, 1, 1, 1, 1, 1, 1],\n",
       "   [0, 0, 0, 0, 0, 0, 0, 0, 0, 0]],\n",
       "  'epsilon_decay=0.999': [[0, 0, 0, 0, 0, 0, 0, 0, 0, 0],\n",
       "   [0, 0, 0, 0, 0, 0, 0, 0, 0, 0],\n",
       "   [0, 0, 0, 0, 0, 0, 0, 0, 0, 0],\n",
       "   [0, 0, 0, 0, 0, 0, 0, 0, 0, 0],\n",
       "   [0, 0, 0, 0, 0, 0, 0, 0, 0, 0]]}}"
      ]
     },
     "execution_count": 13,
     "metadata": {},
     "output_type": "execute_result"
    }
   ],
   "source": [
    "strategy_dict_drqn_t"
   ]
  },
  {
   "cell_type": "code",
   "execution_count": 14,
   "metadata": {},
   "outputs": [
    {
     "name": "stdout",
     "output_type": "stream",
     "text": [
      "0.19736206660347236\n",
      "0.3169081791133227\n",
      "0.3141808840314436\n",
      "0.2345171351167666\n",
      "0.1611805972969937\n",
      "0.31566605395002834\n",
      "0.29898199706499035\n",
      "0.20585462610902844\n",
      "0.13222151485549857\n",
      "0.3299996406784215\n",
      "0.388512719779985\n",
      "0.2090834334060912\n",
      "0.20063491137410666\n",
      "0.3059607806440088\n",
      "0.37549847163298866\n",
      "0.2417215784707242\n"
     ]
    }
   ],
   "source": [
    "for i in h:\n",
    "    for j in epsilon_decay:\n",
    "        print(np.mean(loss_dict_drqn_t[f'h={i}'][f'epsilon_decay={j}']))"
   ]
  },
  {
   "attachments": {},
   "cell_type": "markdown",
   "metadata": {},
   "source": [
    "## DRQN vs DRQN"
   ]
  },
  {
   "cell_type": "code",
   "execution_count": null,
   "metadata": {},
   "outputs": [
    {
     "name": "stdout",
     "output_type": "stream",
     "text": [
      "config: h=1, epsilon_decay=0.95\n",
      "playing times: 3000\n",
      "length of loss: 2936, average of loss (interval is 2): 0.4487104880408006, average of loss (interval is 20): 0.47947113510663936, average of loss (interval is 100): 0.3961803452776318\n",
      "length of loss: 2936, average of loss (interval is 2): 0.6912727479154854, average of loss (interval is 20): 0.7411777464347163, average of loss (interval is 100): 0.5318989552227625\n",
      "==================================================\n",
      "Your action: tensor([1., 1., 1., 1., 1., 1., 1., 1., 1., 1., 1., 1., 1., 1., 1., 1., 1., 1.,\n",
      "        1., 1.])\n",
      "Oppo action: tensor([1., 1., 1., 1., 1., 1., 1., 1., 1., 1., 1., 1., 1., 1., 1., 1., 1., 1.,\n",
      "        1., 1.])\n",
      "\n",
      "\n",
      "config: h=1, epsilon_decay=0.99\n",
      "playing times: 3000\n",
      "length of loss: 2936, average of loss (interval is 2): 0.27358664700737984, average of loss (interval is 20): 0.2932020850775789, average of loss (interval is 100): 0.28660630601807496\n",
      "length of loss: 2936, average of loss (interval is 2): 0.19517364247438146, average of loss (interval is 20): 0.20647403816038684, average of loss (interval is 100): 0.18264312187893667\n",
      "==================================================\n",
      "Your action: tensor([1., 1., 1., 1., 1., 1., 1., 1., 1., 1., 1., 1., 1., 1., 1., 1., 1., 1.,\n",
      "        1., 1.])\n",
      "Oppo action: tensor([1., 1., 1., 1., 1., 1., 1., 1., 1., 1., 1., 1., 1., 1., 1., 1., 1., 1.,\n",
      "        1., 1.])\n",
      "\n",
      "\n",
      "config: h=1, epsilon_decay=0.995\n",
      "playing times: 3000\n",
      "length of loss: 2936, average of loss (interval is 2): 0.26499761756991924, average of loss (interval is 20): 0.27955686015561354, average of loss (interval is 100): 0.25503332601359335\n",
      "length of loss: 2936, average of loss (interval is 2): 0.2756237923013955, average of loss (interval is 20): 0.29330696658421185, average of loss (interval is 100): 0.31546437801177185\n",
      "==================================================\n",
      "Your action: tensor([1., 1., 1., 1., 1., 1., 1., 1., 1., 1., 1., 1., 1., 1., 1., 1., 1., 1.,\n",
      "        1., 1.])\n",
      "Oppo action: tensor([1., 1., 1., 1., 1., 1., 1., 1., 1., 1., 1., 1., 1., 1., 1., 1., 1., 1.,\n",
      "        1., 1.])\n",
      "\n",
      "\n",
      "config: h=1, epsilon_decay=0.999\n",
      "playing times: 6000\n",
      "length of loss: 5936, average of loss (interval is 2): 0.35412333163722387, average of loss (interval is 20): 0.36276630994708786, average of loss (interval is 100): 0.3557057396813131\n",
      "length of loss: 5936, average of loss (interval is 2): 0.3572360842237921, average of loss (interval is 20): 0.37377375926117146, average of loss (interval is 100): 0.3419365524373764\n",
      "==================================================\n",
      "Your action: tensor([1., 1., 1., 1., 1., 1., 1., 1., 1., 1., 1., 1., 1., 1., 1., 1., 1., 1.,\n",
      "        1., 1.])\n",
      "Oppo action: tensor([1., 1., 1., 1., 1., 1., 1., 1., 1., 1., 1., 1., 1., 1., 1., 1., 1., 1.,\n",
      "        1., 1.])\n",
      "\n",
      "\n",
      "config: h=2, epsilon_decay=0.95\n",
      "playing times: 3000\n",
      "length of loss: 2935, average of loss (interval is 2): 0.10476446242812772, average of loss (interval is 20): 0.09703158120927441, average of loss (interval is 100): 0.11015376218468494\n",
      "length of loss: 2935, average of loss (interval is 2): 0.10489440566535037, average of loss (interval is 20): 0.09747629947953386, average of loss (interval is 100): 0.11950091756884831\n",
      "==================================================\n",
      "Your action: tensor([1., 1., 1., 1., 1., 1., 1., 1., 1., 1., 1., 1., 1., 1., 1., 1., 1., 1.,\n",
      "        1., 1.])\n",
      "Oppo action: tensor([1., 1., 1., 1., 1., 1., 1., 1., 1., 1., 1., 1., 1., 1., 1., 1., 1., 1.,\n",
      "        1., 1.])\n",
      "\n",
      "\n",
      "config: h=2, epsilon_decay=0.99\n"
     ]
    }
   ],
   "source": [
    "result_dict_drqn={'h=1':{}, 'h=2':{}, 'h=5':{}, 'h=10':{}}\n",
    "loss_dict_drqn={'h=1':{}, 'h=2':{}, 'h=5':{}, 'h=10':{}}\n",
    "strategy_dict_drqn={'h=1':{}, 'h=2':{}, 'h=5':{}, 'h=10':{}}\n",
    "\n",
    "for key in result_dict_drqn:\n",
    "    result_dict_drqn[key] = copy.deepcopy(epsilon_dict)\n",
    "    loss_dict_drqn[key] = copy.deepcopy(epsilon_dict)\n",
    "    strategy_dict_drqn[key] = copy.deepcopy(epsilon_dict)\n",
    "\n",
    "for i in h:\n",
    "    for j in epsilon_decay:\n",
    "        config['h'] = i\n",
    "        config['epsilon_decay'] = j\n",
    "        config_ob = Config(config)\n",
    "        env = Environment(config_ob)\n",
    "        print(f'config: h={i}, epsilon_decay={j}')\n",
    "        \n",
    "        rl_num = 10\n",
    "        for _ in range(5):\n",
    "            convergence = False\n",
    "            with HiddenPrints():\n",
    "                agent1 = constructAgent(strategies[rl_num], config_ob)\n",
    "                agent2 = constructAgent(strategies[rl_num], config_ob)\n",
    "\n",
    "                k = 1000\n",
    "                while not convergence:\n",
    "                    env.play(agent1, agent2, k)\n",
    "                    convergence = determine_convergence(agent2, 20, k=k)\n",
    "                    if agent2.play_times >= 20*k:\n",
    "                        break\n",
    "        \n",
    "                result_dict_drqn[f'h={i}'][f'epsilon_decay={j}'].append(agent2.play_times)\n",
    "                loss_dict_drqn[f'h={i}'][f'epsilon_decay={j}'].append([np.mean(agent1.loss),np.mean(agent2.loss)])\n",
    "                strategy_dict_drqn[f'h={i}'][f'epsilon_decay={j}'].append([agent1.own_memory[agent1.play_times-10:agent1.play_times].numpy().astype(int).tolist(), agent2.own_memory[agent2.play_times-10:agent2.play_times].numpy().astype(int).tolist()])\n",
    "        print(f'playing times: {agent2.play_times}')\n",
    "        print(f'length of loss: {len(agent1.loss)}, average of loss (interval is 2): {np.mean(agent1.loss[::2])}, average of loss (interval is 20): {np.mean(agent1.loss[::20])}, average of loss (interval is 100): {np.mean(agent1.loss[::100])}')\n",
    "        print(f'length of loss: {len(agent2.loss)}, average of loss (interval is 2): {np.mean(agent2.loss[::2])}, average of loss (interval is 20): {np.mean(agent2.loss[::20])}, average of loss (interval is 100): {np.mean(agent2.loss[::100])}')\n",
    "        agent2.show()\n",
    "        print()\n",
    "        print()"
   ]
  },
  {
   "cell_type": "code",
   "execution_count": null,
   "metadata": {},
   "outputs": [],
   "source": [
    "result_dict_drqn"
   ]
  },
  {
   "cell_type": "code",
   "execution_count": null,
   "metadata": {
    "scrolled": true
   },
   "outputs": [],
   "source": [
    "strategy_dict_drqn"
   ]
  },
  {
   "cell_type": "code",
   "execution_count": null,
   "metadata": {},
   "outputs": [],
   "source": [
    "for i in h:\n",
    "    for j in epsilon_decay:\n",
    "        print(np.mean(np.array(loss_dict_drqn[f'h={i}'][f'epsilon_decay={j}'])[:,0]))"
   ]
  },
  {
   "attachments": {},
   "cell_type": "markdown",
   "metadata": {},
   "source": [
    "## QLearning vs TfT"
   ]
  },
  {
   "cell_type": "code",
   "execution_count": null,
   "metadata": {},
   "outputs": [],
   "source": [
    "result_dict_q={'h=1':{}, 'h=2':{}, 'h=5':{}, 'h=10':{}}\n",
    "strategy_dict_q={'h=1':{}, 'h=2':{}, 'h=5':{}, 'h=10':{}}\n",
    "\n",
    "for key in result_dict_q:\n",
    "    result_dict_q[key] = copy.deepcopy(epsilon_dict)\n",
    "    strategy_dict_q[key] = copy.deepcopy(epsilon_dict)\n",
    "\n",
    "for i in h:\n",
    "    for j in epsilon_decay:\n",
    "        config['h'] = i\n",
    "        config['epsilon_decay'] = j\n",
    "        config_ob = Config(config)\n",
    "        env = Environment(config_ob)\n",
    "        print(f'config: h={i}, epsilon_decay={j}')\n",
    "        \n",
    "        n_num = 2\n",
    "        rl_num = 7\n",
    "        for _ in range(5):\n",
    "            convergence = False\n",
    "            with HiddenPrints():\n",
    "                agent1 = constructAgent(strategies[n_num], config_ob)\n",
    "                agent2 = constructAgent(strategies[rl_num], config_ob)\n",
    "\n",
    "                k = 1000\n",
    "                while not convergence:\n",
    "                    env.play(agent1, agent2, k)\n",
    "                    convergence = determine_convergence(agent2, 20, k=k)\n",
    "                    if agent2.play_times >= 20*k:\n",
    "                        break\n",
    "        \n",
    "                result_dict_q[f'h={i}'][f'epsilon_decay={j}'].append(agent2.play_times)\n",
    "                strategy_dict_q[f'h={i}'][f'epsilon_decay={j}'].append(list(agent2.own_memory[agent2.play_times-10:agent2.play_times]))\n",
    "        print(f'playing times: {agent2.play_times}')\n",
    "        agent2.show()\n",
    "        print()\n",
    "        print()"
   ]
  },
  {
   "attachments": {},
   "cell_type": "markdown",
   "metadata": {},
   "source": [
    "## DRQN-Varient vs TfT"
   ]
  },
  {
   "cell_type": "code",
   "execution_count": null,
   "metadata": {},
   "outputs": [],
   "source": [
    "# choices = {'0-alwaysCooperate','1-alwaysDefect','2-titForTat','3-reverseTitForTat','4-random','5-grudger','6-pavlov','7-qLearning','8-lstm-TFT','9-dqn','10-lstmqn','11-a2c','12-a2c-lstm'}\n",
    "# rl_choices = {'7-qLearning','8-lstm-pavlov','9-dqn','10-lstmqn','11-a2c','12-a2c-lstm'}\n",
    "strategies = {0:'ALLC',1:'ALLD',2:'TitForTat',3:'revTitForTat',4:'Random',5:'Grudger',6:'Pavlov',7:'QLearning',8:'LSTM',9:'DQN',10:'LSTMQN',11:'A2C',12:'A2CLSTM'}\n",
    "\n",
    "h = [1,2,5,10]\n",
    "epsilon_decay = [0.95, 0.99, 0.995, 0.999]\n",
    "\n",
    "config = {\n",
    "    'reward': 3, \n",
    "    'sucker': 0, \n",
    "    'temptation': 5, \n",
    "    'punishment': 1, \n",
    "    'n_episodes': 10000, \n",
    "    'discount': 0.99,\n",
    "    'play_epsilon': 1,\n",
    "    'select_epsilon': 1,\n",
    "    'epsilon_decay': 0.999,\n",
    "    'min_epsilon': 0.01,\n",
    "    'alpha': 0.1,\n",
    "    'n_actions': 2,\n",
    "    'h': 10,\n",
    "    'state_repr': 'bi-repr',\n",
    "    'batch_size': 64,\n",
    "    'learning_rate': 1e-3,\n",
    "}\n",
    "\n",
    "result_dict_drqnv_t={'h=1':{}, 'h=2':{}, 'h=5':{}, 'h=10':{}}\n",
    "loss_dict_drqnv_t={'h=1':{}, 'h=2':{}, 'h=5':{}, 'h=10':{}}\n",
    "strategy_dict_drqnv_t={'h=1':{}, 'h=2':{}, 'h=5':{}, 'h=10':{}}\n",
    "                \n",
    "for key in result_dict_drqnv_t:\n",
    "    result_dict_drqnv_t[key] = copy.deepcopy(epsilon_dict)\n",
    "    loss_dict_drqnv_t[key] = copy.deepcopy(epsilon_dict)\n",
    "    strategy_dict_drqnv_t[key] = copy.deepcopy(epsilon_dict)\n",
    "\n",
    "for i in h:\n",
    "    for j in epsilon_decay:\n",
    "        config['h'] = i\n",
    "        config['epsilon_decay'] = j\n",
    "        config_ob = Config(config)\n",
    "        env = Environment(config_ob)\n",
    "        print(f'config: h={i}, epsilon_decay={j}')\n",
    "        \n",
    "        num = 2\n",
    "        rl_num = 10\n",
    "        for _ in range(5):\n",
    "            convergence = False\n",
    "            # twoSimulate(dict({num: strategies[num],rl_num: strategies[rl_num]}), rl_num, config)\n",
    "            with HiddenPrints():\n",
    "                agent1 = constructAgent(strategies[num], config_ob)\n",
    "                agent2 = constructAgent(strategies[rl_num], config_ob)\n",
    "\n",
    "                k = 1000\n",
    "                while not convergence:\n",
    "                    env.play(agent1, agent2, k)\n",
    "                    convergence = determine_convergence(agent2, 20, k=k)\n",
    "                    if agent2.play_times >= 20*k:\n",
    "                        break\n",
    "        \n",
    "                result_dict_drqnv_t[f'h={i}'][f'epsilon_decay={j}'].append(agent2.play_times)\n",
    "                loss_dict_drqnv_t[f'h={i}'][f'epsilon_decay={j}'].append(np.mean(agent2.loss))\n",
    "                strategy_dict_drqnv_t[f'h={i}'][f'epsilon_decay={j}'].append(list(agent2.own_memory[agent2.play_times-10:agent2.play_times]))\n",
    "        print(f'playing times: {agent2.play_times}')\n",
    "        print(f'length of loss: {len(agent2.loss)}, average of loss (interval is 2): {np.mean(agent2.loss[::2])}, average of loss (interval is 20): {np.mean(agent2.loss[::20])}, average of loss (interval is 100): {np.mean(agent2.loss[::100])}')\n",
    "        agent2.show()\n",
    "        print()\n",
    "        print()\n",
    "        "
   ]
  },
  {
   "cell_type": "code",
   "execution_count": null,
   "metadata": {},
   "outputs": [],
   "source": [
    "result_dict_drqnv_t"
   ]
  },
  {
   "cell_type": "code",
   "execution_count": null,
   "metadata": {},
   "outputs": [],
   "source": [
    "for i in h:\n",
    "    for j in epsilon_decay:\n",
    "        strategy_dict_drqnv_t[f'h={i}'][f'epsilon_decay={j}'] = torch.Tensor(strategy_dict_drqnv_t[f'h={i}'][f'epsilon_decay={j}']).numpy().astype(int).tolist()\n",
    "    print(f'h={i}')\n",
    "    print(strategy_dict_drqnv_t[f'h={i}'])"
   ]
  },
  {
   "cell_type": "code",
   "execution_count": null,
   "metadata": {},
   "outputs": [],
   "source": [
    "for i in h:\n",
    "    for j in epsilon_decay:\n",
    "        print(np.mean(np.array(loss_dict_drqnv_t[f'h={i}'][f'epsilon_decay={j}'])))"
   ]
  },
  {
   "attachments": {},
   "cell_type": "markdown",
   "metadata": {},
   "source": [
    "## DRQN-Varient vs DRQN-Varient"
   ]
  },
  {
   "cell_type": "code",
   "execution_count": null,
   "metadata": {},
   "outputs": [],
   "source": [
    "result_dict_drqnv={'h=1':{}, 'h=2':{}, 'h=5':{}, 'h=10':{}}\n",
    "loss_dict_drqnv={'h=1':{}, 'h=2':{}, 'h=5':{}, 'h=10':{}}\n",
    "strategy_dict_drqnv={'h=1':{}, 'h=2':{}, 'h=5':{}, 'h=10':{}}\n",
    "                \n",
    "for key in result_dict_drqnv:\n",
    "    result_dict_drqnv[key] = copy.deepcopy(epsilon_dict)\n",
    "    loss_dict_drqnv[key] = copy.deepcopy(epsilon_dict)\n",
    "    strategy_dict_drqnv[key] = copy.deepcopy(epsilon_dict)\n",
    "\n",
    "for i in h:\n",
    "    for j in epsilon_decay:\n",
    "        config['h'] = i\n",
    "        config['epsilon_decay'] = j\n",
    "        config_ob = Config(config)\n",
    "        env = Environment(config_ob)\n",
    "        print(f'config: h={i}, epsilon_decay={j}')\n",
    "        \n",
    "        rl_num = 10\n",
    "        for _ in range(5):\n",
    "            convergence = False\n",
    "            # twoSimulate(dict({num: strategies[num],rl_num: strategies[rl_num]}), rl_num, config)\n",
    "            with HiddenPrints():\n",
    "                agent1 = constructAgent(strategies[rl_num], config_ob)\n",
    "                agent2 = constructAgent(strategies[rl_num], config_ob)\n",
    "\n",
    "                k = 1000\n",
    "                while not convergence:\n",
    "                    env.play(agent1, agent2, k)\n",
    "                    convergence = determine_convergence(agent2, 20, k=k)\n",
    "                    if agent2.play_times >= 20*k:\n",
    "                        break\n",
    "        \n",
    "                result_dict_drqnv[f'h={i}'][f'epsilon_decay={j}'].append(agent2.play_times)\n",
    "                loss_dict_drqnv[f'h={i}'][f'epsilon_decay={j}'].append([np.mean(agent1.loss),np.mean(agent2.loss)])\n",
    "                strategy_dict_drqnv[f'h={i}'][f'epsilon_decay={j}'].append([agent1.own_memory[agent1.play_times-10:agent1.play_times].numpy().astype(int).tolist(), agent2.own_memory[agent2.play_times-10:agent2.play_times].numpy().astype(int).tolist()])\n",
    "        print(f'playing times: {agent2.play_times}')\n",
    "        print(f'length of loss: {len(agent1.loss)}, average of loss (interval is 2): {np.mean(agent1.loss[::2])}, average of loss (interval is 20): {np.mean(agent1.loss[::20])}, average of loss (interval is 100): {np.mean(agent1.loss[::100])}')\n",
    "        print(f'length of loss: {len(agent2.loss)}, average of loss (interval is 2): {np.mean(agent2.loss[::2])}, average of loss (interval is 20): {np.mean(agent2.loss[::20])}, average of loss (interval is 100): {np.mean(agent2.loss[::100])}')\n",
    "        agent2.show()\n",
    "        print()\n",
    "        print()\n",
    "        "
   ]
  },
  {
   "cell_type": "code",
   "execution_count": null,
   "metadata": {},
   "outputs": [],
   "source": [
    "result_dict_drqnv"
   ]
  },
  {
   "cell_type": "code",
   "execution_count": null,
   "metadata": {},
   "outputs": [],
   "source": [
    "strategy_dict_drqnv"
   ]
  },
  {
   "cell_type": "code",
   "execution_count": null,
   "metadata": {},
   "outputs": [],
   "source": [
    "for i in h:\n",
    "    for j in epsilon_decay:\n",
    "        print(np.mean(np.array(loss_dict_drqnv[f'h={i}'][f'epsilon_decay={j}'])[:,0]))"
   ]
  },
  {
   "cell_type": "code",
   "execution_count": null,
   "metadata": {},
   "outputs": [],
   "source": []
  }
 ],
 "metadata": {
  "kernelspec": {
   "display_name": "Python 3 (ipykernel)",
   "language": "python",
   "name": "python3"
  },
  "language_info": {
   "codemirror_mode": {
    "name": "ipython",
    "version": 3
   },
   "file_extension": ".py",
   "mimetype": "text/x-python",
   "name": "python",
   "nbconvert_exporter": "python",
   "pygments_lexer": "ipython3",
   "version": "3.9.12"
  }
 },
 "nbformat": 4,
 "nbformat_minor": 1
}

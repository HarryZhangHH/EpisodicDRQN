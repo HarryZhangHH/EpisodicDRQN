{
 "cells": [
  {
   "cell_type": "code",
   "execution_count": 1,
   "metadata": {
    "pycharm": {
     "name": "#%%\n"
    }
   },
   "outputs": [],
   "source": [
    "import torch\n",
    "import random\n",
    "import numpy as np\n",
    "import matplotlib.pyplot as plt\n",
    "from agent import *\n",
    "from selection import *\n",
    "from utils import *\n",
    "from env import Environment\n",
    "from simulation import constructAgent\n",
    "from main import Config"
   ]
  },
  {
   "cell_type": "code",
   "execution_count": 2,
   "metadata": {
    "pycharm": {
     "name": "#%%\n"
    }
   },
   "outputs": [
    {
     "data": {
      "text/plain": [
       "True"
      ]
     },
     "execution_count": 2,
     "metadata": {},
     "output_type": "execute_result"
    }
   ],
   "source": [
    "torch.cuda.is_available()"
   ]
  },
  {
   "cell_type": "code",
   "execution_count": 3,
   "metadata": {
    "pycharm": {
     "name": "#%%\n"
    }
   },
   "outputs": [],
   "source": [
    "MULTI_SELECTION_METHOD = 'A2C'\n",
    "config = {\n",
    "    'reward': 3,\n",
    "    'sucker': 0,\n",
    "    'temptation': 5,\n",
    "    'punishment': 1,\n",
    "    'n_episodes': 50000,\n",
    "    'discount': 0.99,\n",
    "    'play_epsilon': 1,\n",
    "    'select_epsilon': 1,\n",
    "    'epsilon_decay': 0.999,\n",
    "    'min_epsilon': 0.01,\n",
    "    'alpha': 0.1,\n",
    "    'n_actions': 2,\n",
    "    'h': 10,\n",
    "    'state_repr': 'bi-repr',\n",
    "    'batch_size': 64,\n",
    "    'learning_rate': 1e-3,\n",
    "}\n",
    "config = Config(config)\n",
    "env = Environment(config)\n",
    "seed_everything()"
   ]
  },
  {
   "cell_type": "code",
   "execution_count": 4,
   "metadata": {
    "pycharm": {
     "name": "#%%\n"
    }
   },
   "outputs": [
    {
     "name": "stderr",
     "output_type": "stream",
     "text": [
      "100%|███████████████████████████████████| 50000/50000 [5:29:18<00:00,  2.53it/s]\n"
     ]
    },
    {
     "name": "stdout",
     "output_type": "stream",
     "text": [
      "Agent0: name:LSTMQN  final score:158.13956897710779  play time:10339  times to play D:7449  ratio: 0.7204758680723474  faced D ratio: 0.7861495309024084\n",
      "Agent1: name:LSTMQN  final score:184.57084193321978  play time:9244  times to play D:7761  ratio: 0.8395716140199048  faced D ratio: 0.7324751189961056\n",
      "Agent2: name:LSTMQN  final score:183.39681143051345  play time:7746  times to play D:6693  ratio: 0.8640588690937258  faced D ratio: 0.7616834495223341\n",
      "Agent3: name:LSTMQN  final score:230.2679571738217  play time:7784  times to play D:6747  ratio: 0.8667780061664954  faced D ratio: 0.795349434737924\n",
      "Agent4: name:LSTMQN  final score:248.95217059029278  play time:9852  times to play D:7948  ratio: 0.806739748274462  faced D ratio: 0.7544660982541616\n",
      "Agent5: name:LSTMQN  final score:214.14454770963712  play time:13663  times to play D:9961  ratio: 0.7290492571177632  faced D ratio: 0.7959452536046256\n",
      "Agent6: name:LSTMQN  final score:196.3550175451667  play time:9895  times to play D:7570  ratio: 0.7650328448711471  faced D ratio: 0.8102071753410813\n",
      "Agent7: name:LSTMQN  final score:196.2855769662026  play time:8804  times to play D:7236  ratio: 0.82189913675602  faced D ratio: 0.7114947751022263\n",
      "Agent8: name:LSTMQN  final score:327.85172204524235  play time:11430  times to play D:8307  ratio: 0.7267716535433071  faced D ratio: 0.8416447944007\n",
      "Agent9: name:LSTMQN  final score:145.65613298100962  play time:11369  times to play D:8283  ratio: 0.7285601196235377  faced D ratio: 0.770164482364324\n",
      "The reward for total society: 36.44327987395779\n"
     ]
    }
   ],
   "source": [
    "agents = {}\n",
    "index = 0\n",
    "with HiddenPrints():\n",
    "#     for _ in range(5):\n",
    "#         agents[index] = constructAgent('TitForTat', config)\n",
    "#         index += 1\n",
    "#     for _ in range(5):\n",
    "#         agents[index] = constructAgent('LSTM', config)\n",
    "#         index += 1\n",
    "    for _ in range(10):\n",
    "        agents[index] = constructAgent('LSTMQN', config)\n",
    "        index += 1\n",
    "\n",
    "agents = a2c_selection(config, agents, env)\n",
    "\n",
    "for n in range(len(agents)):\n",
    "    print('Agent{}: name:{}  final score:{}  play time:{}  times to play D:{}  ratio: {}  faced D ratio: {}'\n",
    "        .format(n, agents[n].name, agents[n].running_score,\n",
    "        len(agents[n].own_memory[:agents[n].play_times]), list(agents[n].own_memory[:agents[n].play_times]).count(1),\n",
    "                list(agents[n].own_memory[:agents[n].play_times]).count(1)/len(agents[n].own_memory[:agents[n].play_times]),\n",
    "                list(agents[n].opponent_memory[:agents[n].play_times]).count(1)/len(agents[n].opponent_memory[:agents[n].play_times])))\n",
    "print('The reward for total society: {}'.format(env.running_score/len(agents)))"
   ]
  },
  {
   "cell_type": "code",
   "execution_count": 6,
   "metadata": {
    "pycharm": {
     "name": "#%%\n"
    }
   },
   "outputs": [
    {
     "name": "stdout",
     "output_type": "stream",
     "text": [
      "Agent 0: opponent_idx: [2, 3, 4, 5, 6, 7, 8, 9, 10], counts: [3, 10, 3, 3, 4842, 7, 2, 21, 9] rewards: [2.0, 1.4, 0.3333333333333333, 2.0, 1.9409334985543163, 3.857142857142857, 0.5, 2.0, 2.7777777777777777]\n",
      "Agent 1: opponent_idx: [0, 3, 4, 5, 6, 7, 8, 9, 10], counts: [1088, 185, 122, 1008, 177, 630, 296, 1102, 522] rewards: [2.7895220588235294, 1.1891891891891893, 1.459016393442623, 1.9841269841269842, 1.3502824858757063, 2.2587301587301587, 1.5304054054054055, 2.515426497277677, 1.4923371647509578]\n",
      "Agent 2: opponent_idx: [0, 1, 4, 5, 6, 7, 8, 9, 10], counts: [514, 371, 680, 304, 339, 747, 131, 1195, 621] rewards: [2.017509727626459, 1.4285714285714286, 1.7779411764705881, 1.388157894736842, 1.7817109144542773, 2.4939759036144578, 1.1526717557251909, 2.102092050209205, 1.7278582930756843]\n",
      "Agent 3: opponent_idx: [0, 1, 2, 5, 6, 7, 8, 9, 10], counts: [508, 114, 367, 1607, 192, 1404, 249, 385, 195] rewards: [2.604330708661417, 1.2719298245614035, 1.2915531335149864, 1.7504667081518357, 1.3802083333333333, 1.997150997150997, 1.3694779116465863, 1.2623376623376623, 1.6923076923076923]\n",
      "Agent 4: opponent_idx: [0, 1, 2, 3, 6, 7, 8, 9, 10], counts: [790, 778, 258, 491, 211, 281, 494, 909, 805] rewards: [2.4974683544303797, 1.5964010282776349, 1.37984496124031, 1.535641547861507, 1.3270142180094786, 1.3736654804270463, 1.9554655870445343, 2.4774477447744774, 2.108074534161491]\n",
      "Agent 5: opponent_idx: [0, 1, 2, 3, 4, 7, 8, 9, 10], counts: [801, 816, 222, 424, 564, 221, 1197, 370, 397] rewards: [2.0037453183520597, 2.0220588235294117, 1.5765765765765767, 1.240566037735849, 1.4698581560283688, 1.5656108597285068, 1.8070175438596492, 1.8675675675675676, 1.5415617128463477]\n",
      "Agent 6: opponent_idx: [0, 1, 2, 3, 4, 5, 8, 9, 10], counts: [709, 384, 417, 221, 394, 479, 484, 1184, 832] rewards: [2.8420310296191817, 1.0442708333333333, 1.2470023980815348, 0.9909502262443439, 1.398477157360406, 1.6701461377870563, 1.5991735537190082, 2.4822635135135136, 1.71875]\n",
      "Agent 7: opponent_idx: [0, 1, 2, 3, 4, 5, 6, 9, 10], counts: [49, 196, 55, 358, 213, 1315, 409, 55, 2319] rewards: [0.7755102040816326, 1.6071428571428572, 1.0909090909090908, 1.6368715083798884, 1.352112676056338, 2.7634980988593156, 1.6552567237163813, 1.0545454545454545, 2.405778352738249]\n",
      "Agent 8: opponent_idx: [0, 1, 2, 3, 4, 5, 6, 7, 10], counts: [168, 1097, 668, 191, 437, 485, 537, 697, 710] rewards: [1.119047619047619, 1.8432087511394712, 1.4565868263473054, 1.3455497382198953, 1.240274599542334, 1.288659793814433, 1.3705772811918064, 1.8708751793400287, 2.2140845070422537]\n",
      "Agent 9: opponent_idx: [0, 1, 2, 3, 4, 5, 6, 7, 8], counts: [798, 336, 652, 255, 291, 599, 543, 273, 1201] rewards: [1.9862155388471179, 1.2172619047619047, 1.5230061349693251, 1.1529411764705881, 1.2920962199312716, 2.2003338898163607, 2.694290976058932, 1.4835164835164836, 2.2914238134887595]\n"
     ]
    }
   ],
   "source": [
    "def get_index_from_action(action, idx):\n",
    "    scale = lambda x: x+1 if x>=idx else x\n",
    "    return list(map(scale, action))\n",
    "\n",
    "for idx in agents:\n",
    "    transitions = agents[idx].SelectionMemory.memory\n",
    "    _, actions, rewards, _ = zip(*transitions)\n",
    "    actions = get_index_from_action(np.array(\n",
    "        , dtype=int), idx)\n",
    "    actions, rewards = np.array(actions), np.array(rewards)\n",
    "    print(f'Agent {idx}:', end='')\n",
    "    values, counts = np.unique(actions, return_counts=True)\n",
    "    print(f' opponent_idx: {list(values)}, counts: {list(counts)} ', end='')\n",
    "    dict_idx = {x: rewards[np.where(actions == x)] for x in values}\n",
    "    print(f'rewards: {[np.mean(y) for _, y in dict_idx.items()]}')\n",
    "    # print(f'rewards: {[np.std(y) for _, y in dict_idx.items()]}')\n",
    "# plt.plot(actions)\n",
    "# plt.show()\n",
    "# print(rewards)"
   ]
  },
  {
   "cell_type": "code",
   "execution_count": null,
   "metadata": {
    "pycharm": {
     "name": "#%%\n"
    }
   },
   "outputs": [],
   "source": []
  },
  {
   "cell_type": "code",
   "execution_count": 7,
   "metadata": {
    "pycharm": {
     "name": "#%%\n"
    }
   },
   "outputs": [
    {
     "name": "stderr",
     "output_type": "stream",
     "text": [
      "100%|███████████████████████████████████| 50000/50000 [5:28:21<00:00,  2.54it/s]\n"
     ]
    },
    {
     "name": "stdout",
     "output_type": "stream",
     "text": [
      "Agent0: name:LSTM  final score:294.92829254612724  play time:24348  times to play D:10960  ratio: 0.450139641859701  faced D ratio: 0.45313783472975194\n",
      "Agent1: name:LSTM  final score:301.0213129579115  play time:10214  times to play D:1434  ratio: 0.14039553553945566  faced D ratio: 0.14538868220090073\n",
      "Agent2: name:LSTM  final score:195.88937159971852  play time:6236  times to play D:4553  ratio: 0.7301154586273252  faced D ratio: 0.7429441949967928\n",
      "Agent3: name:LSTM  final score:234.79067014047223  play time:14991  times to play D:8108  ratio: 0.5408578480421586  faced D ratio: 0.5346541258088187\n",
      "Agent4: name:LSTM  final score:301.22932719184706  play time:8214  times to play D:1018  ratio: 0.12393474555636717  faced D ratio: 0.11699537375213051\n",
      "Agent5: name:LSTMQN  final score:294.73145002281825  play time:5428  times to play D:2432  ratio: 0.44804716285924834  faced D ratio: 0.42962417096536476\n",
      "Agent6: name:LSTMQN  final score:274.745324608607  play time:8178  times to play D:3552  ratio: 0.4343360234776229  faced D ratio: 0.5333822450476889\n",
      "Agent7: name:LSTMQN  final score:297.4755031737452  play time:9897  times to play D:6818  ratio: 0.6888956249368495  faced D ratio: 0.6835404668081236\n",
      "Agent8: name:LSTMQN  final score:293.49540354002016  play time:6763  times to play D:4427  ratio: 0.6545911577702204  faced D ratio: 0.5611415052491497\n",
      "Agent9: name:LSTMQN  final score:290.8009536877938  play time:5857  times to play D:2399  ratio: 0.4095953559842923  faced D ratio: 0.396107222127369\n",
      "The reward for total society: 55.37041443159431\n"
     ]
    }
   ],
   "source": [
    "agents = {}\n",
    "index = 0\n",
    "with HiddenPrints():\n",
    "#     for _ in range(5):\n",
    "#         agents[index] = constructAgent('TitForTat', config)\n",
    "#         index += 1\n",
    "    for _ in range(5):\n",
    "        agents[index] = constructAgent('LSTM', config)\n",
    "        index += 1\n",
    "    for _ in range(5):\n",
    "        agents[index] = constructAgent('LSTMQN', config)\n",
    "        index += 1\n",
    "\n",
    "agents = a2c_selection(config, agents, env)\n",
    "\n",
    "for n in range(len(agents)):\n",
    "    print('Agent{}: name:{}  final score:{}  play time:{}  times to play D:{}  ratio: {}  faced D ratio: {}'\n",
    "        .format(n, agents[n].name, agents[n].running_score,\n",
    "        len(agents[n].own_memory[:agents[n].play_times]), list(agents[n].own_memory[:agents[n].play_times]).count(1),\n",
    "                list(agents[n].own_memory[:agents[n].play_times]).count(1)/len(agents[n].own_memory[:agents[n].play_times]),\n",
    "                list(agents[n].opponent_memory[:agents[n].play_times]).count(1)/len(agents[n].opponent_memory[:agents[n].play_times])))\n",
    "print('The reward for total society: {}'.format(env.running_score/len(agents)))"
   ]
  },
  {
   "cell_type": "code",
   "execution_count": 10,
   "metadata": {
    "pycharm": {
     "name": "#%%\n"
    }
   },
   "outputs": [
    {
     "name": "stdout",
     "output_type": "stream",
     "text": [
      "Agent 0: opponent_idx: [1, 2, 3, 4, 5, 6, 7, 8, 9], counts: [10, 54, 2, 6, 1, 87, 4653, 88, 8] rewards: [1.7, 2.5, 0.5, 1.1666666666666667, 1.0, 1.8620689655172413, 1.6898774983881366, 2.3181818181818183, 2.375]\n",
      "Agent 1: opponent_idx: [0, 2, 3, 4, 5, 6, 7, 8, 9], counts: [4940, 18, 9, 2, 5, 2, 14, 3, 8] rewards: [2.776923076923077, 2.5, 2.888888888888889, 2.0, 0.8, 4.0, 1.6428571428571428, 2.0, 1.25]\n",
      "Agent 2: opponent_idx: [0, 1, 3, 4, 5, 6, 7, 8, 9], counts: [18, 10, 5017, 10, 3, 2, 3, 1, 10] rewards: [1.6666666666666667, 1.9, 1.2864261510863066, 1.1, 1.6666666666666667, 3.0, 3.0, 3.0, 1.6]\n",
      "Agent 3: opponent_idx: [0, 1, 2, 4, 5, 6, 7, 8, 9], counts: [8, 26, 15, 3020, 11, 33, 59, 1680, 64] rewards: [2.0, 2.1538461538461537, 1.8, 2.863907284768212, 1.7272727272727273, 2.4242424242424243, 1.0847457627118644, 1.581547619047619, 2.84375]\n",
      "Agent 4: opponent_idx: [0, 1, 2, 3, 5, 6, 7, 8, 9], counts: [10, 5068, 20, 11, 1, 9, 3, 4, 8] rewards: [3.1, 2.838989739542226, 3.0, 2.5454545454545454, 1.0, 2.0, 1.3333333333333333, 2.25, 3.625]\n",
      "Agent 5: opponent_idx: [0, 1, 2, 3, 4, 6, 8, 9], counts: [4937, 2, 6, 5, 2, 8, 14, 43] rewards: [2.3378569981770307, 0.5, 3.1666666666666665, 3.4, 0.0, 2.125, 2.642857142857143, 1.3953488372093024]\n",
      "Agent 6: opponent_idx: [0, 1, 2, 3, 4, 5, 7, 8, 9], counts: [4, 2, 8, 4974, 2, 2, 3, 3, 44] rewards: [1.25, 1.0, 2.25, 2.3192601527945316, 1.0, 3.0, 0.6666666666666666, 2.3333333333333335, 1.0]\n",
      "Agent 7: opponent_idx: [0, 1, 2, 3, 4, 5, 6, 8, 9], counts: [4919, 10, 3, 9, 2, 22, 2, 32, 37] rewards: [1.696889611709697, 3.7, 3.3333333333333335, 0.8888888888888888, 3.0, 1.6818181818181819, 4.0, 2.09375, 2.2432432432432434]\n",
      "Agent 8: opponent_idx: [0, 1, 2, 3, 4, 5, 6, 7, 9], counts: [43, 62, 1017, 14, 7, 42, 2960, 100, 678] rewards: [2.1627906976744184, 2.2580645161290325, 2.8603736479842676, 1.3571428571428572, 3.0, 1.119047619047619, 2.6692567567567567, 0.84, 1.4115044247787611]\n",
      "Agent 9: opponent_idx: [0, 1, 2, 3, 4, 5, 6, 7, 8], counts: [4548, 10, 5, 20, 12, 312, 21, 11, 2] rewards: [2.462401055408971, 2.8, 2.6, 2.65, 2.75, 1.705128205128205, 1.6666666666666667, 0.9090909090909091, 3.0]\n"
     ]
    }
   ],
   "source": [
    "def get_index_from_action(action, idx):\n",
    "    scale = lambda x: x+1 if x>=idx else x\n",
    "    return list(map(scale, action))\n",
    "\n",
    "for idx in agents:\n",
    "    transitions = agents[idx].SelectionMemory.memory\n",
    "    _, actions, rewards, _ = zip(*transitions)\n",
    "    actions = np.array(actions, dtype=int)\n",
    "    actions, rewards = np.array(actions), np.array(rewards)\n",
    "    print(f'Agent {idx}:', end='')\n",
    "    values, counts = np.unique(actions, return_counts=True)\n",
    "    print(f' opponent_idx: {list(values)}, counts: {list(counts)} ', end='')\n",
    "    dict_idx = {x: rewards[np.where(actions == x)] for x in values}\n",
    "    print(f'rewards: {[np.mean(y) for _, y in dict_idx.items()]}')"
   ]
  },
  {
   "cell_type": "code",
   "execution_count": null,
   "metadata": {
    "pycharm": {
     "name": "#%%\n"
    }
   },
   "outputs": [],
   "source": []
  },
  {
   "cell_type": "code",
   "execution_count": null,
   "metadata": {
    "pycharm": {
     "name": "#%%\n"
    }
   },
   "outputs": [],
   "source": []
  }
 ],
 "metadata": {
  "kernelspec": {
   "display_name": "Python 3 (ipykernel)",
   "language": "python",
   "name": "python3"
  },
  "language_info": {
   "codemirror_mode": {
    "name": "ipython",
    "version": 3
   },
   "file_extension": ".py",
   "mimetype": "text/x-python",
   "name": "python",
   "nbconvert_exporter": "python",
   "pygments_lexer": "ipython3",
   "version": "3.9.13"
  }
 },
 "nbformat": 4,
 "nbformat_minor": 1
}

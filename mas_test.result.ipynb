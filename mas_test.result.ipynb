{
 "cells": [
  {
   "cell_type": "code",
   "execution_count": 9,
   "metadata": {
    "pycharm": {
     "name": "#%%\n"
    }
   },
   "outputs": [],
   "source": [
    "import torch\n",
    "import random\n",
    "import numpy as np\n",
    "import matplotlib.pyplot as plt\n",
    "from agent import *\n",
    "from selection import *\n",
    "from utils import *\n",
    "from env import Environment\n",
    "from simulation import constructAgent\n",
    "from main import Config"
   ]
  },
  {
   "cell_type": "code",
   "execution_count": 10,
   "metadata": {
    "pycharm": {
     "name": "#%%\n"
    }
   },
   "outputs": [],
   "source": [
    "MULTI_SELECTION_METHOD = 'LSTM-VAR'\n",
    "config = {\n",
    "    'reward': 3, \n",
    "    'sucker': 0, \n",
    "    'temptation': 5, \n",
    "    'punishment': 1, \n",
    "    'n_episodes': 2000, \n",
    "    'discount': 0.95,\n",
    "    'play_epsilon': 1,\n",
    "    'select_epsilon': 1,\n",
    "    'epsilon_decay': 0.99,\n",
    "    'min_epsilon': 0.01,\n",
    "    'alpha': 0.1,\n",
    "    'n_actions': 2,\n",
    "    'h': 10,\n",
    "    'state_repr': 'bi-repr',\n",
    "    'batch_size': 64,\n",
    "    'learning_rate': 1e-3,\n",
    "}\n",
    "config = Config(config)\n",
    "env = Environment(config)\n",
    "seed_everything()"
   ]
  },
  {
   "cell_type": "code",
   "execution_count": 20,
   "metadata": {
    "pycharm": {
     "name": "#%%\n"
    }
   },
   "outputs": [
    {
     "name": "stderr",
     "output_type": "stream",
     "text": [
      "100%|██████████| 2000/2000 [24:52<00:00,  1.34it/s]\n"
     ]
    },
    {
     "name": "stdout",
     "output_type": "stream",
     "text": [
      "Agent0: name:LSTMQN  final score:51.61698601267451  play time:6579  times to play D:1005  ratio: 0.15275877792977657\n",
      "Agent1: name:LSTMQN  final score:42.19863642339305  play time:4397  times to play D:66  ratio: 0.015010234250625426\n",
      "Agent2: name:LSTMQN  final score:98.12268555809025  play time:2668  times to play D:2590  ratio: 0.9707646176911544\n",
      "Agent3: name:LSTMQN  final score:85.15378434291158  play time:2086  times to play D:2026  ratio: 0.9712368168744008\n",
      "Agent4: name:LSTMQN  final score:96.53696690247916  play time:2477  times to play D:2424  ratio: 0.9786031489705289\n",
      "Agent5: name:LSTMQN  final score:85.02517929406315  play time:2061  times to play D:897  ratio: 0.43522561863173215\n",
      "Agent6: name:LSTMQN  final score:84.24989252494744  play time:2361  times to play D:2294  ratio: 0.9716221939855993\n",
      "Agent7: name:LSTMQN  final score:35.77322283832727  play time:9048  times to play D:95  ratio: 0.010499557913351016\n",
      "Agent8: name:LSTMQN  final score:51.282586767376905  play time:4585  times to play D:140  ratio: 0.030534351145038167\n",
      "Agent9: name:LSTMQN  final score:22.268754228224342  play time:3738  times to play D:66  ratio: 0.01765650080256822\n",
      "The reward for total society: 105.59021770968192\n"
     ]
    }
   ],
   "source": [
    "agents = {}\n",
    "index = 0\n",
    "with HiddenPrints():\n",
    "    # for _ in range(5):\n",
    "        # agents[index] = constructAgent('TitForTat', config)\n",
    "        # index += 1\n",
    "    for _ in range(10):\n",
    "        agents[index] = constructAgent('LSTMQN', config)\n",
    "        index += 1\n",
    " \n",
    "agents = lstm_variant_selection(config, agents, env)\n",
    "\n",
    "for n in range(len(agents)):\n",
    "    print('Agent{}: name:{}  final score:{}  play time:{}  times to play D:{}  ratio: {}  faced D ratio: {}'\n",
    "        .format(n, agents[n].name, agents[n].running_score,\n",
    "        len(agents[n].own_memory[:agents[n].play_times]), list(agents[n].own_memory[:agents[n].play_times]).count(1),\n",
    "                list(agents[n].own_memory[:agents[n].play_times]).count(1)/len(agents[n].own_memory[:agents[n].play_times]),\n",
    "                list(agents[n].oppo_memory[:agents[n].play_times]).count(1)/len(agents[n].oppo_memory[:agents[n].play_times])))\n",
    "print('The reward for total society: {}'.format(env.running_score/len(agents)))"
   ]
  },
  {
   "cell_type": "code",
   "execution_count": 21,
   "metadata": {
    "pycharm": {
     "name": "#%%\n"
    }
   },
   "outputs": [
    {
     "name": "stdout",
     "output_type": "stream",
     "text": [
      "Agent 0: opponent_idx: [3, 4, 7, 8, 9], counts: [3, 6, 880, 1, 110] rewards: [0.6666666666666666, 0.8333333333333334, 3.3420454545454548, 3.0, 2.9727272727272727]\n",
      "Agent 1: opponent_idx: [0, 2, 3, 5, 6, 7, 8, 9], counts: [1, 21, 33, 1, 11, 881, 2, 50] rewards: [3.0, 0.0, 0.0, 0.0, 0.0, 2.989784335981839, 3.0, 3.08]\n",
      "Agent 2: opponent_idx: [1, 3, 5, 6, 7, 8], counts: [433, 1, 4, 1, 1, 560] rewards: [4.963048498845265, 1.0, 1.0, 0.0, 5.0, 4.957142857142857]\n",
      "Agent 3: opponent_idx: [0, 1, 2, 5, 6, 7, 8, 9], counts: [62, 342, 3, 30, 1, 63, 1, 498] rewards: [3.5806451612903225, 4.970760233918129, 1.0, 1.0, 1.0, 4.873015873015873, 5.0, 4.963855421686747]\n",
      "Agent 4: opponent_idx: [0, 2, 3, 5, 6, 7, 9], counts: [1, 2, 4, 1, 2, 988, 2] rewards: [1.0, 1.0, 1.0, 1.0, 1.0, 4.9574898785425106, 5.0]\n",
      "Agent 5: opponent_idx: [0, 1, 2, 6, 7, 8, 9], counts: [3, 134, 26, 1, 436, 377, 23] rewards: [4.333333333333333, 4.343283582089552, 1.0, 1.0, 3.7362385321100917, 3.7586206896551726, 4.913043478260869]\n",
      "Agent 6: opponent_idx: [0, 1, 3, 4, 5, 7, 9], counts: [520, 218, 1, 1, 2, 257, 1] rewards: [4.142307692307693, 4.944954128440367, 1.0, 1.0, 1.0, 4.953307392996109, 5.0]\n",
      "Agent 7: opponent_idx: [0, 1, 2, 3, 4, 6, 8, 9], counts: [69, 194, 1, 17, 1, 1, 646, 71] rewards: [3.0, 2.9948453608247423, 0.0, 0.0, 0.0, 0.0, 2.984520123839009, 3.0]\n",
      "Agent 8: opponent_idx: [0, 1, 2, 3, 4, 7, 9], counts: [498, 164, 2, 1, 1, 327, 7] rewards: [2.8835341365461846, 3.024390243902439, 0.0, 0.0, 0.0, 2.9908256880733943, 3.0]\n",
      "Agent 9: opponent_idx: [0, 1, 3, 4, 5, 6, 7], counts: [751, 76, 1, 1, 3, 9, 159] rewards: [2.66711051930759, 2.960526315789474, 0.0, 0.0, 0.0, 0.0, 2.981132075471698]\n"
     ]
    }
   ],
   "source": [
    "def get_index_from_action(action, idx):\n",
    "    scale = lambda x: x+1 if x>=idx else x\n",
    "    return list(map(scale, action))\n",
    "\n",
    "for idx in agents:\n",
    "    transitions = agents[idx].SelectMemory.memory\n",
    "    _, actions, rewards, _ = zip(*transitions)\n",
    "    actions = get_index_from_action(np.array(actions, dtype=int), idx)\n",
    "    actions, rewards = np.array(actions), np.array(rewards)\n",
    "    print(f'Agent {idx}:', end='')\n",
    "    values, counts = np.unique(actions, return_counts=True)\n",
    "    print(f' opponent_idx: {list(values)}, counts: {list(counts)} ', end='')\n",
    "    dict_idx = {x: rewards[np.where(actions == x)] for x in values}\n",
    "    print(f'rewards: {[np.mean(y) for _, y in dict_idx.items()]}')\n",
    "    # print(f'rewards: {[np.std(y) for _, y in dict_idx.items()]}')\n",
    "# plt.plot(actions)\n",
    "# plt.show()\n",
    "# print(rewards)"
   ]
  }
 ],
 "metadata": {
  "kernelspec": {
   "display_name": "Python 3.9.12 ('base')",
   "language": "python",
   "name": "python3"
  },
  "language_info": {
   "codemirror_mode": {
    "name": "ipython",
    "version": 3
   },
   "file_extension": ".py",
   "mimetype": "text/x-python",
   "name": "python",
   "nbconvert_exporter": "python",
   "pygments_lexer": "ipython3",
   "version": "3.9.12"
  },
  "orig_nbformat": 4,
  "vscode": {
   "interpreter": {
    "hash": "ad2bdc8ecc057115af97d19610ffacc2b4e99fae6737bb82f5d7fb13d2f2c186"
   }
  }
 },
 "nbformat": 4,
 "nbformat_minor": 2
}
{
 "cells": [
  {
   "cell_type": "code",
   "execution_count": 1,
   "metadata": {
    "pycharm": {
     "name": "#%%\n"
    }
   },
   "outputs": [],
   "source": [
    "import torch\n",
    "import random\n",
    "import numpy as np\n",
    "import matplotlib.pyplot as plt\n",
    "from agent import *\n",
    "from selection import *\n",
    "from utils import *\n",
    "from env import Environment\n",
    "from simulation import constructAgent\n",
    "from main import Config"
   ]
  },
  {
   "cell_type": "code",
   "execution_count": 2,
   "metadata": {
    "pycharm": {
     "name": "#%%\n"
    }
   },
   "outputs": [],
   "source": [
    "MULTI_SELECTION_METHOD = 'LSTM-VAR'\n",
    "config = {\n",
    "    'reward': 3, \n",
    "    'sucker': 0, \n",
    "    'temptation': 5, \n",
    "    'punishment': 1, \n",
    "    'n_episodes': 5000, \n",
    "    'discount': 0.99,\n",
    "    'play_epsilon': 1,\n",
    "    'select_epsilon': 1,\n",
    "    'epsilon_decay': 0.999,\n",
    "    'min_epsilon': 0.01,\n",
    "    'alpha': 0.1,\n",
    "    'n_actions': 2,\n",
    "    'h': 10,\n",
    "    'state_repr': 'bi-repr',\n",
    "    'batch_size': 64,\n",
    "    'learning_rate': 1e-3,\n",
    "}\n",
    "config = Config(config)\n",
    "env = Environment(config)\n",
    "seed_everything()"
   ]
  },
  {
   "cell_type": "code",
   "execution_count": 3,
   "metadata": {
    "pycharm": {
     "name": "#%%\n"
    }
   },
   "outputs": [
    {
     "name": "stderr",
     "output_type": "stream",
     "text": [
      "100%|███████████████████████████████████████| 5000/5000 [41:01<00:00,  2.03it/s]\n"
     ]
    },
    {
     "name": "stdout",
     "output_type": "stream",
     "text": [
      "Agent0: name:LSTMQN  final score:192.49930955572668  play time:8537  times to play D:6976  ratio: 0.8171488813400491  faced D ratio: 0.8707977041115146\n",
      "Agent1: name:LSTMQN  final score:202.49820512681507  play time:9046  times to play D:6805  ratio: 0.7522661950033164  faced D ratio: 0.7066106566438205\n",
      "Agent2: name:LSTMQN  final score:129.95001785988626  play time:7369  times to play D:6029  ratio: 0.8181571447957661  faced D ratio: 0.6201655584204099\n",
      "Agent3: name:LSTMQN  final score:150.30131529770244  play time:9386  times to play D:6839  ratio: 0.7286383976134668  faced D ratio: 0.7939484338376305\n",
      "Agent4: name:LSTMQN  final score:103.96503257143743  play time:8374  times to play D:6470  ratio: 0.7726295677095772  faced D ratio: 0.8865536183424887\n",
      "Agent5: name:LSTMQN  final score:118.55748120551888  play time:7597  times to play D:6514  ratio: 0.8574437277872845  faced D ratio: 0.8473081479531394\n",
      "Agent6: name:LSTMQN  final score:192.62982131390172  play time:17573  times to play D:13241  ratio: 0.7534854606498606  faced D ratio: 0.7657770443293689\n",
      "Agent7: name:LSTMQN  final score:69.91025035251289  play time:12486  times to play D:8882  ratio: 0.711356719525869  faced D ratio: 0.6504885471728336\n",
      "Agent8: name:LSTMQN  final score:222.77309301591637  play time:13747  times to play D:7102  ratio: 0.5166218083945588  faced D ratio: 0.8371281006765112\n",
      "Agent9: name:LSTMQN  final score:141.73479692654053  play time:9854  times to play D:8381  ratio: 0.8505175563223056  faced D ratio: 0.5832149380962046\n",
      "Agent10: name:LSTMQN  final score:308.9914855652699  play time:5405  times to play D:3523  ratio: 0.6518038852913969  faced D ratio: 0.6827012025901943\n",
      "Agent11: name:LSTMQN  final score:104.60670793029335  play time:6554  times to play D:5274  ratio: 0.8046994202014037  faced D ratio: 0.7490082392432102\n",
      "Agent12: name:LSTMQN  final score:144.52312418491013  play time:7139  times to play D:5382  ratio: 0.7538870990334781  faced D ratio: 0.7974506233366018\n",
      "Agent13: name:LSTMQN  final score:80.28084948245017  play time:18013  times to play D:16313  ratio: 0.9056237162049631  faced D ratio: 0.7341364570032755\n",
      "Agent14: name:LSTMQN  final score:127.18364031693373  play time:8920  times to play D:6305  ratio: 0.7068385650224215  faced D ratio: 0.8942825112107623\n",
      "The reward for total society: 302.027693398907\n"
     ]
    }
   ],
   "source": [
    "agents = {}\n",
    "index = 0\n",
    "with HiddenPrints():\n",
    "#     for _ in range(5):\n",
    "#         agents[index] = constructAgent('TitForTat', config)\n",
    "#         index += 1\n",
    "#     for _ in range(5):\n",
    "#         agents[index] = constructAgent('LSTM', config)\n",
    "#         index += 1\n",
    "    for _ in range(15):\n",
    "        agents[index] = constructAgent('LSTMQN', config)\n",
    "        index += 1\n",
    " \n",
    "agents = lstm_variant_selection(config, agents, env)\n",
    "\n",
    "for n in range(len(agents)):\n",
    "    print('Agent{}: name:{}  final score:{}  play time:{}  times to play D:{}  ratio: {}  faced D ratio: {}'\n",
    "        .format(n, agents[n].name, agents[n].running_score,\n",
    "        len(agents[n].own_memory[:agents[n].play_times]), list(agents[n].own_memory[:agents[n].play_times]).count(1),\n",
    "                list(agents[n].own_memory[:agents[n].play_times]).count(1)/len(agents[n].own_memory[:agents[n].play_times]),\n",
    "                list(agents[n].opponent_memory[:agents[n].play_times]).count(1)/len(agents[n].opponent_memory[:agents[n].play_times])))\n",
    "print('The reward for total society: {}'.format(env.running_score/len(agents)))"
   ]
  },
  {
   "cell_type": "code",
   "execution_count": 4,
   "metadata": {
    "pycharm": {
     "name": "#%%\n"
    }
   },
   "outputs": [
    {
     "name": "stdout",
     "output_type": "stream",
     "text": [
      "Agent 0: opponent_idx: [1, 2, 3, 4, 5, 6, 7, 8, 9, 10, 11, 12, 13, 14], counts: [5, 8, 315, 411, 644, 8, 76, 6, 597, 7, 7, 120, 2414, 374] rewards: [1.6, 1.875, 1.4603174603174602, 1.3819951338199514, 1.0962732919254659, 1.625, 1.9210526315789473, 2.6666666666666665, 1.8442211055276383, 1.5714285714285714, 1.7142857142857142, 1.3833333333333333, 1.096106048053024, 0.9171122994652406]\n",
      "Agent 1: opponent_idx: [0, 2, 3, 4, 5, 6, 7, 8, 9, 10, 11, 12, 13, 14], counts: [23, 41, 9, 43, 422, 1109, 1322, 82, 179, 4, 11, 1734, 7, 6] rewards: [0.6086956521739131, 1.0731707317073171, 1.6666666666666667, 3.372093023255814, 1.8056872037914693, 1.8440036068530208, 2.2783661119515886, 0.6707317073170732, 2.1284916201117317, 4.5, 2.5454545454545454, 2.086505190311419, 1.5714285714285714, 2.0]\n",
      "Agent 2: opponent_idx: [0, 1, 3, 4, 5, 6, 7, 8, 9, 10, 11, 12, 13, 14], counts: [6, 81, 2, 8, 35, 2089, 1664, 593, 427, 30, 6, 7, 4, 40] rewards: [0.6666666666666666, 1.345679012345679, 4.0, 1.75, 1.0571428571428572, 2.0785064624222116, 2.7788461538461537, 3.246205733558179, 2.981264637002342, 1.9, 0.3333333333333333, 2.5714285714285716, 2.75, 1.5]\n",
      "Agent 3: opponent_idx: [0, 1, 2, 4, 5, 6, 7, 8, 9, 10, 11, 12, 13, 14], counts: [5, 11, 10, 8, 100, 13, 40, 188, 1634, 168, 6, 46, 2756, 7] rewards: [0.2, 1.7272727272727273, 1.5, 2.25, 1.11, 0.7692307692307693, 2.225, 1.8936170212765957, 1.2178702570379436, 0.7619047619047619, 3.1666666666666665, 0.6956521739130435, 1.2387518142235123, 2.0]\n",
      "Agent 4: opponent_idx: [0, 1, 2, 3, 5, 6, 7, 8, 9, 10, 11, 12, 13, 14], counts: [207, 6, 217, 313, 41, 33, 2428, 105, 7, 7, 604, 15, 1003, 6] rewards: [1.0531400966183575, 1.1666666666666667, 1.7788018433179724, 1.8019169329073483, 0.6341463414634146, 0.7575757575757576, 0.9864085667215815, 2.5619047619047617, 1.7142857142857142, 1.8571428571428572, 1.5347682119205297, 2.3333333333333335, 1.317048853439681, 2.3333333333333335]\n",
      "Agent 5: opponent_idx: [0, 1, 2, 3, 4, 6, 7, 8, 9, 10, 11, 12, 13, 14], counts: [179, 7, 9, 9, 675, 1123, 238, 44, 13, 8, 274, 3, 2390, 20] rewards: [2.1675977653631286, 2.0, 1.4444444444444444, 1.8888888888888888, 1.6074074074074074, 1.4122885129118432, 1.1092436974789917, 1.4772727272727273, 2.230769230769231, 3.375, 2.605839416058394, 2.3333333333333335, 1.0389121338912133, 0.9]\n",
      "Agent 6: opponent_idx: [0, 1, 2, 3, 4, 5, 7, 8, 9, 10, 11, 12, 13, 14], counts: [6, 4, 162, 12, 114, 383, 81, 1245, 6, 28, 69, 17, 2515, 350] rewards: [0.16666666666666666, 1.0, 1.0061728395061729, 2.5833333333333335, 1.8596491228070176, 1.321148825065274, 2.506172839506173, 3.1967871485943773, 3.5, 1.75, 1.2753623188405796, 1.6470588235294117, 1.2003976143141153, 1.0771428571428572]\n",
      "Agent 7: opponent_idx: [0, 1, 2, 3, 4, 5, 6, 8, 9, 10, 11, 12, 13, 14], counts: [107, 178, 248, 6, 46, 6, 2817, 1393, 32, 5, 5, 6, 9, 134] rewards: [1.0560747663551402, 0.9044943820224719, 1.721774193548387, 3.0, 1.1521739130434783, 2.6666666666666665, 2.258430954916578, 2.745872218234027, 0.46875, 3.4, 0.6, 3.0, 3.7777777777777777, 1.2014925373134329]\n",
      "Agent 8: opponent_idx: [0, 1, 2, 3, 4, 5, 6, 7, 9, 10, 11, 12, 13, 14], counts: [806, 5, 296, 156, 210, 36, 10, 1549, 1804, 4, 23, 81, 6, 6] rewards: [2.074441687344913, 2.2, 0.42567567567567566, 2.2243589743589745, 1.5047619047619047, 1.1111111111111112, 1.6, 2.0471271788250482, 0.9761640798226164, 2.25, 1.9565217391304348, 0.8148148148148148, 2.5, 1.6666666666666667]\n",
      "Agent 9: opponent_idx: [0, 1, 2, 3, 4, 5, 6, 7, 8, 10, 11, 12, 13, 14], counts: [25, 4, 9, 87, 11, 7, 11, 7, 4546, 100, 85, 71, 16, 13] rewards: [1.24, 2.0, 1.3333333333333333, 2.9885057471264367, 2.090909090909091, 1.7142857142857142, 2.8181818181818183, 3.142857142857143, 3.067751869775627, 0.32, 2.176470588235294, 0.971830985915493, 1.5, 2.076923076923077]\n",
      "Agent 10: opponent_idx: [0, 1, 2, 3, 4, 5, 6, 7, 8, 9, 11, 12, 13, 14], counts: [299, 326, 40, 2550, 104, 138, 679, 7, 4, 13, 92, 7, 80, 653] rewards: [0.939799331103679, 1.7668711656441718, 3.35, 1.9019607843137254, 3.298076923076923, 1.9202898550724639, 1.2135493372606774, 1.2857142857142858, 0.25, 2.1538461538461537, 2.3043478260869565, 1.4285714285714286, 4.55, 1.2496171516079633]\n",
      "Agent 11: opponent_idx: [0, 1, 2, 3, 4, 5, 6, 7, 8, 9, 10, 12, 13, 14], counts: [6, 3363, 135, 895, 8, 101, 319, 5, 11, 108, 8, 9, 12, 12] rewards: [0.8333333333333334, 1.8581623550401427, 1.525925925925926, 2.064804469273743, 1.75, 1.900990099009901, 1.6739811912225706, 1.6, 1.5454545454545454, 1.0925925925925926, 0.625, 2.111111111111111, 2.1666666666666665, 2.0]\n",
      "Agent 12: opponent_idx: [0, 1, 2, 3, 4, 5, 6, 7, 8, 9, 10, 11, 13, 14], counts: [32, 1, 684, 9, 23, 7, 4046, 13, 6, 7, 8, 144, 3, 9] rewards: [1.1875, 1.0, 1.3669590643274854, 3.2222222222222223, 1.391304347826087, 1.4285714285714286, 1.5491843796342066, 2.4615384615384617, 2.8333333333333335, 2.4285714285714284, 2.5, 2.3541666666666665, 1.6666666666666667, 1.4444444444444444]\n",
      "Agent 13: opponent_idx: [0, 1, 2, 3, 4, 5, 6, 7, 8, 9, 10, 11, 12, 14], counts: [1821, 32, 284, 9, 6, 7, 5, 5, 508, 10, 5, 13, 8, 2279] rewards: [1.6968698517298189, 0.90625, 0.7887323943661971, 1.1111111111111112, 3.1666666666666665, 1.1428571428571428, 0.6, 2.6, 3.7598425196850394, 2.3, 1.4, 2.1538461538461537, 1.0, 3.008775778850373]\n",
      "Agent 14: opponent_idx: [0, 1, 2, 3, 4, 5, 6, 7, 8, 9, 10, 11, 12, 13], counts: [5, 12, 220, 5, 1700, 664, 304, 49, 5, 11, 10, 210, 7, 1790] rewards: [0.8, 2.0, 1.0227272727272727, 3.4, 1.19, 0.9367469879518072, 1.2401315789473684, 1.163265306122449, 1.8, 2.090909090909091, 2.4, 1.0666666666666667, 1.5714285714285714, 0.8357541899441341]\n"
     ]
    }
   ],
   "source": [
    "def get_index_from_action(action, idx):\n",
    "    scale = lambda x: x+1 if x>=idx else x\n",
    "    return list(map(scale, action))\n",
    "\n",
    "for idx in agents:\n",
    "    transitions = agents[idx].SelectMemory.memory\n",
    "    _, actions, rewards, _ = zip(*transitions)\n",
    "    actions = get_index_from_action(np.array(actions, dtype=int), idx)\n",
    "    actions, rewards = np.array(actions), np.array(rewards)\n",
    "    print(f'Agent {idx}:', end='')\n",
    "    values, counts = np.unique(actions, return_counts=True)\n",
    "    print(f' opponent_idx: {list(values)}, counts: {list(counts)} ', end='')\n",
    "    dict_idx = {x: rewards[np.where(actions == x)] for x in values}\n",
    "    print(f'rewards: {[np.mean(y) for _, y in dict_idx.items()]}')\n",
    "    # print(f'rewards: {[np.std(y) for _, y in dict_idx.items()]}')\n",
    "# plt.plot(actions)\n",
    "# plt.show()\n",
    "# print(rewards)"
   ]
  },
  {
   "cell_type": "code",
   "execution_count": null,
   "metadata": {
    "pycharm": {
     "name": "#%%\n"
    }
   },
   "outputs": [],
   "source": []
  },
  {
   "cell_type": "code",
   "execution_count": 5,
   "metadata": {
    "pycharm": {
     "name": "#%%\n"
    }
   },
   "outputs": [],
   "source": [
    "MULTI_SELECTION_METHOD = 'LSTM-VAR'\n",
    "config = {\n",
    "    'reward': 3, \n",
    "    'sucker': 0, \n",
    "    'temptation': 5, \n",
    "    'punishment': 1, \n",
    "    'n_episodes': 10000, \n",
    "    'discount': 0.99,\n",
    "    'play_epsilon': 1,\n",
    "    'select_epsilon': 1,\n",
    "    'epsilon_decay': 0.999,\n",
    "    'min_epsilon': 0.01,\n",
    "    'alpha': 0.1,\n",
    "    'n_actions': 2,\n",
    "    'h': 10,\n",
    "    'state_repr': 'bi-repr',\n",
    "    'batch_size': 64,\n",
    "    'learning_rate': 1e-3,\n",
    "}\n",
    "config = Config(config)\n",
    "env = Environment(config)\n",
    "seed_everything()"
   ]
  },
  {
   "cell_type": "code",
   "execution_count": 6,
   "metadata": {
    "pycharm": {
     "name": "#%%\n"
    }
   },
   "outputs": [
    {
     "name": "stderr",
     "output_type": "stream",
     "text": [
      "100%|███████████████████████████████████| 10000/10000 [1:57:31<00:00,  1.42it/s]\n"
     ]
    },
    {
     "name": "stdout",
     "output_type": "stream",
     "text": [
      "Agent0: name:LSTMQN  final score:211.0547075668551  play time:16989  times to play D:13169  ratio: 0.7751486255812584  faced D ratio: 0.6967449526163988\n",
      "Agent1: name:LSTMQN  final score:208.695557622663  play time:21989  times to play D:13590  ratio: 0.6180362908727091  faced D ratio: 0.6442766837964436\n",
      "Agent2: name:LSTMQN  final score:207.26825968312187  play time:20928  times to play D:14874  ratio: 0.7107224770642202  faced D ratio: 0.6801892201834863\n",
      "Agent3: name:LSTMQN  final score:103.3718353843269  play time:14973  times to play D:12495  ratio: 0.8345021037868162  faced D ratio: 0.7452748280237761\n",
      "Agent4: name:LSTMQN  final score:213.1758166448058  play time:15510  times to play D:8522  ratio: 0.549451966473243  faced D ratio: 0.6444874274661508\n",
      "Agent5: name:LSTMQN  final score:134.87981524057417  play time:20054  times to play D:16109  ratio: 0.8032811409195173  faced D ratio: 0.7484292410491672\n",
      "Agent6: name:LSTMQN  final score:84.9413001144647  play time:14542  times to play D:9845  ratio: 0.6770045385779122  faced D ratio: 0.6935772245908404\n",
      "Agent7: name:LSTMQN  final score:192.12381029374615  play time:20888  times to play D:15148  ratio: 0.725201072386059  faced D ratio: 0.7310896208349291\n",
      "Agent8: name:LSTMQN  final score:120.30321388775067  play time:18469  times to play D:14466  ratio: 0.7832584330499757  faced D ratio: 0.674752287617088\n",
      "Agent9: name:LSTMQN  final score:110.05367031482866  play time:24222  times to play D:14954  ratio: 0.6173726364462059  faced D ratio: 0.641524234167286\n",
      "Agent10: name:LSTMQN  final score:105.56394853863695  play time:20687  times to play D:12512  ratio: 0.6048242857833422  faced D ratio: 0.6900952288877072\n",
      "Agent11: name:LSTMQN  final score:113.54994226510293  play time:21707  times to play D:13516  ratio: 0.6226562859906942  faced D ratio: 0.6635186806099415\n",
      "Agent12: name:LSTMQN  final score:418.71998638483717  play time:23849  times to play D:14776  ratio: 0.6195647616252253  faced D ratio: 0.6125623715879073\n",
      "Agent13: name:LSTMQN  final score:227.32094485389595  play time:23328  times to play D:15865  ratio: 0.6800840192043895  faced D ratio: 0.6393175582990398\n",
      "Agent14: name:LSTMQN  final score:148.18500198264576  play time:21865  times to play D:14077  ratio: 0.6438143151154814  faced D ratio: 0.7297050080036588\n",
      "The reward for total society: 317.170685142819\n"
     ]
    }
   ],
   "source": [
    "agents = {}\n",
    "index = 0\n",
    "with HiddenPrints():\n",
    "#     for _ in range(5):\n",
    "#         agents[index] = constructAgent('TitForTat', config)\n",
    "#         index += 1\n",
    "#     for _ in range(5):\n",
    "#         agents[index] = constructAgent('LSTM', config)\n",
    "#         index += 1\n",
    "    for _ in range(15):\n",
    "        agents[index] = constructAgent('LSTMQN', config)\n",
    "        index += 1\n",
    " \n",
    "agents = lstm_variant_selection(config, agents, env)\n",
    "\n",
    "for n in range(len(agents)):\n",
    "    print('Agent{}: name:{}  final score:{}  play time:{}  times to play D:{}  ratio: {}  faced D ratio: {}'\n",
    "        .format(n, agents[n].name, agents[n].running_score,\n",
    "        len(agents[n].own_memory[:agents[n].play_times]), list(agents[n].own_memory[:agents[n].play_times]).count(1),\n",
    "                list(agents[n].own_memory[:agents[n].play_times]).count(1)/len(agents[n].own_memory[:agents[n].play_times]),\n",
    "                list(agents[n].opponent_memory[:agents[n].play_times]).count(1)/len(agents[n].opponent_memory[:agents[n].play_times])))\n",
    "print('The reward for total society: {}'.format(env.running_score/len(agents)))"
   ]
  },
  {
   "cell_type": "code",
   "execution_count": 7,
   "metadata": {
    "pycharm": {
     "name": "#%%\n"
    }
   },
   "outputs": [
    {
     "name": "stdout",
     "output_type": "stream",
     "text": [
      "Agent 0: opponent_idx: [1, 2, 3, 4, 5, 6, 7, 8, 9, 10, 11, 12, 13, 14], counts: [105, 388, 106, 345, 99, 471, 585, 212, 3038, 575, 79, 3205, 505, 279] rewards: [1.9142857142857144, 1.384020618556701, 1.0377358490566038, 0.9623188405797102, 1.5656565656565657, 3.129511677282378, 1.029059829059829, 1.1415094339622642, 1.3568136932192232, 3.102608695652174, 1.2278481012658229, 2.77597503900156, 1.7861386138613862, 1.946236559139785]\n",
      "Agent 1: opponent_idx: [0, 2, 3, 4, 5, 6, 7, 8, 9, 10, 11, 12, 13, 14], counts: [257, 656, 119, 87, 364, 249, 146, 1240, 276, 38, 837, 228, 5123, 372] rewards: [0.933852140077821, 2.1966463414634148, 1.1092436974789917, 3.4367816091954024, 1.1043956043956045, 1.6907630522088353, 1.3493150684931507, 2.2983870967741935, 2.199275362318841, 1.131578947368421, 2.3273596176821982, 2.1271929824561404, 1.6449346086277572, 2.575268817204301]\n",
      "Agent 2: opponent_idx: [0, 1, 3, 4, 5, 6, 7, 8, 9, 10, 11, 12, 13, 14], counts: [30, 180, 5, 23, 9, 576, 196, 88, 26, 125, 283, 4276, 619, 3556] rewards: [1.0666666666666667, 1.7666666666666666, 3.0, 2.1739130434782608, 2.111111111111111, 2.8402777777777777, 1.3265306122448979, 1.9545454545454546, 1.3076923076923077, 1.288, 2.918727915194346, 1.8519644527595884, 2.126009693053312, 1.7120359955005624]\n",
      "Agent 3: opponent_idx: [0, 1, 2, 4, 5, 6, 7, 8, 9, 10, 11, 12, 13, 14], counts: [181, 787, 489, 13, 414, 100, 400, 366, 1975, 465, 256, 543, 3046, 957] rewards: [1.0939226519337018, 1.508259212198221, 2.355828220858896, 2.1538461538461537, 1.2608695652173914, 1.14, 1.6925, 1.144808743169399, 2.9635443037974682, 1.2150537634408602, 2.3671875, 1.4788213627992635, 1.8319107025607353, 1.271682340647858]\n",
      "Agent 4: opponent_idx: [0, 1, 2, 3, 5, 6, 7, 8, 9, 10, 11, 12, 13, 14], counts: [566, 1184, 309, 194, 89, 43, 3370, 496, 8, 325, 763, 122, 126, 2397] rewards: [2.2738515901060072, 1.7204391891891893, 1.7411003236245954, 0.5, 0.9101123595505618, 0.9767441860465116, 1.3415430267062314, 0.4939516129032258, 1.0, 2.0953846153846154, 3.052424639580603, 1.598360655737705, 0.16666666666666666, 2.3516896120150186]\n",
      "Agent 5: opponent_idx: [0, 1, 2, 3, 4, 6, 7, 8, 9, 10, 11, 12, 13, 14], counts: [4408, 74, 474, 786, 366, 155, 1138, 76, 219, 1283, 229, 282, 300, 202] rewards: [1.867513611615245, 1.3243243243243243, 1.2974683544303798, 0.9707379134860051, 1.2704918032786885, 1.8129032258064517, 2.7293497363796133, 0.8026315789473685, 2.9817351598173514, 1.4809041309431021, 2.2052401746724892, 1.6418439716312057, 2.566666666666667, 1.1782178217821782]\n",
      "Agent 6: opponent_idx: [0, 1, 2, 3, 4, 5, 7, 8, 9, 10, 11, 12, 13, 14], counts: [132, 1110, 1028, 1559, 207, 20, 133, 96, 173, 3982, 113, 11, 1247, 181] rewards: [1.0075757575757576, 2.4297297297297296, 1.0252918287937742, 1.1565105837075047, 0.3526570048309179, 1.55, 2.0902255639097747, 0.4791666666666667, 1.1907514450867052, 2.9919638372677047, 1.831858407079646, 2.5454545454545454, 0.8757016840417001, 1.5469613259668509]\n",
      "Agent 7: opponent_idx: [0, 1, 2, 3, 4, 5, 6, 8, 9, 10, 11, 12, 13, 14], counts: [493, 130, 2122, 415, 24, 3134, 1038, 120, 447, 505, 627, 68, 828, 41] rewards: [1.385395537525355, 2.4076923076923076, 1.5513666352497644, 1.4506024096385541, 0.6666666666666666, 1.4585194639438417, 2.0115606936416186, 1.5083333333333333, 1.9373601789709172, 0.9801980198019802, 1.8883572567783093, 2.823529411764706, 2.2089371980676327, 1.3170731707317074]\n",
      "Agent 8: opponent_idx: [0, 1, 2, 3, 4, 5, 6, 7, 9, 10, 11, 12, 13, 14], counts: [23, 3493, 11, 133, 141, 1790, 14, 625, 543, 504, 442, 55, 278, 1940] rewards: [2.782608695652174, 1.8408245061551676, 1.9090909090909092, 2.082706766917293, 0.9787234042553191, 2.66536312849162, 1.5714285714285714, 2.0368, 2.534069981583794, 0.5694444444444444, 1.1131221719457014, 2.381818181818182, 2.7805755395683454, 2.0809278350515465]\n",
      "Agent 9: opponent_idx: [0, 1, 2, 3, 4, 5, 6, 7, 8, 10, 11, 12, 13, 14], counts: [71, 211, 3667, 50, 828, 2681, 11, 185, 264, 1980, 6, 8, 20, 10] rewards: [0.8450704225352113, 2.161137440758294, 1.7384783201527134, 0.92, 2.9927536231884058, 1.3412905632226781, 2.5454545454545454, 1.0432432432432432, 2.087121212121212, 2.323737373737374, 1.1666666666666667, 1.25, 2.2, 1.8]\n",
      "Agent 10: opponent_idx: [0, 1, 2, 3, 4, 5, 6, 7, 8, 9, 11, 12, 13, 14], counts: [69, 15, 6, 985, 10, 7, 8, 77, 391, 3037, 1117, 4199, 17, 54] rewards: [2.420289855072464, 2.466666666666667, 1.3333333333333333, 2.1888324873096447, 1.7, 1.7142857142857142, 1.875, 2.1948051948051948, 3.040920716112532, 1.5156404346394468, 3.2560429722470903, 2.1871874255775183, 1.6470588235294117, 3.759259259259259]\n",
      "Agent 11: opponent_idx: [0, 1, 2, 3, 4, 5, 6, 7, 8, 9, 10, 12, 13, 14], counts: [629, 2390, 393, 12, 534, 460, 939, 811, 1213, 1618, 139, 749, 58, 47] rewards: [0.56120826709062, 1.802092050209205, 1.2646310432569974, 2.1666666666666665, 1.4625468164794007, 1.9173913043478261, 2.060702875399361, 1.1405672009864365, 1.3107996702390767, 1.7373300370828182, 2.1366906474820144, 2.664886515353805, 0.6551724137931034, 1.7234042553191489]\n",
      "Agent 12: opponent_idx: [0, 1, 2, 3, 4, 5, 6, 7, 8, 9, 10, 11, 13, 14], counts: [79, 1455, 175, 173, 2031, 7, 588, 527, 378, 135, 198, 3190, 971, 85] rewards: [1.6329113924050633, 2.4790378006872853, 2.2914285714285714, 0.3063583815028902, 3.571639586410635, 1.1428571428571428, 4.355442176870748, 2.2979127134724857, 1.4285714285714286, 1.1111111111111112, 2.95959595959596, 1.5376175548589341, 4.31101956745623, 1.3294117647058823]\n",
      "Agent 13: opponent_idx: [0, 1, 2, 3, 4, 5, 6, 7, 8, 9, 10, 11, 12, 14], counts: [32, 467, 346, 240, 444, 240, 163, 395, 239, 1734, 355, 3575, 29, 1733] rewards: [2.46875, 2.139186295503212, 0.9595375722543352, 0.3625, 2.725225225225225, 1.475, 2.607361963190184, 1.268354430379747, 2.6820083682008367, 3.2497116493656284, 4.270422535211267, 1.6246153846153846, 0.896551724137931, 2.409117137911137]\n",
      "Agent 14: opponent_idx: [0, 1, 2, 3, 4, 5, 6, 7, 8, 9, 10, 11, 12, 13], counts: [9, 377, 858, 187, 450, 734, 180, 2298, 3279, 987, 200, 185, 66, 182] rewards: [1.5555555555555556, 1.5915119363395225, 1.592074592074592, 1.2941176470588236, 2.7222222222222223, 1.3773841961852862, 0.8388888888888889, 1.6823324630113141, 1.1491308325709058, 1.9807497467071935, 1.275, 1.7513513513513514, 1.7424242424242424, 2.159340659340659]\n"
     ]
    }
   ],
   "source": [
    "def get_index_from_action(action, idx):\n",
    "    scale = lambda x: x+1 if x>=idx else x\n",
    "    return list(map(scale, action))\n",
    "\n",
    "for idx in agents:\n",
    "    transitions = agents[idx].SelectMemory.memory\n",
    "    _, actions, rewards, _ = zip(*transitions)\n",
    "    actions = get_index_from_action(np.array(actions, dtype=int), idx)\n",
    "    actions, rewards = np.array(actions), np.array(rewards)\n",
    "    print(f'Agent {idx}:', end='')\n",
    "    values, counts = np.unique(actions, return_counts=True)\n",
    "    print(f' opponent_idx: {list(values)}, counts: {list(counts)} ', end='')\n",
    "    dict_idx = {x: rewards[np.where(actions == x)] for x in values}\n",
    "    print(f'rewards: {[np.mean(y) for _, y in dict_idx.items()]}')\n",
    "    # print(f'rewards: {[np.std(y) for _, y in dict_idx.items()]}')\n",
    "# plt.plot(actions)\n",
    "# plt.show()\n",
    "# print(rewards)"
   ]
  },
  {
   "cell_type": "code",
   "execution_count": null,
   "metadata": {
    "pycharm": {
     "name": "#%%\n"
    }
   },
   "outputs": [],
   "source": []
  },
  {
   "cell_type": "code",
   "execution_count": 8,
   "metadata": {
    "pycharm": {
     "name": "#%%\n"
    }
   },
   "outputs": [
    {
     "name": "stderr",
     "output_type": "stream",
     "text": [
      "100%|███████████████████████████████████| 10000/10000 [1:56:37<00:00,  1.43it/s]\n"
     ]
    },
    {
     "name": "stdout",
     "output_type": "stream",
     "text": [
      "Agent0: name:LSTM  final score:149.73053338078785  play time:19030  times to play D:8940  ratio: 0.4697845507094062  faced D ratio: 0.47840252233315816\n",
      "Agent1: name:LSTM  final score:235.3781250111217  play time:28753  times to play D:14097  ratio: 0.49027927520606546  faced D ratio: 0.4348068027684068\n",
      "Agent2: name:LSTM  final score:145.1183547486282  play time:23669  times to play D:12156  ratio: 0.5135831678566902  faced D ratio: 0.5177236047150281\n",
      "Agent3: name:LSTM  final score:195.44771600088603  play time:15586  times to play D:9085  ratio: 0.5828949056845887  faced D ratio: 0.6652765302194277\n",
      "Agent4: name:LSTM  final score:157.8239237599182  play time:19764  times to play D:8495  ratio: 0.4298218984011334  faced D ratio: 0.4472272819267355\n",
      "Agent5: name:LSTMQN  final score:108.50122727705985  play time:21526  times to play D:14144  ratio: 0.6570658738269999  faced D ratio: 0.632909040230419\n",
      "Agent6: name:LSTMQN  final score:106.75738463799674  play time:21945  times to play D:16950  ratio: 0.7723855092276145  faced D ratio: 0.7325131009341536\n",
      "Agent7: name:LSTMQN  final score:296.69948405479715  play time:15832  times to play D:8928  ratio: 0.5639211723092471  faced D ratio: 0.6704143506821627\n",
      "Agent8: name:LSTMQN  final score:225.95518929656274  play time:16533  times to play D:8995  ratio: 0.5440633883747656  faced D ratio: 0.5914232141777052\n",
      "Agent9: name:LSTMQN  final score:118.93378839455193  play time:18143  times to play D:11620  ratio: 0.6404673978945048  faced D ratio: 0.610483382020614\n",
      "Agent10: name:LSTMQN  final score:277.3815099020388  play time:17821  times to play D:11684  ratio: 0.6556309971382077  faced D ratio: 0.6445205095112507\n",
      "Agent11: name:LSTMQN  final score:180.61099157347857  play time:17410  times to play D:12018  ratio: 0.6902929350947731  faced D ratio: 0.646122917863297\n",
      "Agent12: name:LSTMQN  final score:104.49944566685357  play time:19392  times to play D:9879  ratio: 0.5094368811881188  faced D ratio: 0.5668316831683168\n",
      "Agent13: name:LSTMQN  final score:93.08167554035663  play time:20321  times to play D:11394  ratio: 0.560700752915703  faced D ratio: 0.5713301510752423\n",
      "Agent14: name:LSTMQN  final score:102.78687553545585  play time:24275  times to play D:15182  ratio: 0.6254170957775489  faced D ratio: 0.576519052523172\n",
      "The reward for total society: 342.2957369896934\n"
     ]
    }
   ],
   "source": [
    "agents = {}\n",
    "index = 0\n",
    "with HiddenPrints():\n",
    "#     for _ in range(5):\n",
    "#         agents[index] = constructAgent('TitForTat', config)\n",
    "#         index += 1\n",
    "    for _ in range(5):\n",
    "        agents[index] = constructAgent('LSTM', config)\n",
    "        index += 1\n",
    "    for _ in range(10):\n",
    "        agents[index] = constructAgent('LSTMQN', config)\n",
    "        index += 1\n",
    " \n",
    "agents = lstm_variant_selection(config, agents, env)\n",
    "\n",
    "for n in range(len(agents)):\n",
    "    print('Agent{}: name:{}  final score:{}  play time:{}  times to play D:{}  ratio: {}  faced D ratio: {}'\n",
    "        .format(n, agents[n].name, agents[n].running_score,\n",
    "        len(agents[n].own_memory[:agents[n].play_times]), list(agents[n].own_memory[:agents[n].play_times]).count(1),\n",
    "                list(agents[n].own_memory[:agents[n].play_times]).count(1)/len(agents[n].own_memory[:agents[n].play_times]),\n",
    "                list(agents[n].opponent_memory[:agents[n].play_times]).count(1)/len(agents[n].opponent_memory[:agents[n].play_times])))\n",
    "print('The reward for total society: {}'.format(env.running_score/len(agents)))"
   ]
  },
  {
   "cell_type": "code",
   "execution_count": 9,
   "metadata": {
    "pycharm": {
     "name": "#%%\n"
    }
   },
   "outputs": [
    {
     "name": "stdout",
     "output_type": "stream",
     "text": [
      "Agent 0: opponent_idx: [1, 2, 3, 4, 5, 6, 7, 8, 9, 10, 11, 12, 13, 14], counts: [152, 613, 253, 2, 102, 1088, 214, 560, 421, 83, 1362, 1251, 177, 3715] rewards: [2.0592105263157894, 2.900489396411093, 2.8537549407114624, 3.0, 1.411764705882353, 1.5661764705882353, 3.116822429906542, 1.4642857142857142, 2.441805225653207, 1.7710843373493976, 1.5969162995594715, 2.1119104716227017, 2.0338983050847457, 1.723822341857335]\n",
      "Agent 1: opponent_idx: [0, 2, 3, 4, 5, 6, 7, 8, 9, 10, 11, 12, 13, 14], counts: [108, 5, 698, 836, 24, 288, 524, 1826, 730, 1280, 824, 2739, 2, 109] rewards: [2.7685185185185186, 1.8, 1.654727793696275, 2.6555023923444976, 2.7083333333333335, 0.9930555555555556, 2.3244274809160306, 3.31763417305586, 2.8438356164383563, 3.46796875, 1.5728155339805825, 2.298284045271997, 2.5, 1.5045871559633028]\n",
      "Agent 2: opponent_idx: [0, 1, 3, 4, 5, 6, 7, 8, 9, 10, 11, 12, 13, 14], counts: [86, 1487, 5, 2, 508, 745, 1081, 238, 2621, 416, 379, 338, 264, 1823] rewards: [3.255813953488372, 1.4640215198386013, 1.2, 3.0, 1.7519685039370079, 1.1704697986577182, 1.154486586493987, 0.9495798319327731, 1.879053796260969, 1.40625, 2.8337730870712403, 1.7366863905325445, 1.9886363636363635, 2.6670323642347777]\n",
      "Agent 3: opponent_idx: [0, 1, 2, 4, 5, 6, 7, 8, 9, 10, 11, 12, 13, 14], counts: [1267, 2669, 28, 3, 2410, 324, 1109, 143, 108, 106, 3, 243, 1221, 359] rewards: [2.0449881610102603, 1.8343949044585988, 1.3928571428571428, 2.3333333333333335, 1.3829875518672199, 2.1358024691358026, 1.515779981965735, 1.0419580419580419, 1.8611111111111112, 0.7735849056603774, 1.0, 1.6049382716049383, 2.2465192465192465, 1.5933147632311977]\n",
      "Agent 4: opponent_idx: [0, 1, 2, 3, 5, 6, 7, 8, 9, 10, 11, 12, 13, 14], counts: [1595, 519, 235, 553, 1199, 936, 9, 97, 338, 176, 294, 6, 1108, 2928] rewards: [2.5222570532915363, 2.3622350674373798, 2.7148936170212767, 3.4430379746835444, 1.206839032527106, 1.5192307692307692, 3.4444444444444446, 2.9587628865979383, 1.819526627218935, 2.846590909090909, 1.8639455782312926, 2.3333333333333335, 2.0406137184115525, 1.8630464480874316]\n",
      "Agent 5: opponent_idx: [0, 1, 2, 3, 4, 6, 7, 8, 9, 10, 11, 12, 13, 14], counts: [10, 2928, 648, 759, 4, 801, 5, 940, 607, 859, 9, 103, 2112, 208] rewards: [1.8, 2.2182377049180326, 2.087962962962963, 2.046113306982872, 1.5, 1.7091136079900124, 4.2, 1.2957446808510638, 1.6079077429983526, 1.4819557625145519, 1.3333333333333333, 2.4757281553398056, 2.011837121212121, 0.25961538461538464]\n",
      "Agent 6: opponent_idx: [0, 1, 2, 3, 4, 5, 7, 8, 9, 10, 11, 12, 13, 14], counts: [3, 1391, 1193, 1092, 347, 275, 844, 359, 491, 458, 363, 1177, 616, 1384] rewards: [3.0, 1.3177570093457944, 1.1508801341156747, 1.326007326007326, 1.037463976945245, 1.8509090909090908, 1.3376777251184835, 2.1922005571030643, 1.2851323828920571, 1.3253275109170306, 0.8539944903581267, 1.7034834324553951, 3.9529220779220777, 2.296965317919075]\n",
      "Agent 7: opponent_idx: [0, 1, 2, 3, 4, 5, 6, 8, 9, 10, 11, 12, 13, 14], counts: [2798, 588, 258, 293, 180, 1078, 315, 251, 1100, 2194, 73, 1, 814, 50] rewards: [2.502144388849178, 1.8775510204081634, 1.7790697674418605, 1.7508532423208192, 1.2944444444444445, 1.4795918367346939, 1.9396825396825397, 0.5657370517928287, 1.1554545454545455, 1.423883318140383, 1.4657534246575343, 1.0, 1.9164619164619165, 1.1]\n",
      "Agent 8: opponent_idx: [0, 1, 2, 3, 4, 5, 6, 7, 9, 10, 11, 12, 13, 14], counts: [621, 1556, 80, 960, 722, 612, 2842, 382, 2, 300, 325, 462, 724, 405] rewards: [1.8148148148148149, 2.6992287917737787, 1.075, 2.236458333333333, 2.440443213296399, 1.1339869281045751, 1.5109078114004222, 3.884816753926702, 0.5, 2.1233333333333335, 2.1323076923076925, 1.4826839826839826, 2.7790055248618786, 1.1753086419753087]\n",
      "Agent 9: opponent_idx: [0, 1, 2, 3, 4, 5, 6, 7, 8, 10, 11, 12, 13, 14], counts: [159, 1285, 3282, 4, 786, 3, 486, 486, 981, 16, 1234, 653, 420, 198] rewards: [1.3584905660377358, 1.7182879377431906, 2.2742230347349177, 3.5, 2.4656488549618323, 3.6666666666666665, 0.31069958847736623, 1.2613168724279835, 1.2782874617737003, 1.875, 1.8889789303079416, 4.004594180704441, 1.6785714285714286, 1.0303030303030303]\n",
      "Agent 10: opponent_idx: [0, 1, 2, 3, 4, 5, 6, 7, 8, 9, 11, 12, 13, 14], counts: [1154, 1038, 260, 555, 1702, 107, 778, 41, 550, 930, 481, 1344, 814, 239] rewards: [2.613518197573657, 1.3275529865125242, 1.9307692307692308, 1.572972972972973, 2.383078730904818, 1.4579439252336448, 3.619537275064267, 0.14634146341463414, 3.212727272727273, 1.261290322580645, 0.9002079002079002, 2.478422619047619, 1.5466830466830468, 1.2594142259414225]\n",
      "Agent 11: opponent_idx: [0, 1, 2, 3, 4, 5, 6, 7, 8, 9, 10, 12, 13, 14], counts: [247, 10, 3051, 4, 410, 439, 2841, 809, 136, 2, 562, 4, 84, 1394] rewards: [2.6477732793522266, 1.4, 2.1386430678466075, 0.5, 2.153658536585366, 4.0842824601366745, 1.982400563181978, 3.5599505562422746, 4.132352941176471, 5.0, 1.3362989323843417, 1.0, 4.369047619047619, 1.9526542324246772]\n",
      "Agent 12: opponent_idx: [0, 1, 2, 3, 4, 5, 6, 7, 8, 9, 10, 11, 13, 14], counts: [35, 3322, 845, 2, 38, 2558, 286, 230, 9, 618, 433, 1229, 322, 66] rewards: [1.9714285714285715, 2.614087898856111, 2.5633136094674556, 2.0, 1.8157894736842106, 1.3451915559030492, 1.632867132867133, 2.2, 1.0, 1.4239482200647249, 1.7782909930715936, 2.4458909682668835, 0.6118012422360248, 0.9848484848484849]\n",
      "Agent 13: opponent_idx: [0, 1, 2, 3, 4, 5, 6, 7, 8, 9, 10, 11, 12, 14], counts: [645, 1580, 111, 223, 3773, 1900, 112, 47, 115, 20, 25, 3, 48, 1391] rewards: [2.048062015503876, 2.9240506329113924, 2.189189189189189, 2.7309417040358746, 2.6321229790617546, 2.3157894736842106, 1.1696428571428572, 1.3829787234042554, 2.617391304347826, 2.5, 1.92, 1.0, 2.0208333333333335, 2.081236520488857]\n",
      "Agent 14: opponent_idx: [0, 1, 2, 3, 4, 5, 6, 7, 8, 9, 10, 11, 12, 13], counts: [298, 224, 3055, 179, 953, 303, 100, 47, 312, 148, 904, 822, 1014, 1634] rewards: [1.3020134228187918, 1.2276785714285714, 2.3747954173486088, 2.2737430167597767, 2.0020986358866737, 1.3465346534653466, 0.9, 1.1702127659574468, 1.2403846153846154, 0.49324324324324326, 2.275442477876106, 2.546228710462287, 2.2712031558185406, 2.8671970624235006]\n"
     ]
    }
   ],
   "source": [
    "def get_index_from_action(action, idx):\n",
    "    scale = lambda x: x+1 if x>=idx else x\n",
    "    return list(map(scale, action))\n",
    "\n",
    "for idx in agents:\n",
    "    transitions = agents[idx].SelectMemory.memory\n",
    "    _, actions, rewards, _ = zip(*transitions)\n",
    "    actions = get_index_from_action(np.array(actions, dtype=int), idx)\n",
    "    actions, rewards = np.array(actions), np.array(rewards)\n",
    "    print(f'Agent {idx}:', end='')\n",
    "    values, counts = np.unique(actions, return_counts=True)\n",
    "    print(f' opponent_idx: {list(values)}, counts: {list(counts)} ', end='')\n",
    "    dict_idx = {x: rewards[np.where(actions == x)] for x in values}\n",
    "    print(f'rewards: {[np.mean(y) for _, y in dict_idx.items()]}')\n",
    "    # print(f'rewards: {[np.std(y) for _, y in dict_idx.items()]}')\n",
    "# plt.plot(actions)\n",
    "# plt.show()\n",
    "# print(rewards)"
   ]
  },
  {
   "cell_type": "code",
   "execution_count": null,
   "metadata": {
    "pycharm": {
     "name": "#%%\n"
    }
   },
   "outputs": [],
   "source": []
  },
  {
   "cell_type": "code",
   "execution_count": 10,
   "metadata": {
    "pycharm": {
     "name": "#%%\n"
    }
   },
   "outputs": [
    {
     "name": "stderr",
     "output_type": "stream",
     "text": [
      "100%|███████████████████████████████████| 10000/10000 [1:15:40<00:00,  2.20it/s]\n"
     ]
    },
    {
     "name": "stdout",
     "output_type": "stream",
     "text": [
      "Agent0: name:TitForTat  final score:232.11253210870288  play time:23242  times to play D:11616  ratio: 0.4997848722140952  faced D ratio: 0.5083469580931073\n",
      "Agent1: name:TitForTat  final score:314.5650976132172  play time:19614  times to play D:7771  ratio: 0.3961965942693994  faced D ratio: 0.31706944019577854\n",
      "Agent2: name:TitForTat  final score:317.47321732554417  play time:22206  times to play D:9667  ratio: 0.43533279293884536  faced D ratio: 0.4254255606592813\n",
      "Agent3: name:TitForTat  final score:222.35111793410692  play time:25738  times to play D:8770  ratio: 0.3407413163415961  faced D ratio: 0.2682026575491491\n",
      "Agent4: name:TitForTat  final score:257.3447925237049  play time:23256  times to play D:10493  ratio: 0.4511953904368765  faced D ratio: 0.5446766425868593\n",
      "Agent5: name:LSTMQN  final score:198.51260718589975  play time:16161  times to play D:10860  ratio: 0.6719881195470577  faced D ratio: 0.5874017696924695\n",
      "Agent6: name:LSTMQN  final score:297.146164414369  play time:18581  times to play D:12922  ratio: 0.6954415801087132  faced D ratio: 0.6685323717776223\n",
      "Agent7: name:LSTMQN  final score:175.30647534305325  play time:20216  times to play D:13467  ratio: 0.6661555203798971  faced D ratio: 0.620003957261575\n",
      "Agent8: name:LSTMQN  final score:416.5879822339534  play time:18915  times to play D:7456  ratio: 0.39418450964842716  faced D ratio: 0.43552735923869945\n",
      "Agent9: name:LSTMQN  final score:120.23912586112047  play time:18234  times to play D:13881  ratio: 0.7612701546561369  faced D ratio: 0.7398266973785237\n",
      "Agent10: name:LSTMQN  final score:195.95883440878802  play time:15502  times to play D:9407  ratio: 0.6068249258160238  faced D ratio: 0.6751386917817056\n",
      "Agent11: name:LSTMQN  final score:289.35010044088403  play time:23233  times to play D:11209  ratio: 0.48246029354797054  faced D ratio: 0.521757844445401\n",
      "Agent12: name:LSTMQN  final score:105.58797963672475  play time:19689  times to play D:15084  ratio: 0.7661130580527198  faced D ratio: 0.633094621362182\n",
      "Agent13: name:LSTMQN  final score:297.14636062013096  play time:17195  times to play D:7380  ratio: 0.42919453329456236  faced D ratio: 0.5740040709508578\n",
      "Agent14: name:LSTMQN  final score:212.90355040148245  play time:18218  times to play D:5259  ratio: 0.28867054561422767  faced D ratio: 0.38923043144143155\n",
      "The reward for total society: 486.83290984413907\n"
     ]
    }
   ],
   "source": [
    "agents = {}\n",
    "index = 0\n",
    "with HiddenPrints():\n",
    "    for _ in range(5):\n",
    "        agents[index] = constructAgent('TitForTat', config)\n",
    "        index += 1\n",
    "#     for _ in range(5):\n",
    "#         agents[index] = constructAgent('LSTM', config)\n",
    "#         index += 1\n",
    "    for _ in range(10):\n",
    "        agents[index] = constructAgent('LSTMQN', config)\n",
    "        index += 1\n",
    " \n",
    "agents = lstm_variant_selection(config, agents, env)\n",
    "\n",
    "for n in range(len(agents)):\n",
    "    print('Agent{}: name:{}  final score:{}  play time:{}  times to play D:{}  ratio: {}  faced D ratio: {}'\n",
    "        .format(n, agents[n].name, agents[n].running_score,\n",
    "        len(agents[n].own_memory[:agents[n].play_times]), list(agents[n].own_memory[:agents[n].play_times]).count(1),\n",
    "                list(agents[n].own_memory[:agents[n].play_times]).count(1)/len(agents[n].own_memory[:agents[n].play_times]),\n",
    "                list(agents[n].opponent_memory[:agents[n].play_times]).count(1)/len(agents[n].opponent_memory[:agents[n].play_times])))\n",
    "print('The reward for total society: {}'.format(env.running_score/len(agents)))"
   ]
  },
  {
   "cell_type": "code",
   "execution_count": 11,
   "metadata": {
    "pycharm": {
     "name": "#%%\n"
    }
   },
   "outputs": [
    {
     "name": "stdout",
     "output_type": "stream",
     "text": [
      "Agent 0: opponent_idx: [1, 2, 3, 4, 5, 6, 7, 8, 9, 10, 11, 12, 13, 14], counts: [186, 343, 1, 5296, 564, 348, 1147, 133, 602, 418, 66, 582, 8, 297] rewards: [2.0913978494623655, 1.3906705539358601, 0.0, 2.474320241691843, 1.5691489361702127, 2.117816091954023, 1.7384481255448998, 2.0902255639097747, 2.0199335548172757, 2.0526315789473686, 1.696969696969697, 1.3127147766323024, 1.875, 3.1818181818181817]\n",
      "Agent 1: opponent_idx: [0, 2, 3, 4, 5, 6, 7, 8, 9, 10, 11, 12, 13, 14], counts: [2017, 179, 269, 562, 122, 57, 907, 3582, 20, 221, 613, 465, 921, 56] rewards: [2.778879524045612, 3.8435754189944134, 2.646840148698885, 2.4590747330960854, 1.6721311475409837, 2.491228070175439, 2.5093715545755235, 2.66499162479062, 1.75, 2.823529411764706, 2.6704730831973897, 1.6301075268817204, 2.516829533116178, 2.8214285714285716]\n",
      "Agent 2: opponent_idx: [0, 1, 3, 4, 5, 6, 7, 8, 9, 10, 11, 12, 13, 14], counts: [587, 778, 709, 965, 140, 1412, 50, 823, 316, 1880, 422, 1063, 305, 541] rewards: [3.2385008517887566, 2.790488431876607, 2.5782792665726375, 2.1927461139896374, 1.3571428571428572, 1.4872521246458923, 2.86, 2.3973268529769136, 1.6613924050632911, 2.3430851063829787, 3.1800947867298577, 1.5315145813734714, 2.4295081967213115, 2.066543438077634]\n",
      "Agent 3: opponent_idx: [0, 1, 2, 4, 5, 6, 7, 8, 9, 10, 11, 12, 13, 14], counts: [1243, 915, 401, 2860, 65, 120, 142, 107, 3, 4, 1234, 1325, 143, 1429] rewards: [3.1971037811745777, 2.8316939890710384, 2.6982543640897756, 3.452097902097902, 1.3384615384615384, 2.825, 0.9507042253521126, 4.4953271028037385, 2.3333333333333335, 1.75, 0.973257698541329, 2.13811320754717, 1.6923076923076923, 3.2435269419174246]\n",
      "Agent 4: opponent_idx: [0, 1, 2, 3, 5, 6, 7, 8, 9, 10, 11, 12, 13, 14], counts: [856, 728, 1060, 1335, 176, 2643, 1257, 1, 473, 400, 485, 279, 227, 71] rewards: [1.8738317757009346, 3.006868131868132, 2.5160377358490567, 2.337827715355805, 2.0568181818181817, 1.3378736284525161, 2.128082736674622, 3.0, 1.6849894291754757, 2.6675, 4.220618556701031, 1.3835125448028673, 0.8061674008810573, 2.3943661971830985]\n",
      "Agent 5: opponent_idx: [0, 1, 2, 3, 4, 6, 7, 8, 9, 10, 11, 12, 13, 14], counts: [2304, 324, 131, 53, 169, 13, 338, 1422, 453, 149, 909, 526, 782, 2418] rewards: [2.607204861111111, 2.154320987654321, 2.099236641221374, 1.0377358490566038, 1.4792899408284024, 1.5384615384615385, 1.0650887573964498, 2.3220815752461323, 1.0529801324503312, 0.959731543624161, 1.9372937293729373, 1.085551330798479, 3.1815856777493607, 2.945409429280397]\n",
      "Agent 6: opponent_idx: [0, 1, 2, 3, 4, 5, 7, 8, 9, 10, 11, 12, 13, 14], counts: [2522, 105, 1021, 491, 229, 436, 16, 513, 139, 387, 2330, 164, 1202, 436] rewards: [2.5170499603489294, 2.104761904761905, 1.9941234084231145, 2.1221995926680246, 1.2139737991266375, 1.864678899082569, 1.1875, 2.2514619883040936, 0.7050359712230215, 1.421188630490956, 1.6051502145922747, 0.6402439024390244, 3.750415973377704, 1.694954128440367]\n",
      "Agent 7: opponent_idx: [0, 1, 2, 3, 4, 5, 6, 8, 9, 10, 11, 12, 13, 14], counts: [118, 365, 715, 1213, 39, 828, 871, 417, 200, 451, 2503, 898, 83, 1290] rewards: [1.5084745762711864, 1.8356164383561644, 3.1034965034965034, 2.0453421269579555, 2.4358974358974357, 1.5422705314009661, 3.7428243398392653, 1.410071942446043, 0.945, 2.412416851441242, 2.2325209748302037, 1.8207126948775056, 1.180722891566265, 3.4852713178294574]\n",
      "Agent 8: opponent_idx: [0, 1, 2, 3, 4, 5, 6, 7, 9, 10, 11, 12, 13, 14], counts: [848, 3158, 1680, 1172, 37, 624, 115, 1385, 6, 411, 54, 401, 2, 98] rewards: [2.3679245283018866, 2.610196326789107, 2.393452380952381, 2.5887372013651877, 1.0810810810810811, 1.546474358974359, 2.1565217391304348, 1.784115523465704, 1.8333333333333333, 3.9610705596107056, 3.2962962962962963, 2.7406483790523692, 4.0, 3.0714285714285716]\n",
      "Agent 9: opponent_idx: [0, 1, 2, 3, 4, 5, 6, 7, 8, 10, 11, 12, 13, 14], counts: [1103, 5, 602, 495, 617, 948, 1139, 934, 868, 12, 1133, 448, 1180, 507] rewards: [1.600181323662738, 3.0, 1.5016611295681064, 1.8464646464646464, 1.7504051863857375, 1.4535864978902953, 1.305531167690957, 3.805139186295503, 2.404377880184332, 1.1666666666666667, 1.4624889673433363, 1.4151785714285714, 3.1415254237288135, 1.7593688362919133]\n",
      "Agent 10: opponent_idx: [0, 1, 2, 3, 4, 5, 6, 7, 8, 9, 11, 12, 13, 14], counts: [439, 1156, 737, 131, 981, 467, 1401, 1373, 100, 520, 122, 1927, 495, 142] rewards: [2.020501138952164, 2.4394463667820068, 2.010854816824966, 2.1297709923664123, 2.4821610601427113, 1.582441113490364, 2.502498215560314, 1.3357611070648217, 1.01, 2.2557692307692307, 1.2459016393442623, 1.282304099636741, 2.709090909090909, 1.4154929577464788]\n",
      "Agent 11: opponent_idx: [0, 1, 2, 3, 4, 5, 6, 7, 8, 9, 10, 12, 13, 14], counts: [546, 418, 3586, 1366, 4, 576, 317, 353, 92, 143, 624, 1417, 380, 169] rewards: [2.163003663003663, 1.3397129186602872, 2.691857222532069, 2.5988286969253296, 2.25, 1.7552083333333333, 1.7981072555205047, 2.1558073654390935, 0.6521739130434783, 1.8951048951048952, 2.2516025641025643, 1.6111503175723358, 2.8026315789473686, 3.621301775147929]\n",
      "Agent 12: opponent_idx: [0, 1, 2, 3, 4, 5, 6, 7, 8, 9, 10, 11, 13, 14], counts: [179, 179, 28, 1484, 163, 2, 97, 546, 4, 4023, 3, 1135, 1397, 751] rewards: [1.553072625698324, 2.0, 1.6428571428571428, 2.357142857142857, 2.061349693251534, 2.0, 3.948453608247423, 1.3864468864468864, 1.0, 2.435495898583147, 1.0, 1.9797356828193833, 3.37007874015748, 2.5765645805592543]\n",
      "Agent 13: opponent_idx: [0, 1, 2, 3, 4, 5, 6, 7, 8, 9, 10, 11, 12, 14], counts: [244, 1082, 990, 2336, 873, 1087, 5, 80, 575, 260, 362, 1998, 98, 1] rewards: [1.040983606557377, 2.6497227356746764, 2.397979797979798, 2.4773116438356166, 3.004581901489118, 2.2456301747930083, 2.0, 2.35, 3.2991304347826085, 0.43846153846153846, 2.3287292817679557, 1.9574574574574575, 0.9591836734693877, 1.0]\n",
      "Agent 14: opponent_idx: [0, 1, 2, 3, 4, 5, 6, 7, 8, 9, 10, 11, 12, 13], counts: [229, 203, 725, 4670, 453, 122, 34, 1686, 273, 1068, 167, 218, 81, 62] rewards: [2.558951965065502, 2.955665024630542, 2.8979310344827587, 2.8886509635974305, 2.9094922737306845, 0.8360655737704918, 1.3823529411764706, 1.9199288256227758, 3.0549450549450547, 2.0683520599250937, 1.407185628742515, 2.9908256880733943, 2.0987654320987654, 4.096774193548387]\n"
     ]
    }
   ],
   "source": [
    "def get_index_from_action(action, idx):\n",
    "    scale = lambda x: x+1 if x>=idx else x\n",
    "    return list(map(scale, action))\n",
    "\n",
    "for idx in agents:\n",
    "    transitions = agents[idx].SelectMemory.memory\n",
    "    _, actions, rewards, _ = zip(*transitions)\n",
    "    actions = get_index_from_action(np.array(actions, dtype=int), idx)\n",
    "    actions, rewards = np.array(actions), np.array(rewards)\n",
    "    print(f'Agent {idx}:', end='')\n",
    "    values, counts = np.unique(actions, return_counts=True)\n",
    "    print(f' opponent_idx: {list(values)}, counts: {list(counts)} ', end='')\n",
    "    dict_idx = {x: rewards[np.where(actions == x)] for x in values}\n",
    "    print(f'rewards: {[np.mean(y) for _, y in dict_idx.items()]}')\n",
    "    # print(f'rewards: {[np.std(y) for _, y in dict_idx.items()]}')\n",
    "# plt.plot(actions)\n",
    "# plt.show()\n",
    "# print(rewards)"
   ]
  },
  {
   "cell_type": "code",
   "execution_count": null,
   "metadata": {
    "pycharm": {
     "name": "#%%\n"
    }
   },
   "outputs": [],
   "source": []
  },
  {
   "cell_type": "code",
   "execution_count": null,
   "metadata": {
    "pycharm": {
     "name": "#%%\n"
    }
   },
   "outputs": [],
   "source": []
  },
  {
   "cell_type": "code",
   "execution_count": 12,
   "metadata": {
    "pycharm": {
     "name": "#%%\n"
    }
   },
   "outputs": [
    {
     "name": "stderr",
     "output_type": "stream",
     "text": [
      "100%|███████████████████████████████████| 10000/10000 [1:47:46<00:00,  1.55it/s]\n"
     ]
    },
    {
     "name": "stdout",
     "output_type": "stream",
     "text": [
      "Agent0: name:TitForTat  final score:244.39913736288526  play time:23867  times to play D:8645  ratio: 0.36221561151380566  faced D ratio: 0.2793396740268991\n",
      "Agent1: name:LSTM  final score:99.96799720884074  play time:16640  times to play D:10176  ratio: 0.6115384615384616  faced D ratio: 0.6274038461538461\n",
      "Agent2: name:LSTM  final score:253.83676149407972  play time:17886  times to play D:10102  ratio: 0.56479928435648  faced D ratio: 0.5861567706586157\n",
      "Agent3: name:LSTM  final score:234.0960943092598  play time:21448  times to play D:11395  ratio: 0.5312849682954122  faced D ratio: 0.5059679224170086\n",
      "Agent4: name:LSTM  final score:219.7052153663711  play time:22325  times to play D:13799  ratio: 0.6180963045912654  faced D ratio: 0.654020156774916\n",
      "Agent5: name:LSTMQN  final score:132.109304169317  play time:15363  times to play D:12463  ratio: 0.8112347848727463  faced D ratio: 0.721278396146586\n",
      "Agent6: name:LSTMQN  final score:326.70707219187125  play time:16690  times to play D:6369  ratio: 0.3816057519472738  faced D ratio: 0.43265428400239664\n",
      "Agent7: name:LSTMQN  final score:250.0032646390034  play time:21468  times to play D:11372  ratio: 0.5297186510154649  faced D ratio: 0.5485839388857835\n",
      "Agent8: name:LSTMQN  final score:139.32781981694697  play time:17997  times to play D:12033  ratio: 0.6686114352392065  faced D ratio: 0.7389009279324332\n",
      "Agent9: name:LSTMQN  final score:214.45891650236368  play time:19539  times to play D:16173  ratio: 0.8277291570704745  faced D ratio: 0.7680536363171093\n",
      "Agent10: name:LSTMQN  final score:109.95731425896129  play time:24761  times to play D:11074  ratio: 0.44723557206897946  faced D ratio: 0.5128629699931344\n",
      "Agent11: name:LSTMQN  final score:138.2543788818937  play time:16518  times to play D:14354  ratio: 0.868991403317593  faced D ratio: 0.8098438067562659\n",
      "Agent12: name:LSTMQN  final score:130.20388150165195  play time:21468  times to play D:16194  ratio: 0.7543320290665176  faced D ratio: 0.727780883174958\n",
      "Agent13: name:LSTMQN  final score:111.9654484011502  play time:23224  times to play D:14764  ratio: 0.6357216672407854  faced D ratio: 0.6682311401997933\n",
      "Agent14: name:LSTMQN  final score:143.98667099699034  play time:20806  times to play D:14026  ratio: 0.6741324617898683  faced D ratio: 0.6869172354128616\n",
      "The reward for total society: 360.8498986853616\n"
     ]
    }
   ],
   "source": [
    "agents = {}\n",
    "index = 0\n",
    "with HiddenPrints():\n",
    "    for _ in range(1):\n",
    "        agents[index] = constructAgent('TitForTat', config)\n",
    "        index += 1\n",
    "    for _ in range(4):\n",
    "        agents[index] = constructAgent('LSTM', config)\n",
    "        index += 1\n",
    "    for _ in range(10):\n",
    "        agents[index] = constructAgent('LSTMQN', config)\n",
    "        index += 1\n",
    " \n",
    "agents = lstm_variant_selection(config, agents, env)\n",
    "\n",
    "for n in range(len(agents)):\n",
    "    print('Agent{}: name:{}  final score:{}  play time:{}  times to play D:{}  ratio: {}  faced D ratio: {}'\n",
    "        .format(n, agents[n].name, agents[n].running_score,\n",
    "        len(agents[n].own_memory[:agents[n].play_times]), list(agents[n].own_memory[:agents[n].play_times]).count(1),\n",
    "                list(agents[n].own_memory[:agents[n].play_times]).count(1)/len(agents[n].own_memory[:agents[n].play_times]),\n",
    "                list(agents[n].opponent_memory[:agents[n].play_times]).count(1)/len(agents[n].opponent_memory[:agents[n].play_times])))\n",
    "print('The reward for total society: {}'.format(env.running_score/len(agents)))"
   ]
  },
  {
   "cell_type": "code",
   "execution_count": 13,
   "metadata": {
    "pycharm": {
     "name": "#%%\n"
    }
   },
   "outputs": [
    {
     "name": "stdout",
     "output_type": "stream",
     "text": [
      "Agent 0: opponent_idx: [1, 2, 3, 4, 5, 6, 7, 8, 9, 10, 11, 12, 13, 14], counts: [106, 933, 38, 2057, 406, 351, 520, 101, 214, 5056, 51, 82, 75, 2] rewards: [0.7735849056603774, 2.437299035369775, 4.157894736842105, 2.1934856587263005, 1.5443349753694582, 3.547008547008547, 1.7576923076923077, 1.7920792079207921, 1.4205607476635513, 2.970530063291139, 1.0784313725490196, 2.0853658536585367, 2.32, 3.0]\n",
      "Agent 1: opponent_idx: [0, 2, 3, 4, 5, 6, 7, 8, 9, 10, 11, 12, 13, 14], counts: [790, 1341, 610, 1154, 409, 191, 222, 456, 764, 171, 1770, 188, 1737, 189] rewards: [2.288607594936709, 2.3862788963460106, 2.411475409836066, 1.6299826689774697, 1.215158924205379, 2.0471204188481678, 2.536036036036036, 0.9671052631578947, 0.9895287958115183, 2.017543859649123, 1.1101694915254237, 3.0106382978723403, 2.3932066781807713, 1.08994708994709]\n",
      "Agent 2: opponent_idx: [0, 1, 3, 4, 5, 6, 7, 8, 9, 10, 11, 12, 13, 14], counts: [1161, 350, 3433, 325, 368, 653, 154, 97, 591, 4, 92, 1715, 663, 386] rewards: [2.054263565891473, 2.382857142857143, 1.8258083309059132, 2.123076923076923, 1.25, 2.3843797856049003, 1.3181818181818181, 1.8969072164948453, 1.6412859560067683, 1.75, 1.684782608695652, 1.758600583090379, 1.7300150829562595, 0.5051813471502591]\n",
      "Agent 3: opponent_idx: [0, 1, 2, 4, 5, 6, 7, 8, 9, 10, 11, 12, 13, 14], counts: [1359, 227, 350, 1365, 8, 404, 3057, 39, 1692, 310, 561, 154, 465, 1] rewards: [2.279617365710081, 2.39647577092511, 2.6742857142857144, 1.6564102564102565, 0.625, 3.7153465346534653, 2.6460582270199544, 1.7179487179487178, 1.2139479905437351, 1.7741935483870968, 1.7611408199643495, 1.4610389610389611, 2.3849462365591396, 5.0]\n",
      "Agent 4: opponent_idx: [0, 1, 2, 3, 5, 6, 7, 8, 9, 10, 11, 12, 13, 14], counts: [570, 263, 225, 20, 156, 250, 3, 12, 1094, 484, 313, 2619, 3783, 200] rewards: [1.856140350877193, 2.0836501901140685, 1.9377777777777778, 2.55, 1.4038461538461537, 0.956, 2.6666666666666665, 2.8333333333333335, 1.6581352833638026, 1.5557851239669422, 1.0894568690095847, 1.5662466590301642, 1.5107057890563045, 2.585]\n",
      "Agent 5: opponent_idx: [0, 1, 2, 3, 4, 6, 7, 8, 9, 10, 11, 12, 13, 14], counts: [98, 850, 106, 323, 115, 1088, 357, 1886, 172, 3813, 136, 319, 523, 206] rewards: [1.1020408163265305, 1.0941176470588236, 1.4433962264150944, 1.8575851393188854, 1.2782608695652173, 1.7215073529411764, 3.2549019607843137, 2.053022269353128, 0.6627906976744186, 1.821924993443483, 0.7279411764705882, 1.0438871473354232, 1.6195028680688337, 2.0679611650485437]\n",
      "Agent 6: opponent_idx: [0, 1, 2, 3, 4, 5, 7, 8, 9, 10, 11, 12, 13, 14], counts: [4320, 2, 414, 859, 1910, 350, 1276, 204, 492, 3, 29, 93, 2, 38] rewards: [2.4618055555555554, 0.0, 1.4396135265700483, 2.419091967403958, 2.148167539267016, 0.7314285714285714, 2.90282131661442, 2.1911764705882355, 0.8211382113821138, 0.0, 1.4827586206896552, 1.913978494623656, 2.0, 0.34210526315789475]\n",
      "Agent 7: opponent_idx: [0, 1, 2, 3, 4, 5, 6, 8, 9, 10, 11, 12, 13, 14], counts: [169, 1055, 818, 2482, 42, 665, 268, 739, 249, 210, 296, 508, 247, 2244] rewards: [2.7218934911242605, 2.746919431279621, 2.128361858190709, 1.968573730862208, 2.642857142857143, 1.1097744360902255, 3.8507462686567164, 1.7334235453315292, 1.714859437751004, 2.4761904761904763, 1.3952702702702702, 2.5196850393700787, 0.6761133603238867, 2.0441176470588234]\n",
      "Agent 8: opponent_idx: [0, 1, 2, 3, 4, 5, 6, 7, 9, 10, 11, 12, 13, 14], counts: [1, 178, 298, 813, 658, 567, 243, 1833, 136, 142, 557, 2557, 1627, 382] rewards: [1.0, 1.101123595505618, 1.261744966442953, 2.0996309963099633, 1.4984802431610942, 0.9365079365079365, 1.3786008230452675, 1.3627932351336607, 3.6323529411764706, 0.2887323943661972, 1.481149012567325, 1.7438404380132968, 1.9668100799016595, 2.115183246073298]\n",
      "Agent 9: opponent_idx: [0, 1, 2, 3, 4, 5, 6, 7, 8, 10, 11, 12, 13, 14], counts: [294, 172, 785, 197, 298, 176, 435, 505, 402, 3492, 474, 73, 2606, 83] rewards: [1.0782312925170068, 2.3255813953488373, 1.1452229299363057, 2.197969543147208, 1.4899328859060403, 1.2045454545454546, 2.3770114942528737, 2.8, 2.0049751243781095, 1.752290950744559, 1.8860759493670887, 1.2054794520547945, 2.1696085955487336, 1.180722891566265]\n",
      "Agent 10: opponent_idx: [0, 1, 2, 3, 4, 5, 6, 7, 8, 9, 11, 12, 13, 14], counts: [3590, 303, 1445, 282, 233, 611, 635, 415, 212, 297, 153, 964, 819, 33] rewards: [2.6860724233983286, 2.5280528052805282, 2.671280276816609, 2.4290780141843973, 2.107296137339056, 1.0, 3.5448818897637797, 1.5662650602409638, 2.080188679245283, 1.6767676767676767, 0.8169934640522876, 0.7053941908713693, 1.9841269841269842, 1.1818181818181819]\n",
      "Agent 11: opponent_idx: [0, 1, 2, 3, 4, 5, 6, 7, 8, 9, 10, 12, 13, 14], counts: [337, 182, 165, 500, 422, 4, 538, 1285, 36, 1426, 139, 223, 405, 4330] rewards: [1.8842729970326408, 1.1923076923076923, 1.206060606060606, 1.558, 1.2345971563981042, 1.0, 1.312267657992565, 1.5540856031128405, 0.9722222222222222, 1.3758765778401123, 2.1510791366906474, 1.7399103139013452, 1.8864197530864197, 1.4792147806004619]\n",
      "Agent 12: opponent_idx: [0, 1, 2, 3, 4, 5, 6, 7, 8, 9, 10, 11, 13, 14], counts: [297, 1547, 187, 162, 262, 157, 877, 1209, 1840, 434, 744, 248, 262, 1766] rewards: [0.9696969696969697, 1.6793794440853265, 1.4171122994652405, 1.1049382716049383, 1.3702290076335877, 1.713375796178344, 1.919042189281642, 1.827129859387924, 2.360869565217391, 1.6244239631336406, 1.6841397849462365, 1.0564516129032258, 0.9122137404580153, 1.5730464326160816]\n",
      "Agent 13: opponent_idx: [0, 1, 2, 3, 4, 5, 6, 7, 8, 9, 10, 11, 12, 14], counts: [60, 1051, 787, 931, 152, 958, 554, 625, 31, 1692, 175, 1722, 317, 937] rewards: [2.5833333333333335, 2.1284490960989535, 2.406607369758577, 2.3319011815252417, 2.4276315789473686, 1.0897703549060542, 0.5415162454873647, 2.8384, 1.3548387096774193, 1.5650118203309693, 4.034285714285715, 1.2508710801393728, 1.1735015772870663, 1.7705442902881536]\n",
      "Agent 14: opponent_idx: [0, 1, 2, 3, 4, 5, 6, 7, 8, 9, 10, 11, 12, 13], counts: [809, 344, 25, 785, 3327, 522, 195, 3, 1930, 280, 15, 109, 1647, 1] rewards: [2.757725587144623, 1.1337209302325582, 2.2, 2.1363057324840766, 2.061917643522693, 1.5632183908045978, 2.6, 3.6666666666666665, 1.910362694300518, 1.7714285714285714, 2.6666666666666665, 0.944954128440367, 1.4990892531876139, 3.0]\n"
     ]
    }
   ],
   "source": [
    "def get_index_from_action(action, idx):\n",
    "    scale = lambda x: x+1 if x>=idx else x\n",
    "    return list(map(scale, action))\n",
    "\n",
    "for idx in agents:\n",
    "    transitions = agents[idx].SelectMemory.memory\n",
    "    _, actions, rewards, _ = zip(*transitions)\n",
    "    actions = get_index_from_action(np.array(actions, dtype=int), idx)\n",
    "    actions, rewards = np.array(actions), np.array(rewards)\n",
    "    print(f'Agent {idx}:', end='')\n",
    "    values, counts = np.unique(actions, return_counts=True)\n",
    "    print(f' opponent_idx: {list(values)}, counts: {list(counts)} ', end='')\n",
    "    dict_idx = {x: rewards[np.where(actions == x)] for x in values}\n",
    "    print(f'rewards: {[np.mean(y) for _, y in dict_idx.items()]}')\n",
    "    # print(f'rewards: {[np.std(y) for _, y in dict_idx.items()]}')\n",
    "# plt.plot(actions)\n",
    "# plt.show()\n",
    "# print(rewards)"
   ]
  },
  {
   "cell_type": "code",
   "execution_count": null,
   "metadata": {
    "pycharm": {
     "name": "#%%\n"
    }
   },
   "outputs": [],
   "source": []
  },
  {
   "cell_type": "code",
   "execution_count": null,
   "metadata": {
    "pycharm": {
     "name": "#%%\n"
    }
   },
   "outputs": [],
   "source": []
  },
  {
   "cell_type": "code",
   "execution_count": null,
   "metadata": {
    "pycharm": {
     "name": "#%%\n"
    }
   },
   "outputs": [],
   "source": []
  },
  {
   "cell_type": "code",
   "execution_count": 14,
   "metadata": {
    "pycharm": {
     "name": "#%%\n"
    }
   },
   "outputs": [
    {
     "name": "stderr",
     "output_type": "stream",
     "text": [
      "100%|███████████████████████████████████| 10000/10000 [1:53:56<00:00,  1.46it/s]\n"
     ]
    },
    {
     "name": "stdout",
     "output_type": "stream",
     "text": [
      "Agent0: name:LSTM  final score:100.61701778603704  play time:19891  times to play D:17954  ratio: 0.9026192750490172  faced D ratio: 0.8955809159921573\n",
      "Agent1: name:LSTM  final score:100.49861477418634  play time:16024  times to play D:14931  ratio: 0.9317898152770844  faced D ratio: 0.9311657513729406\n",
      "Agent2: name:LSTM  final score:101.03020984960094  play time:20835  times to play D:18829  ratio: 0.9037197024238061  faced D ratio: 0.9036237101031918\n",
      "Agent3: name:LSTM  final score:99.68633891027822  play time:14271  times to play D:13104  ratio: 0.9182257725457221  faced D ratio: 0.9192067829864761\n",
      "Agent4: name:LSTM  final score:103.54485132308076  play time:18584  times to play D:17441  ratio: 0.9384954799827809  faced D ratio: 0.9379573826947912\n",
      "Agent5: name:LSTM  final score:99.57625476879019  play time:17413  times to play D:16224  ratio: 0.9317176821914661  faced D ratio: 0.9372882329294205\n",
      "Agent6: name:LSTM  final score:100.9195041731359  play time:27668  times to play D:24433  ratio: 0.883077923955472  faced D ratio: 0.8845597802515541\n",
      "Agent7: name:LSTM  final score:100.79654863479351  play time:23383  times to play D:22136  ratio: 0.9466706581704657  faced D ratio: 0.9469272548432622\n",
      "Agent8: name:LSTM  final score:101.53321941799973  play time:16213  times to play D:15225  ratio: 0.9390612471473508  faced D ratio: 0.9410349719361006\n",
      "Agent9: name:LSTM  final score:103.1359458981726  play time:16322  times to play D:14381  ratio: 0.8810807499080995  faced D ratio: 0.886839848057836\n",
      "Agent10: name:LSTM  final score:104.0216701882981  play time:20502  times to play D:17564  ratio: 0.8566969076187689  faced D ratio: 0.8546971027216856\n",
      "Agent11: name:LSTM  final score:103.99235039440525  play time:18893  times to play D:17290  ratio: 0.9151537606520934  faced D ratio: 0.9155771979039856\n",
      "Agent12: name:LSTM  final score:100.71013143017724  play time:25990  times to play D:23682  ratio: 0.9111966140823393  faced D ratio: 0.9084263178145441\n",
      "Agent13: name:LSTM  final score:99.87543083202839  play time:18845  times to play D:17297  ratio: 0.9178561952772619  faced D ratio: 0.9169010347572301\n",
      "Agent14: name:LSTM  final score:99.5883682953993  play time:25166  times to play D:23133  ratio: 0.9192164030835254  faced D ratio: 0.9192561392354764\n",
      "The reward for total society: 203.06485704591108\n"
     ]
    }
   ],
   "source": [
    "agents = {}\n",
    "index = 0\n",
    "with HiddenPrints():\n",
    "#     for _ in range(1):\n",
    "#         agents[index] = constructAgent('TitForTat', config)\n",
    "#         index += 1\n",
    "    for _ in range(15):\n",
    "        agents[index] = constructAgent('LSTM', config)\n",
    "        index += 1\n",
    "#     for _ in range(10):\n",
    "#         agents[index] = constructAgent('LSTMQN', config)\n",
    "#         index += 1\n",
    " \n",
    "agents = lstm_variant_selection(config, agents, env)\n",
    "\n",
    "for n in range(len(agents)):\n",
    "    print('Agent{}: name:{}  final score:{}  play time:{}  times to play D:{}  ratio: {}  faced D ratio: {}'\n",
    "        .format(n, agents[n].name, agents[n].running_score,\n",
    "        len(agents[n].own_memory[:agents[n].play_times]), list(agents[n].own_memory[:agents[n].play_times]).count(1),\n",
    "                list(agents[n].own_memory[:agents[n].play_times]).count(1)/len(agents[n].own_memory[:agents[n].play_times]),\n",
    "                list(agents[n].opponent_memory[:agents[n].play_times]).count(1)/len(agents[n].opponent_memory[:agents[n].play_times])))\n",
    "print('The reward for total society: {}'.format(env.running_score/len(agents)))"
   ]
  },
  {
   "cell_type": "code",
   "execution_count": 15,
   "metadata": {
    "pycharm": {
     "name": "#%%\n"
    }
   },
   "outputs": [
    {
     "name": "stdout",
     "output_type": "stream",
     "text": [
      "Agent 0: opponent_idx: [1, 2, 3, 4, 5, 6, 7, 8, 9, 10, 11, 12, 13, 14], counts: [1, 762, 106, 147, 852, 3596, 2830, 202, 2, 207, 267, 739, 217, 64] rewards: [1.0, 1.068241469816273, 1.0377358490566038, 1.0272108843537415, 1.0258215962441315, 1.5795328142380423, 1.0551236749116608, 1.0, 1.0, 0.9951690821256038, 1.9775280898876404, 1.0243572395128553, 0.9815668202764977, 1.765625]\n",
      "Agent 1: opponent_idx: [0, 2, 3, 4, 5, 6, 7, 8, 9, 10, 11, 12, 13, 14], counts: [137, 634, 541, 3508, 384, 654, 391, 66, 105, 73, 338, 973, 44, 2144] rewards: [1.0583941605839415, 1.0488958990536277, 1.0683918669131238, 1.040478905359179, 1.28125, 1.0412844036697249, 1.4194373401534526, 1.0, 1.0, 1.1095890410958904, 1.1035502958579881, 1.039054470709147, 1.1818181818181819, 1.6399253731343284]\n",
      "Agent 2: opponent_idx: [0, 1, 3, 4, 5, 6, 7, 8, 9, 10, 11, 12, 13, 14], counts: [624, 233, 293, 180, 79, 4070, 489, 219, 364, 3, 1678, 970, 536, 254] rewards: [1.1746794871794872, 1.0171673819742488, 1.023890784982935, 1.0444444444444445, 1.0253164556962024, 1.4515970515970515, 1.0429447852760736, 1.2602739726027397, 1.032967032967033, 1.0, 1.0423122765196662, 1.0185567010309278, 1.0261194029850746, 1.0039370078740157]\n",
      "Agent 3: opponent_idx: [0, 1, 2, 4, 5, 6, 7, 8, 9, 10, 11, 12, 13, 14], counts: [3190, 1154, 131, 245, 163, 213, 362, 145, 424, 331, 862, 1159, 704, 909] rewards: [1.7175548589341694, 1.0216637781629117, 1.4809160305343512, 1.0, 1.165644171779141, 1.0469483568075117, 0.994475138121547, 1.013793103448276, 1.0471698113207548, 1.1208459214501512, 1.0962877030162412, 1.0215703192407248, 1.0752840909090908, 1.0473047304730474]\n",
      "Agent 4: opponent_idx: [0, 1, 2, 3, 5, 6, 7, 8, 9, 10, 11, 12, 13, 14], counts: [79, 275, 566, 613, 2, 1638, 2737, 60, 2192, 387, 249, 219, 831, 144] rewards: [1.0506329113924051, 1.0472727272727274, 1.0636042402826855, 1.0358890701468189, 1.0, 1.043956043956044, 1.0438436244062843, 1.05, 1.9958941605839415, 1.0258397932816536, 1.0401606425702812, 1.082191780821918, 1.0012033694344165, 1.0069444444444444]\n",
      "Agent 5: opponent_idx: [0, 1, 2, 3, 4, 6, 7, 8, 9, 10, 11, 12, 13, 14], counts: [1308, 375, 1348, 165, 140, 724, 249, 272, 60, 1699, 284, 145, 111, 3112] rewards: [1.0305810397553516, 1.0506666666666666, 1.405786350148368, 1.0242424242424242, 1.0214285714285714, 1.0524861878453038, 1.0522088353413654, 1.0294117647058822, 1.2333333333333334, 1.8769864626250736, 1.0422535211267605, 1.0206896551724138, 1.2522522522522523, 1.025706940874036]\n",
      "Agent 6: opponent_idx: [0, 1, 2, 3, 4, 5, 7, 8, 9, 10, 11, 12, 13, 14], counts: [97, 51, 275, 609, 42, 300, 911, 1355, 763, 1769, 257, 91, 723, 2749] rewards: [0.979381443298969, 1.0784313725490196, 1.0545454545454545, 1.0213464696223318, 1.3333333333333333, 1.0333333333333334, 1.0954994511525795, 1.1195571955719557, 1.0393184796854522, 2.05992085924251, 0.9844357976653697, 1.098901098901099, 1.0677731673582296, 1.0327391778828665]\n",
      "Agent 7: opponent_idx: [0, 1, 2, 3, 4, 5, 6, 8, 9, 10, 11, 12, 13, 14], counts: [1916, 138, 2898, 9, 364, 158, 887, 422, 120, 200, 2323, 72, 482, 3] rewards: [1.0579331941544885, 1.036231884057971, 1.679089026915114, 1.4444444444444444, 1.0769230769230769, 1.0696202531645569, 1.0146561443066517, 1.0071090047393365, 1.0083333333333333, 1.02, 1.059836418424451, 1.0138888888888888, 1.066390041493776, 1.0]\n",
      "Agent 8: opponent_idx: [0, 1, 2, 3, 4, 5, 6, 7, 9, 10, 11, 12, 13, 14], counts: [256, 602, 256, 101, 137, 944, 488, 534, 347, 1072, 491, 1338, 3202, 224] rewards: [1.04296875, 1.0332225913621262, 1.1015625, 1.0, 1.0291970802919708, 1.0879237288135593, 1.4405737704918034, 1.0374531835205993, 1.0461095100864553, 1.0317164179104477, 1.0285132382892057, 1.031390134529148, 1.485321673953779, 1.0535714285714286]\n",
      "Agent 9: opponent_idx: [0, 1, 2, 3, 4, 5, 6, 7, 8, 10, 11, 12, 13, 14], counts: [93, 1289, 4, 2, 741, 224, 4464, 150, 2044, 76, 293, 299, 2, 311] rewards: [1.086021505376344, 1.0069821567106283, 1.0, 1.0, 1.0958164642375168, 1.0758928571428572, 1.3239247311827957, 1.1, 1.047945205479452, 1.0526315789473684, 1.0409556313993173, 2.100334448160535, 1.0, 1.0064308681672025]\n",
      "Agent 10: opponent_idx: [0, 1, 2, 3, 4, 5, 6, 7, 8, 9, 11, 12, 13, 14], counts: [350, 789, 919, 53, 1539, 1662, 144, 163, 251, 858, 2, 423, 239, 2600] rewards: [0.9914285714285714, 1.467680608365019, 1.0402611534276387, 1.0188679245283019, 1.087719298245614, 1.0571600481347774, 1.1111111111111112, 1.0613496932515338, 1.043824701195219, 1.3275058275058276, 1.0, 0.9905437352245863, 0.9916317991631799, 1.4676923076923076]\n",
      "Agent 11: opponent_idx: [0, 1, 2, 3, 4, 5, 6, 7, 8, 9, 10, 12, 13, 14], counts: [294, 92, 718, 838, 935, 107, 251, 912, 533, 291, 2825, 468, 119, 1609] rewards: [1.0408163265306123, 1.0326086956521738, 1.0376044568245126, 1.071599045346062, 1.0438502673796792, 1.205607476635514, 1.0278884462151394, 1.0635964912280702, 1.0619136960600375, 1.0756013745704467, 1.6134513274336284, 1.0, 1.0, 1.0397762585456805]\n",
      "Agent 12: opponent_idx: [0, 1, 2, 3, 4, 5, 6, 7, 8, 9, 10, 11, 13, 14], counts: [449, 666, 1671, 460, 277, 120, 300, 705, 9, 89, 1397, 1446, 1568, 835] rewards: [1.0311804008908685, 1.4414414414414414, 1.042489527229204, 1.017391304347826, 1.1299638989169676, 1.075, 0.9966666666666667, 1.0865248226950355, 1.4444444444444444, 1.0224719101123596, 1.0365068002863278, 1.9128630705394192, 1.0459183673469388, 1.0946107784431138]\n",
      "Agent 13: opponent_idx: [0, 1, 2, 3, 4, 5, 6, 7, 8, 9, 10, 11, 12, 14], counts: [1064, 296, 436, 316, 279, 1748, 84, 2031, 616, 429, 212, 303, 1974, 204] rewards: [1.0432330827067668, 1.0810810810810811, 1.0321100917431192, 1.1139240506329113, 1.028673835125448, 1.0772311212814645, 0.9761904761904762, 1.0295420974889218, 1.0243506493506493, 1.027972027972028, 0.9952830188679245, 1.00990099009901, 1.8145896656534954, 1.1274509803921569]\n",
      "Agent 14: opponent_idx: [0, 1, 2, 3, 4, 5, 6, 7, 8, 9, 10, 11, 12, 13], counts: [22, 51, 211, 155, 48, 665, 149, 906, 12, 267, 242, 93, 7110, 61] rewards: [0.9545454545454546, 1.2352941176470589, 1.0, 1.038709677419355, 1.0, 1.1639097744360902, 2.295302013422819, 1.1622516556291391, 1.0, 1.0187265917602997, 1.1115702479338843, 1.1290322580645162, 1.218846694796062, 0.9672131147540983]\n"
     ]
    }
   ],
   "source": [
    "def get_index_from_action(action, idx):\n",
    "    scale = lambda x: x+1 if x>=idx else x\n",
    "    return list(map(scale, action))\n",
    "\n",
    "for idx in agents:\n",
    "    transitions = agents[idx].SelectMemory.memory\n",
    "    _, actions, rewards, _ = zip(*transitions)\n",
    "    actions = get_index_from_action(np.array(actions, dtype=int), idx)\n",
    "    actions, rewards = np.array(actions), np.array(rewards)\n",
    "    print(f'Agent {idx}:', end='')\n",
    "    values, counts = np.unique(actions, return_counts=True)\n",
    "    print(f' opponent_idx: {list(values)}, counts: {list(counts)} ', end='')\n",
    "    dict_idx = {x: rewards[np.where(actions == x)] for x in values}\n",
    "    print(f'rewards: {[np.mean(y) for _, y in dict_idx.items()]}')\n",
    "    # print(f'rewards: {[np.std(y) for _, y in dict_idx.items()]}')\n",
    "# plt.plot(actions)\n",
    "# plt.show()\n",
    "# print(rewards)"
   ]
  },
  {
   "cell_type": "code",
   "execution_count": null,
   "metadata": {
    "pycharm": {
     "name": "#%%\n"
    }
   },
   "outputs": [],
   "source": []
  },
  {
   "cell_type": "code",
   "execution_count": null,
   "metadata": {
    "pycharm": {
     "name": "#%%\n"
    }
   },
   "outputs": [],
   "source": []
  },
  {
   "cell_type": "code",
   "execution_count": 16,
   "metadata": {
    "pycharm": {
     "name": "#%%\n"
    }
   },
   "outputs": [
    {
     "name": "stderr",
     "output_type": "stream",
     "text": [
      "100%|███████████████████████████████████| 10000/10000 [1:14:53<00:00,  2.23it/s]\n"
     ]
    },
    {
     "name": "stdout",
     "output_type": "stream",
     "text": [
      "Agent0: name:TitForTat  final score:224.5442113793691  play time:20434  times to play D:5118  ratio: 0.25046491142213956  faced D ratio: 0.23465792306939415\n",
      "Agent1: name:TitForTat  final score:115.41369094224146  play time:23675  times to play D:6895  ratio: 0.2912354804646251  faced D ratio: 0.3089334741288279\n",
      "Agent2: name:TitForTat  final score:272.5430055103634  play time:20959  times to play D:5363  ratio: 0.2558805286511761  faced D ratio: 0.27434515005486904\n",
      "Agent3: name:TitForTat  final score:125.42595977955563  play time:21179  times to play D:3940  ratio: 0.1860333349072194  faced D ratio: 0.1765428018320034\n",
      "Agent4: name:TitForTat  final score:97.15111685546731  play time:17225  times to play D:4101  ratio: 0.23808417997097242  faced D ratio: 0.22432510885341075\n",
      "Agent5: name:LSTM  final score:118.49426302695123  play time:26714  times to play D:3917  ratio: 0.1466272366549375  faced D ratio: 0.1310923111477128\n",
      "Agent6: name:LSTM  final score:134.27669304860606  play time:17323  times to play D:4027  ratio: 0.23246550828378457  faced D ratio: 0.24539629394446688\n",
      "Agent7: name:LSTM  final score:92.13755206253124  play time:19623  times to play D:4385  ratio: 0.22346226367018296  faced D ratio: 0.2545991948224023\n",
      "Agent8: name:LSTM  final score:123.45995960889466  play time:17186  times to play D:3973  ratio: 0.23117653904340743  faced D ratio: 0.22704526940532993\n",
      "Agent9: name:LSTM  final score:113.6541950975811  play time:16610  times to play D:4335  ratio: 0.26098735701384707  faced D ratio: 0.254846478025286\n",
      "Agent10: name:LSTM  final score:137.54327875070007  play time:16684  times to play D:3726  ratio: 0.22332773915128268  faced D ratio: 0.21787341165188204\n",
      "Agent11: name:LSTM  final score:151.35238810509716  play time:22269  times to play D:4280  ratio: 0.1921954286227491  faced D ratio: 0.19349768736809017\n",
      "Agent12: name:LSTM  final score:106.42792283068758  play time:21567  times to play D:7548  ratio: 0.34997913478926135  faced D ratio: 0.35072100894885705\n",
      "Agent13: name:LSTM  final score:277.99031037982303  play time:18967  times to play D:5572  ratio: 0.2937733958981389  faced D ratio: 0.2888701428797385\n",
      "Agent14: name:LSTM  final score:128.44964248567453  play time:19585  times to play D:3248  ratio: 0.16584120500382946  faced D ratio: 0.15802910390605054\n",
      "The reward for total society: 284.2120717801754\n"
     ]
    }
   ],
   "source": [
    "agents = {}\n",
    "index = 0\n",
    "with HiddenPrints():\n",
    "    for _ in range(5):\n",
    "        agents[index] = constructAgent('TitForTat', config)\n",
    "        index += 1\n",
    "    for _ in range(10):\n",
    "        agents[index] = constructAgent('LSTM', config)\n",
    "        index += 1\n",
    "#     for _ in range(10):\n",
    "#         agents[index] = constructAgent('LSTMQN', config)\n",
    "#         index += 1\n",
    " \n",
    "agents = lstm_variant_selection(config, agents, env)\n",
    "\n",
    "for n in range(len(agents)):\n",
    "    print('Agent{}: name:{}  final score:{}  play time:{}  times to play D:{}  ratio: {}  faced D ratio: {}'\n",
    "        .format(n, agents[n].name, agents[n].running_score,\n",
    "        len(agents[n].own_memory[:agents[n].play_times]), list(agents[n].own_memory[:agents[n].play_times]).count(1),\n",
    "                list(agents[n].own_memory[:agents[n].play_times]).count(1)/len(agents[n].own_memory[:agents[n].play_times]),\n",
    "                list(agents[n].opponent_memory[:agents[n].play_times]).count(1)/len(agents[n].opponent_memory[:agents[n].play_times])))\n",
    "print('The reward for total society: {}'.format(env.running_score/len(agents)))"
   ]
  },
  {
   "cell_type": "code",
   "execution_count": 17,
   "metadata": {
    "pycharm": {
     "name": "#%%\n"
    }
   },
   "outputs": [
    {
     "name": "stdout",
     "output_type": "stream",
     "text": [
      "Agent 0: opponent_idx: [1, 2, 3, 4, 5, 6, 7, 8, 9, 10, 11, 12, 13, 14], counts: [359, 2243, 170, 33, 271, 128, 2863, 93, 324, 120, 725, 686, 1575, 403] rewards: [2.9415041782729805, 2.646455639768168, 2.5941176470588236, 2.696969696969697, 2.5719557195571956, 2.8984375, 3.106531610199092, 2.806451612903226, 2.79320987654321, 3.0, 1.5006896551724138, 2.628279883381924, 2.273015873015873, 2.925558312655087]\n",
      "Agent 1: opponent_idx: [0, 2, 3, 4, 5, 6, 7, 8, 9, 10, 11, 12, 13, 14], counts: [145, 64, 817, 9, 2631, 3, 965, 1579, 281, 1, 1348, 1611, 256, 283] rewards: [2.496551724137931, 2.8125, 2.747858017135863, 1.1111111111111112, 2.8350437096161154, 1.3333333333333333, 2.6922279792746115, 2.35085497150095, 1.5907473309608542, 3.0, 2.6313056379821957, 2.3438857852265675, 2.921875, 2.081272084805654]\n",
      "Agent 2: opponent_idx: [0, 1, 3, 4, 5, 6, 7, 8, 9, 10, 11, 12, 13, 14], counts: [2928, 128, 91, 435, 38, 11, 99, 137, 124, 1759, 3542, 596, 2, 103] rewards: [2.5631830601092895, 2.390625, 3.0, 1.9333333333333333, 2.9473684210526314, 2.090909090909091, 1.8282828282828283, 1.3503649635036497, 2.943548387096774, 2.1552018192154634, 2.751270468661773, 2.2684563758389262, 2.0, 2.9611650485436893]\n",
      "Agent 3: opponent_idx: [0, 1, 2, 4, 5, 6, 7, 8, 9, 10, 11, 12, 13, 14], counts: [227, 848, 667, 2, 1365, 476, 876, 74, 1901, 154, 1338, 1124, 588, 353] rewards: [1.3788546255506609, 2.9870283018867925, 3.0569715142428784, 3.0, 2.227838827838828, 2.5861344537815127, 2.791095890410959, 1.1891891891891893, 2.459758022093635, 2.844155844155844, 3.06203288490284, 2.9670818505338077, 2.141156462585034, 2.988668555240793]\n",
      "Agent 4: opponent_idx: [0, 1, 2, 3, 5, 6, 7, 8, 9, 10, 11, 12, 13, 14], counts: [474, 2674, 560, 2, 2669, 123, 74, 210, 277, 497, 127, 917, 1348, 41] rewards: [2.9746835443037973, 2.8657442034405385, 3.0107142857142857, 1.5, 2.697264893218434, 1.8373983739837398, 2.581081081081081, 2.7095238095238097, 2.88086642599278, 2.788732394366197, 2.2913385826771653, 1.7437295528898582, 2.2841246290801185, 2.8536585365853657]\n",
      "Agent 5: opponent_idx: [0, 1, 2, 3, 4, 6, 7, 8, 9, 10, 11, 12, 13, 14], counts: [1403, 1501, 1275, 1475, 1527, 162, 237, 400, 76, 681, 42, 356, 385, 473] rewards: [3.0185317177476834, 2.8407728181212524, 2.1866666666666665, 2.951864406779661, 2.248853962017027, 2.4135802469135803, 3.282700421940928, 2.9375, 2.460526315789474, 2.2716593245227608, 2.8333333333333335, 2.6657303370786516, 2.8857142857142857, 2.970401691331924]\n",
      "Agent 6: opponent_idx: [0, 1, 2, 3, 4, 7, 8, 9, 10, 11, 12, 13, 14], counts: [219, 174, 289, 1469, 2532, 567, 344, 128, 8, 201, 476, 3078, 508] rewards: [2.9863013698630136, 3.0172413793103448, 2.8719723183391004, 2.8196051735874743, 2.8317535545023698, 2.054673721340388, 2.7063953488372094, 2.953125, 1.625, 2.855721393034826, 1.6239495798319328, 2.2686809616634176, 2.718503937007874]\n",
      "Agent 7: opponent_idx: [0, 1, 2, 3, 4, 5, 6, 8, 9, 10, 11, 12, 13, 14], counts: [166, 1396, 1731, 287, 318, 254, 578, 1368, 116, 933, 70, 244, 5, 2527] rewards: [2.427710843373494, 2.3080229226361033, 2.4038128249566726, 2.275261324041812, 1.251572327044025, 2.97244094488189, 2.262975778546713, 2.8201754385964914, 3.0, 2.894962486602358, 2.9285714285714284, 2.9795081967213113, 3.4, 2.6240601503759398]\n",
      "Agent 8: opponent_idx: [0, 1, 2, 3, 4, 5, 6, 7, 9, 10, 11, 12, 13, 14], counts: [513, 998, 2008, 332, 855, 921, 519, 456, 133, 1585, 15, 579, 122, 957] rewards: [2.98635477582846, 2.218436873747495, 2.4696215139442232, 2.996987951807229, 2.9497076023391813, 2.482084690553746, 2.377649325626204, 2.611842105263158, 2.992481203007519, 2.7034700315457414, 1.4666666666666666, 2.150259067357513, 2.2704918032786887, 2.730407523510972]\n",
      "Agent 9: opponent_idx: [0, 1, 2, 3, 4, 5, 6, 7, 8, 10, 11, 12, 13, 14], counts: [564, 1983, 317, 490, 456, 2, 449, 233, 125, 211, 1641, 605, 729, 2188] rewards: [2.75354609929078, 1.887039838628341, 1.7318611987381702, 3.036734693877551, 2.741228070175439, 2.0, 2.3429844097995547, 2.0, 2.904, 2.7393364928909953, 2.976234003656307, 1.8495867768595042, 2.8353909465020575, 2.985831809872029]\n",
      "Agent 10: opponent_idx: [0, 1, 2, 3, 4, 5, 6, 7, 8, 9, 11, 12, 13, 14], counts: [1676, 171, 535, 246, 517, 2049, 420, 189, 139, 1794, 639, 1116, 318, 184] rewards: [2.6300715990453463, 2.8362573099415203, 2.6429906542056076, 2.3495934959349594, 2.750483558994197, 2.985358711566618, 2.933333333333333, 2.941798941798942, 2.971223021582734, 2.088628762541806, 2.8779342723004695, 2.6469534050179213, 2.6855345911949686, 1.2717391304347827]\n",
      "Agent 11: opponent_idx: [0, 1, 2, 3, 4, 5, 6, 7, 8, 9, 10, 12, 13, 14], counts: [31, 319, 316, 3, 3, 3812, 315, 417, 1387, 1108, 339, 1710, 202, 31] rewards: [2.870967741935484, 2.5454545454545454, 2.75, 3.6666666666666665, 3.0, 2.938090241343127, 2.3873015873015873, 2.9928057553956835, 2.4347512617159337, 2.8348375451263537, 3.0294985250737465, 2.0543859649122806, 1.0792079207920793, 3.0]\n",
      "Agent 12: opponent_idx: [0, 1, 2, 3, 4, 5, 6, 7, 8, 9, 10, 11, 13, 14], counts: [241, 411, 760, 1358, 116, 431, 2471, 1441, 967, 3, 255, 1257, 151, 131] rewards: [1.2738589211618256, 2.6180048661800486, 2.2394736842105263, 1.8645066273932254, 1.2413793103448276, 3.0185614849187936, 2.7288547146904087, 2.5503122831367104, 2.56153050672182, 3.0, 2.980392156862745, 2.4216388225934766, 2.609271523178808, 2.648854961832061]\n",
      "Agent 13: opponent_idx: [0, 1, 2, 3, 4, 5, 6, 7, 8, 9, 10, 11, 12, 14], counts: [329, 1788, 135, 1703, 256, 928, 959, 520, 155, 142, 72, 350, 1259, 1397] rewards: [2.802431610942249, 2.1895973154362416, 1.9703703703703703, 2.8925425719318847, 2.8125, 2.759698275862069, 2.980187695516163, 2.121153846153846, 2.6129032258064515, 1.408450704225352, 1.3333333333333333, 2.974285714285714, 2.3328038125496424, 2.5912670007158196]\n",
      "Agent 14: opponent_idx: [0, 1, 2, 3, 4, 5, 6, 7, 8, 9, 10, 11, 12, 13], counts: [1514, 922, 51, 2728, 159, 1340, 703, 676, 198, 198, 64, 967, 276, 197] rewards: [2.3143989431968297, 2.418655097613883, 2.9607843137254903, 2.907624633431085, 2.610062893081761, 2.796268656716418, 2.5405405405405403, 1.9585798816568047, 2.888888888888889, 2.8333333333333335, 2.734375, 2.7745604963805586, 2.9818840579710146, 2.9441624365482233]\n"
     ]
    }
   ],
   "source": [
    "def get_index_from_action(action, idx):\n",
    "    scale = lambda x: x+1 if x>=idx else x\n",
    "    return list(map(scale, action))\n",
    "\n",
    "for idx in agents:\n",
    "    transitions = agents[idx].SelectMemory.memory\n",
    "    _, actions, rewards, _ = zip(*transitions)\n",
    "    actions = get_index_from_action(np.array(actions, dtype=int), idx)\n",
    "    actions, rewards = np.array(actions), np.array(rewards)\n",
    "    print(f'Agent {idx}:', end='')\n",
    "    values, counts = np.unique(actions, return_counts=True)\n",
    "    print(f' opponent_idx: {list(values)}, counts: {list(counts)} ', end='')\n",
    "    dict_idx = {x: rewards[np.where(actions == x)] for x in values}\n",
    "    print(f'rewards: {[np.mean(y) for _, y in dict_idx.items()]}')\n",
    "    # print(f'rewards: {[np.std(y) for _, y in dict_idx.items()]}')\n",
    "# plt.plot(actions)\n",
    "# plt.show()\n",
    "# print(rewards)"
   ]
  },
  {
   "cell_type": "code",
   "execution_count": null,
   "metadata": {
    "pycharm": {
     "name": "#%%\n"
    }
   },
   "outputs": [],
   "source": []
  },
  {
   "cell_type": "code",
   "execution_count": null,
   "metadata": {
    "pycharm": {
     "name": "#%%\n"
    }
   },
   "outputs": [],
   "source": []
  },
  {
   "cell_type": "code",
   "execution_count": null,
   "metadata": {
    "pycharm": {
     "name": "#%%\n"
    }
   },
   "outputs": [],
   "source": []
  },
  {
   "cell_type": "code",
   "execution_count": null,
   "metadata": {
    "pycharm": {
     "name": "#%%\n"
    }
   },
   "outputs": [],
   "source": []
  },
  {
   "cell_type": "code",
   "execution_count": null,
   "metadata": {
    "pycharm": {
     "name": "#%%\n"
    }
   },
   "outputs": [],
   "source": []
  },
  {
   "cell_type": "code",
   "execution_count": 18,
   "metadata": {
    "pycharm": {
     "name": "#%%\n"
    }
   },
   "outputs": [],
   "source": [
    "MULTI_SELECTION_METHOD = 'LSTM-VAR'\n",
    "config = {\n",
    "    'reward': 3, \n",
    "    'sucker': 0, \n",
    "    'temptation': 5, \n",
    "    'punishment': 1, \n",
    "    'n_episodes': 5000, \n",
    "    'discount': 0.99,\n",
    "    'play_epsilon': 1,\n",
    "    'select_epsilon': 1,\n",
    "    'epsilon_decay': 0.999,\n",
    "    'min_epsilon': 0.01,\n",
    "    'alpha': 0.1,\n",
    "    'n_actions': 2,\n",
    "    'h': 10,\n",
    "    'state_repr': 'bi',\n",
    "    'batch_size': 64,\n",
    "    'learning_rate': 1e-3,\n",
    "}\n",
    "config = Config(config)\n",
    "env = Environment(config)\n",
    "seed_everything()"
   ]
  },
  {
   "cell_type": "code",
   "execution_count": 19,
   "metadata": {
    "pycharm": {
     "name": "#%%\n"
    }
   },
   "outputs": [
    {
     "name": "stderr",
     "output_type": "stream",
     "text": [
      "100%|███████████████████████████████████████| 5000/5000 [22:16<00:00,  3.74it/s]\n"
     ]
    },
    {
     "name": "stdout",
     "output_type": "stream",
     "text": [
      "Agent0: name:LSTMQN  final score:104.47790262485135  play time:7286  times to play D:6731  ratio: 0.9238265166071918  faced D ratio: 0.9363162228932199\n",
      "Agent1: name:LSTMQN  final score:100.26787130492221  play time:6744  times to play D:6241  ratio: 0.9254151838671412  faced D ratio: 0.9427639383155397\n",
      "Agent2: name:LSTMQN  final score:104.55159986219213  play time:10392  times to play D:9866  ratio: 0.9493841416474211  faced D ratio: 0.9409160892994611\n",
      "Agent3: name:LSTMQN  final score:102.39313437042964  play time:10469  times to play D:9944  ratio: 0.9498519438341771  faced D ratio: 0.9236794345209667\n",
      "Agent4: name:LSTMQN  final score:100.03581536490722  play time:10976  times to play D:10424  ratio: 0.9497084548104956  faced D ratio: 0.9452441690962099\n",
      "Agent5: name:LSTMQN  final score:100.21228276632905  play time:7476  times to play D:6943  ratio: 0.928705189941145  faced D ratio: 0.9514446227929374\n",
      "Agent6: name:LSTMQN  final score:99.99345148607813  play time:11014  times to play D:10489  ratio: 0.952333393862357  faced D ratio: 0.9480660976938442\n",
      "Agent7: name:LSTMQN  final score:100.00040274961651  play time:8007  times to play D:7488  ratio: 0.9351817159985013  faced D ratio: 0.9656550518296491\n",
      "Agent8: name:LSTMQN  final score:100.73845514057435  play time:11080  times to play D:10513  ratio: 0.9488267148014441  faced D ratio: 0.9535198555956679\n",
      "Agent9: name:LSTMQN  final score:99.74476536742141  play time:10149  times to play D:9563  ratio: 0.9422603212139127  faced D ratio: 0.9606857818504286\n",
      "Agent10: name:LSTMQN  final score:99.769330928365  play time:9704  times to play D:9186  ratio: 0.9466199505358615  faced D ratio: 0.9369332234130255\n",
      "Agent11: name:LSTMQN  final score:101.32773961584608  play time:10070  times to play D:9536  ratio: 0.9469712015888778  faced D ratio: 0.9505461767626614\n",
      "Agent12: name:LSTMQN  final score:104.80519829946743  play time:11543  times to play D:10987  ratio: 0.9518322793034739  faced D ratio: 0.9355453521614832\n",
      "Agent13: name:LSTMQN  final score:100.27836101946636  play time:11311  times to play D:10765  ratio: 0.9517284059764831  faced D ratio: 0.9387322075855362\n",
      "Agent14: name:LSTMQN  final score:99.97591036200207  play time:13779  times to play D:13196  ratio: 0.9576892372450831  faced D ratio: 0.9569634951738152\n",
      "The reward for total society: 202.27429414366077\n"
     ]
    }
   ],
   "source": [
    "agents = {}\n",
    "index = 0\n",
    "with HiddenPrints():\n",
    "#     for _ in range(15):\n",
    "#         agents[index] = constructAgent('TitForTat', config)\n",
    "#         index += 1\n",
    "#     for _ in range(10):\n",
    "#         agents[index] = constructAgent('LSTM', config)\n",
    "#         index += 1\n",
    "    for _ in range(15):\n",
    "        agents[index] = constructAgent('LSTMQN', config)\n",
    "        index += 1\n",
    " \n",
    "agents = lstm_variant_selection(config, agents, env)\n",
    "\n",
    "for n in range(len(agents)):\n",
    "    print('Agent{}: name:{}  final score:{}  play time:{}  times to play D:{}  ratio: {}  faced D ratio: {}'\n",
    "        .format(n, agents[n].name, agents[n].running_score,\n",
    "        len(agents[n].own_memory[:agents[n].play_times]), list(agents[n].own_memory[:agents[n].play_times]).count(1),\n",
    "                list(agents[n].own_memory[:agents[n].play_times]).count(1)/len(agents[n].own_memory[:agents[n].play_times]),\n",
    "                list(agents[n].opponent_memory[:agents[n].play_times]).count(1)/len(agents[n].opponent_memory[:agents[n].play_times])))\n",
    "print('The reward for total society: {}'.format(env.running_score/len(agents)))"
   ]
  },
  {
   "cell_type": "code",
   "execution_count": 20,
   "metadata": {
    "pycharm": {
     "name": "#%%\n"
    }
   },
   "outputs": [
    {
     "name": "stdout",
     "output_type": "stream",
     "text": [
      "Agent 0: opponent_idx: [1, 2, 3, 4, 5, 6, 7, 8, 9, 10, 11, 12, 13, 14], counts: [4, 3102, 5, 529, 106, 81, 206, 194, 60, 10, 169, 418, 13, 95] rewards: [0.5, 1.1376531270148291, 1.8, 1.0189035916824196, 1.990566037735849, 0.9753086419753086, 1.266990291262136, 1.0360824742268042, 1.1166666666666667, 2.0, 1.017751479289941, 1.0287081339712918, 2.076923076923077, 1.0736842105263158]\n",
      "Agent 1: opponent_idx: [0, 2, 3, 4, 5, 6, 7, 8, 9, 10, 11, 12, 13, 14], counts: [842, 115, 2288, 251, 173, 233, 98, 127, 59, 38, 113, 148, 460, 47] rewards: [1.0831353919239906, 1.0695652173913044, 1.1350524475524475, 1.0318725099601593, 1.0809248554913296, 1.0600858369098713, 1.0, 1.1023622047244095, 1.0508474576271187, 1.0789473684210527, 1.0707964601769913, 1.0337837837837838, 1.1978260869565218, 1.297872340425532]\n",
      "Agent 2: opponent_idx: [0, 1, 3, 4, 5, 6, 7, 8, 9, 10, 11, 12, 13, 14], counts: [5, 268, 10, 174, 80, 4, 5, 163, 5, 3642, 189, 243, 200, 4] rewards: [0.6, 1.0186567164179106, 3.1, 1.9367816091954022, 1.475, 2.75, 1.2, 1.0122699386503067, 2.0, 1.1109280615046677, 1.0211640211640212, 1.0493827160493827, 1.06, 2.75]\n",
      "Agent 3: opponent_idx: [0, 1, 2, 4, 5, 6, 7, 8, 9, 10, 11, 12, 13, 14], counts: [99, 29, 175, 216, 124, 91, 8, 55, 88, 111, 209, 125, 2, 3660] rewards: [0.9797979797979798, 1.1379310344827587, 1.0, 1.0648148148148149, 1.1129032258064515, 1.043956043956044, 1.125, 1.2363636363636363, 1.0227272727272727, 1.054054054054054, 1.1483253588516746, 1.064, 1.0, 1.118032786885246]\n",
      "Agent 4: opponent_idx: [0, 1, 2, 3, 5, 6, 7, 8, 9, 10, 11, 12, 13, 14], counts: [6, 47, 157, 6, 171, 50, 462, 594, 9, 22, 100, 3337, 24, 7] rewards: [0.8333333333333334, 1.0851063829787233, 1.8407643312101911, 0.8333333333333334, 1.0175438596491229, 1.2, 1.0649350649350648, 1.0404040404040404, 1.4444444444444444, 1.4545454545454546, 1.07, 1.1180701228648486, 1.0833333333333333, 3.2857142857142856]\n",
      "Agent 5: opponent_idx: [0, 1, 2, 3, 4, 6, 7, 8, 9, 10, 11, 12, 13, 14], counts: [195, 225, 62, 2266, 30, 28, 364, 573, 56, 85, 12, 87, 13, 996] rewards: [2.0358974358974358, 1.1288888888888888, 1.1451612903225807, 1.0503089143865842, 1.1333333333333333, 1.4285714285714286, 1.043956043956044, 1.012216404886562, 1.1071428571428572, 1.011764705882353, 2.1666666666666665, 1.0229885057471264, 1.2307692307692308, 1.035140562248996]\n",
      "Agent 6: opponent_idx: [0, 1, 2, 3, 4, 5, 7, 8, 9, 10, 11, 12, 13, 14], counts: [81, 6, 10, 74, 3228, 6, 58, 62, 309, 84, 385, 78, 453, 158] rewards: [1.2345679012345678, 1.1666666666666667, 2.1, 1.027027027027027, 1.1449814126394051, 1.6666666666666667, 1.1724137931034482, 1.1290322580645162, 1.022653721682848, 1.0595238095238095, 1.0987012987012987, 1.0512820512820513, 1.0242825607064017, 1.0759493670886076]\n",
      "Agent 7: opponent_idx: [0, 1, 2, 3, 4, 5, 6, 8, 9, 10, 11, 12, 13, 14], counts: [96, 544, 232, 121, 2, 510, 79, 348, 43, 243, 179, 1514, 262, 819] rewards: [1.1041666666666667, 1.0404411764705883, 1.0689655172413792, 1.1322314049586777, 3.0, 1.0607843137254902, 0.9873417721518988, 1.0057471264367817, 1.372093023255814, 1.0658436213991769, 1.0335195530726258, 1.1367239101717306, 1.0458015267175573, 1.0183150183150182]\n",
      "Agent 8: opponent_idx: [0, 1, 2, 3, 4, 5, 6, 7, 9, 10, 11, 12, 13, 14], counts: [116, 181, 69, 24, 102, 210, 3633, 25, 154, 113, 74, 130, 72, 89] rewards: [1.1551724137931034, 0.994475138121547, 0.9130434782608695, 1.3333333333333333, 1.0196078431372548, 1.0333333333333334, 1.1483622350674374, 1.28, 1.025974025974026, 1.0442477876106195, 1.1486486486486487, 1.0461538461538462, 1.2222222222222223, 1.2134831460674158]\n",
      "Agent 9: opponent_idx: [0, 1, 2, 3, 4, 5, 6, 7, 8, 10, 11, 12, 13, 14], counts: [249, 5, 211, 379, 291, 13, 146, 101, 76, 7, 16, 252, 3105, 141] rewards: [1.0281124497991967, 1.6, 0.9620853080568721, 1.0211081794195251, 1.1134020618556701, 1.8461538461538463, 1.1575342465753424, 1.0594059405940595, 1.1710526315789473, 1.7142857142857142, 1.0, 1.003968253968254, 1.1297906602254428, 1.0425531914893618]\n",
      "Agent 10: opponent_idx: [0, 1, 2, 3, 4, 5, 6, 7, 8, 9, 11, 12, 13, 14], counts: [27, 9, 14, 11, 9, 6, 207, 1349, 13, 96, 3194, 10, 30, 17] rewards: [0.9259259259259259, 2.0, 1.5, 3.272727272727273, 1.4444444444444444, 0.8333333333333334, 1.0434782608695652, 1.028910303928836, 1.4615384615384615, 2.75, 1.177207263619286, 1.7, 1.2666666666666666, 0.8823529411764706]\n",
      "Agent 11: opponent_idx: [0, 1, 2, 3, 4, 5, 6, 7, 8, 9, 10, 12, 13, 14], counts: [276, 62, 7, 222, 97, 14, 368, 210, 2581, 601, 14, 182, 85, 273] rewards: [1.3079710144927537, 1.2741935483870968, 0.8571428571428571, 1.045045045045045, 1.8969072164948453, 1.7142857142857142, 1.0380434782608696, 1.0142857142857142, 1.1925610228593568, 1.0449251247920133, 2.357142857142857, 1.0494505494505495, 1.1058823529411765, 1.0622710622710623]\n",
      "Agent 12: opponent_idx: [0, 1, 2, 3, 4, 5, 6, 7, 8, 9, 10, 11, 13, 14], counts: [78, 63, 372, 9, 60, 308, 92, 61, 806, 379, 83, 225, 4, 2452] rewards: [1.0512820512820513, 1.0476190476190477, 1.043010752688172, 3.2222222222222223, 1.1166666666666667, 1.0454545454545454, 0.9891304347826086, 1.2459016393442623, 1.0421836228287842, 1.0263852242744063, 1.8072289156626506, 0.9822222222222222, 3.0, 1.1598694942903751]\n",
      "Agent 13: opponent_idx: [0, 1, 2, 3, 4, 5, 6, 7, 8, 9, 10, 11, 12, 14], counts: [196, 79, 50, 42, 32, 748, 69, 11, 225, 3265, 188, 70, 7, 10] rewards: [1.0510204081632653, 1.1012658227848102, 1.04, 0.9523809523809523, 1.21875, 1.054812834224599, 1.0724637681159421, 3.0, 1.031111111111111, 1.1868300153139357, 1.9042553191489362, 1.1142857142857143, 2.4285714285714284, 1.5]\n",
      "Agent 14: opponent_idx: [0, 1, 2, 3, 4, 5, 6, 7, 8, 9, 10, 11, 12, 13], counts: [10, 211, 810, 3, 948, 1, 926, 47, 252, 19, 51, 130, 4, 1580] rewards: [1.7, 1.8104265402843602, 1.017283950617284, 3.6666666666666665, 1.020042194092827, 5.0, 1.0259179265658747, 1.0212765957446808, 1.1150793650793651, 1.2105263157894737, 1.2156862745098038, 1.123076923076923, 0.25, 1.1670886075949367]\n"
     ]
    }
   ],
   "source": [
    "def get_index_from_action(action, idx):\n",
    "    scale = lambda x: x+1 if x>=idx else x\n",
    "    return list(map(scale, action))\n",
    "\n",
    "for idx in agents:\n",
    "    transitions = agents[idx].SelectMemory.memory\n",
    "    _, actions, rewards, _ = zip(*transitions)\n",
    "    actions = get_index_from_action(np.array(actions, dtype=int), idx)\n",
    "    actions, rewards = np.array(actions), np.array(rewards)\n",
    "    print(f'Agent {idx}:', end='')\n",
    "    values, counts = np.unique(actions, return_counts=True)\n",
    "    print(f' opponent_idx: {list(values)}, counts: {list(counts)} ', end='')\n",
    "    dict_idx = {x: rewards[np.where(actions == x)] for x in values}\n",
    "    print(f'rewards: {[np.mean(y) for _, y in dict_idx.items()]}')\n",
    "    # print(f'rewards: {[np.std(y) for _, y in dict_idx.items()]}')\n",
    "# plt.plot(actions)\n",
    "# plt.show()\n",
    "# print(rewards)"
   ]
  }
 ],
 "metadata": {
  "kernelspec": {
   "display_name": "Python 3 (ipykernel)",
   "language": "python",
   "name": "python3"
  },
  "language_info": {
   "codemirror_mode": {
    "name": "ipython",
    "version": 3
   },
   "file_extension": ".py",
   "mimetype": "text/x-python",
   "name": "python",
   "nbconvert_exporter": "python",
   "pygments_lexer": "ipython3",
   "version": "3.9.13"
  },
  "vscode": {
   "interpreter": {
    "hash": "ad2bdc8ecc057115af97d19610ffacc2b4e99fae6737bb82f5d7fb13d2f2c186"
   }
  }
 },
 "nbformat": 4,
 "nbformat_minor": 2
}